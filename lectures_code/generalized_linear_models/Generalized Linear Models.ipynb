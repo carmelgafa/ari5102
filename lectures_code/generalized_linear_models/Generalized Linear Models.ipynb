{
 "cells": [
  {
   "cell_type": "code",
   "execution_count": 4,
   "metadata": {
    "colab": {
     "base_uri": "https://localhost:8080/"
    },
    "executionInfo": {
     "elapsed": 31464,
     "status": "ok",
     "timestamp": 1680088458413,
     "user": {
      "displayName": "Konstantinos Makantasis",
      "userId": "07935674197300532491"
     },
     "user_tz": -120
    },
    "id": "ZPIME8M2pYjd",
    "outputId": "ec49627f-51a2-46a7-8a71-ed69cb6fcb04"
   },
   "outputs": [],
   "source": [
    "import numpy as np\n",
    "import pandas as pd\n",
    "import statsmodels.formula.api as smf\n",
    "import matplotlib.pyplot as plt\n",
    "import statsmodels.api as sm\n",
    "import scipy.stats as stats\n",
    "import seaborn as sns\n",
    "sns.set_theme()\n",
    "\n",
    "from sklearn.linear_model import LogisticRegression\n",
    "from sklearn.preprocessing import StandardScaler\n",
    "\n",
    "# from google.colab import drive\n",
    "# drive.mount('/content/drive')"
   ]
  },
  {
   "cell_type": "code",
   "execution_count": 8,
   "metadata": {
    "colab": {
     "base_uri": "https://localhost:8080/",
     "height": 413
    },
    "executionInfo": {
     "elapsed": 2257,
     "status": "ok",
     "timestamp": 1680088460656,
     "user": {
      "displayName": "Konstantinos Makantasis",
      "userId": "07935674197300532491"
     },
     "user_tz": -120
    },
    "id": "gmkVeIIepitq",
    "outputId": "3d014efb-04e4-4e08-8bd6-98a4934dff7b"
   },
   "outputs": [
    {
     "name": "stderr",
     "output_type": "stream",
     "text": [
      "C:\\Users\\carme\\AppData\\Local\\Temp\\ipykernel_8452\\67374564.py:2: ParserWarning: Falling back to the 'python' engine because the 'c' engine does not support regex separators (separators > 1 char and different from '\\s+' are interpreted as regex); you can avoid this warning by specifying engine='python'.\n",
      "  Houses =pd.read_csv('Houses.dat', sep='\\s+|\\s+')\n"
     ]
    },
    {
     "data": {
      "text/html": [
       "<div>\n",
       "<style scoped>\n",
       "    .dataframe tbody tr th:only-of-type {\n",
       "        vertical-align: middle;\n",
       "    }\n",
       "\n",
       "    .dataframe tbody tr th {\n",
       "        vertical-align: top;\n",
       "    }\n",
       "\n",
       "    .dataframe thead th {\n",
       "        text-align: right;\n",
       "    }\n",
       "</style>\n",
       "<table border=\"1\" class=\"dataframe\">\n",
       "  <thead>\n",
       "    <tr style=\"text-align: right;\">\n",
       "      <th></th>\n",
       "      <th>case</th>\n",
       "      <th>price</th>\n",
       "      <th>size</th>\n",
       "      <th>new</th>\n",
       "      <th>taxes</th>\n",
       "      <th>bedrooms</th>\n",
       "      <th>baths</th>\n",
       "    </tr>\n",
       "  </thead>\n",
       "  <tbody>\n",
       "    <tr>\n",
       "      <th>0</th>\n",
       "      <td>1</td>\n",
       "      <td>419.85</td>\n",
       "      <td>2048</td>\n",
       "      <td>0</td>\n",
       "      <td>3104</td>\n",
       "      <td>4</td>\n",
       "      <td>2</td>\n",
       "    </tr>\n",
       "    <tr>\n",
       "      <th>1</th>\n",
       "      <td>2</td>\n",
       "      <td>219.75</td>\n",
       "      <td>912</td>\n",
       "      <td>0</td>\n",
       "      <td>1173</td>\n",
       "      <td>2</td>\n",
       "      <td>1</td>\n",
       "    </tr>\n",
       "    <tr>\n",
       "      <th>2</th>\n",
       "      <td>3</td>\n",
       "      <td>356.55</td>\n",
       "      <td>1654</td>\n",
       "      <td>0</td>\n",
       "      <td>3076</td>\n",
       "      <td>4</td>\n",
       "      <td>2</td>\n",
       "    </tr>\n",
       "    <tr>\n",
       "      <th>3</th>\n",
       "      <td>4</td>\n",
       "      <td>300.00</td>\n",
       "      <td>2068</td>\n",
       "      <td>0</td>\n",
       "      <td>1608</td>\n",
       "      <td>3</td>\n",
       "      <td>2</td>\n",
       "    </tr>\n",
       "    <tr>\n",
       "      <th>4</th>\n",
       "      <td>5</td>\n",
       "      <td>239.85</td>\n",
       "      <td>1477</td>\n",
       "      <td>0</td>\n",
       "      <td>1454</td>\n",
       "      <td>3</td>\n",
       "      <td>3</td>\n",
       "    </tr>\n",
       "    <tr>\n",
       "      <th>5</th>\n",
       "      <td>6</td>\n",
       "      <td>749.85</td>\n",
       "      <td>3153</td>\n",
       "      <td>1</td>\n",
       "      <td>2997</td>\n",
       "      <td>3</td>\n",
       "      <td>2</td>\n",
       "    </tr>\n",
       "    <tr>\n",
       "      <th>6</th>\n",
       "      <td>7</td>\n",
       "      <td>398.25</td>\n",
       "      <td>1355</td>\n",
       "      <td>0</td>\n",
       "      <td>4054</td>\n",
       "      <td>3</td>\n",
       "      <td>2</td>\n",
       "    </tr>\n",
       "    <tr>\n",
       "      <th>7</th>\n",
       "      <td>8</td>\n",
       "      <td>434.85</td>\n",
       "      <td>2075</td>\n",
       "      <td>1</td>\n",
       "      <td>3002</td>\n",
       "      <td>3</td>\n",
       "      <td>2</td>\n",
       "    </tr>\n",
       "    <tr>\n",
       "      <th>8</th>\n",
       "      <td>9</td>\n",
       "      <td>880.50</td>\n",
       "      <td>3990</td>\n",
       "      <td>0</td>\n",
       "      <td>6627</td>\n",
       "      <td>5</td>\n",
       "      <td>4</td>\n",
       "    </tr>\n",
       "    <tr>\n",
       "      <th>9</th>\n",
       "      <td>10</td>\n",
       "      <td>105.00</td>\n",
       "      <td>1160</td>\n",
       "      <td>0</td>\n",
       "      <td>320</td>\n",
       "      <td>3</td>\n",
       "      <td>2</td>\n",
       "    </tr>\n",
       "  </tbody>\n",
       "</table>\n",
       "</div>"
      ],
      "text/plain": [
       "   case   price  size  new  taxes  bedrooms  baths\n",
       "0     1  419.85  2048    0   3104         4      2\n",
       "1     2  219.75   912    0   1173         2      1\n",
       "2     3  356.55  1654    0   3076         4      2\n",
       "3     4  300.00  2068    0   1608         3      2\n",
       "4     5  239.85  1477    0   1454         3      3\n",
       "5     6  749.85  3153    1   2997         3      2\n",
       "6     7  398.25  1355    0   4054         3      2\n",
       "7     8  434.85  2075    1   3002         3      2\n",
       "8     9  880.50  3990    0   6627         5      4\n",
       "9    10  105.00  1160    0    320         3      2"
      ]
     },
     "execution_count": 8,
     "metadata": {},
     "output_type": "execute_result"
    }
   ],
   "source": [
    "# Houses = pd.read_csv(\"/content/drive/My Drive/ICT - AI/Study Units/ARI5102 - Data Analysis Techniques/4. Generalized Linear Models/Houses.dat\", sep='\\s+|\\s+')\n",
    "Houses =pd.read_csv('Houses.dat', sep='\\s+|\\s+')\n",
    "Houses.head(10)"
   ]
  },
  {
   "cell_type": "code",
   "execution_count": 9,
   "metadata": {
    "colab": {
     "base_uri": "https://localhost:8080/",
     "height": 423
    },
    "executionInfo": {
     "elapsed": 3217,
     "status": "ok",
     "timestamp": 1680088463867,
     "user": {
      "displayName": "Konstantinos Makantasis",
      "userId": "07935674197300532491"
     },
     "user_tz": -120
    },
    "id": "ohP-gqnUqCRR",
    "outputId": "78236ecc-503d-4c7c-a1c2-f3304e6a91eb"
   },
   "outputs": [
    {
     "name": "stderr",
     "output_type": "stream",
     "text": [
      "f:\\work\\masters-ai\\ari5102\\.venv\\lib\\site-packages\\seaborn\\axisgrid.py:2100: UserWarning: The `size` parameter has been renamed to `height`; please update your code.\n",
      "  warnings.warn(msg, UserWarning)\n"
     ]
    },
    {
     "data": {
      "text/plain": [
       "<seaborn.axisgrid.PairGrid at 0x21ad7888400>"
      ]
     },
     "execution_count": 9,
     "metadata": {},
     "output_type": "execute_result"
    },
    {
     "data": {
      "image/png": "[encoded data removed]",
      "text/plain": [
       "<Figure size 583x500 with 1 Axes>"
      ]
     },
     "metadata": {},
     "output_type": "display_data"
    }
   ],
   "source": [
    "Houses['house'] = Houses['new'].apply(lambda x: 'old' if x==0 else 'new')\n",
    "sns.pairplot(x_vars=['size'], y_vars=['price'], data=Houses, hue='house', size=5, markers=['^', 'o'])"
   ]
  },
  {
   "cell_type": "code",
   "execution_count": 10,
   "metadata": {
    "colab": {
     "base_uri": "https://localhost:8080/"
    },
    "executionInfo": {
     "elapsed": 32,
     "status": "ok",
     "timestamp": 1680088463868,
     "user": {
      "displayName": "Konstantinos Makantasis",
      "userId": "07935674197300532491"
     },
     "user_tz": -120
    },
    "id": "nDFTemeHqla1",
    "outputId": "1862696e-b937-4244-ca61-3116194e5684"
   },
   "outputs": [
    {
     "name": "stdout",
     "output_type": "stream",
     "text": [
      "                 Generalized Linear Model Regression Results                  \n",
      "==============================================================================\n",
      "Dep. Variable:                  price   No. Observations:                  100\n",
      "Model:                            GLM   Df Residuals:                       96\n",
      "Model Family:                Gaussian   Df Model:                            3\n",
      "Link Function:               Identity   Scale:                          6083.6\n",
      "Method:                          IRLS   Log-Likelihood:                -575.52\n",
      "Date:                Sun, 18 May 2025   Deviance:                   5.8402e+05\n",
      "Time:                        18:19:37   Pearson chi2:                 5.84e+05\n",
      "No. Iterations:                     3   Pseudo R-squ. (CS):             0.9389\n",
      "Covariance Type:            nonrobust                                         \n",
      "==============================================================================\n",
      "                 coef    std err          z      P>|z|      [0.025      0.975]\n",
      "------------------------------------------------------------------------------\n",
      "Intercept    -33.3417     23.282     -1.432      0.152     -78.973      12.290\n",
      "size           0.1567      0.014     11.082      0.000       0.129       0.184\n",
      "new         -117.7913     76.511     -1.540      0.124    -267.751      32.168\n",
      "size:new       0.0929      0.033      2.855      0.004       0.029       0.157\n",
      "==============================================================================\n",
      "Null deviance is 2284086.5\n",
      "Residual deviance is 584021.5\n",
      "AIC is 1159.0\n"
     ]
    }
   ],
   "source": [
    "fit1 = smf.glm(formula = 'price ~ size + new + size:new', data = Houses,\n",
    "               family = sm.families.Gaussian()).fit()\n",
    "print(fit1.summary())\n",
    "print('Null deviance is {:.1f}'.format(fit1.null_deviance))\n",
    "print('Residual deviance is {:.1f}'.format(fit1.deviance))\n",
    "print('AIC is {:.1f}'.format(fit1.aic))"
   ]
  },
  {
   "cell_type": "code",
   "execution_count": 11,
   "metadata": {
    "colab": {
     "base_uri": "https://localhost:8080/"
    },
    "executionInfo": {
     "elapsed": 25,
     "status": "ok",
     "timestamp": 1680088463868,
     "user": {
      "displayName": "Konstantinos Makantasis",
      "userId": "07935674197300532491"
     },
     "user_tz": -120
    },
    "id": "h-GzNy1iq0nC",
    "outputId": "2cde09d4-52aa-426a-f605-8e7c32074d25"
   },
   "outputs": [
    {
     "name": "stdout",
     "output_type": "stream",
     "text": [
      "                 Generalized Linear Model Regression Results                  \n",
      "==============================================================================\n",
      "Dep. Variable:                  price   No. Observations:                  100\n",
      "Model:                            GLM   Df Residuals:                       96\n",
      "Model Family:                   Gamma   Df Model:                            3\n",
      "Link Function:               identity   Scale:                         0.11020\n",
      "Method:                          IRLS   Log-Likelihood:                -559.60\n",
      "Date:                Sun, 18 May 2025   Deviance:                       10.563\n",
      "Time:                        18:19:40   Pearson chi2:                     10.6\n",
      "No. Iterations:                    11   Pseudo R-squ. (CS):             0.8563\n",
      "Covariance Type:            nonrobust                                         \n",
      "==============================================================================\n",
      "                 coef    std err          z      P>|z|      [0.025      0.975]\n",
      "------------------------------------------------------------------------------\n",
      "Intercept    -11.1764     19.461     -0.574      0.566     -49.320      26.967\n",
      "size           0.1417      0.015      9.396      0.000       0.112       0.171\n",
      "new         -116.8569     96.873     -1.206      0.228    -306.725      73.011\n",
      "size:new       0.0974      0.055      1.769      0.077      -0.011       0.205\n",
      "==============================================================================\n",
      "Null deviance is 31.9\n",
      "Residual deviance is 10.6\n",
      "AIC is 1127.2\n"
     ]
    },
    {
     "name": "stderr",
     "output_type": "stream",
     "text": [
      "f:\\work\\masters-ai\\ari5102\\.venv\\lib\\site-packages\\statsmodels\\genmod\\families\\links.py:13: FutureWarning: The identity link alias is deprecated. Use Identity instead. The identity link alias will be removed after the 0.15.0 release.\n",
      "  warnings.warn(\n",
      "f:\\work\\masters-ai\\ari5102\\.venv\\lib\\site-packages\\statsmodels\\genmod\\generalized_linear_model.py:308: DomainWarning: The identity link function does not respect the domain of the Gamma family.\n",
      "  warnings.warn((f\"The {type(family.link).__name__} link function \"\n"
     ]
    }
   ],
   "source": [
    "gamma_mod = smf.glm(formula = 'price ~ size + new + size:new', data = Houses, \n",
    "                    family = sm.families.Gamma(sm.families.links.identity()))\n",
    "fit2 = gamma_mod.fit()\n",
    "print(fit2.summary())\n",
    "print('Null deviance is {:.1f}'.format(fit2.null_deviance))\n",
    "print('Residual deviance is {:.1f}'.format(fit2.deviance))\n",
    "print('AIC is {:.1f}'.format(fit2.aic))"
   ]
  },
  {
   "cell_type": "code",
   "execution_count": null,
   "metadata": {
    "colab": {
     "base_uri": "https://localhost:8080/"
    },
    "executionInfo": {
     "elapsed": 651,
     "status": "ok",
     "timestamp": 1680088464503,
     "user": {
      "displayName": "Konstantinos Makantasis",
      "userId": "07935674197300532491"
     },
     "user_tz": -120
    },
    "id": "T1xML2HnIx3U",
    "outputId": "00206d81-e7b7-4963-c558-c23dcc038f22"
   },
   "outputs": [
    {
     "name": "stderr",
     "output_type": "stream",
     "text": [
      "<ipython-input-7-d7ed36c61807>:1: ParserWarning: Falling back to the 'python' engine because the 'c' engine does not support regex separators (separators > 1 char and different from '\\s+' are interpreted as regex); you can avoid this warning by specifying engine='python'.\n",
      "  Covid = pd.read_csv(\"/content/drive/My Drive/ICT - AI/Study Units/ARI5102 - Data Analysis Techniques/4. Generalized Linear Models/Covid19.dat\", sep='\\s+|\\s+')\n"
     ]
    }
   ],
   "source": [
    "Covid = pd.read_csv(\"/content/drive/My Drive/ICT - AI/Study Units/ARI5102 - Data Analysis Techniques/4. Generalized Linear Models/Covid19.dat\", sep='\\s+|\\s+')\n"
   ]
  },
  {
   "cell_type": "code",
   "execution_count": null,
   "metadata": {
    "colab": {
     "base_uri": "https://localhost:8080/"
    },
    "executionInfo": {
     "elapsed": 22,
     "status": "ok",
     "timestamp": 1680088464504,
     "user": {
      "displayName": "Konstantinos Makantasis",
      "userId": "07935674197300532491"
     },
     "user_tz": -120
    },
    "id": "t9F3Vl9RI2yA",
    "outputId": "55f1e21e-f64e-4acc-9805-f11960d469e5"
   },
   "outputs": [
    {
     "name": "stdout",
     "output_type": "stream",
     "text": [
      "                            OLS Regression Results                            \n",
      "==============================================================================\n",
      "Dep. Variable:          np.log(cases)   R-squared:                       0.994\n",
      "Model:                            OLS   Adj. R-squared:                  0.993\n",
      "Method:                 Least Squares   F-statistic:                     4540.\n",
      "Date:                Wed, 29 Mar 2023   Prob (F-statistic):           2.02e-33\n",
      "Time:                        11:14:24   Log-Likelihood:                 2.8442\n",
      "No. Observations:                  31   AIC:                            -1.688\n",
      "Df Residuals:                      29   BIC:                             1.180\n",
      "Df Model:                           1                                         \n",
      "Covariance Type:            nonrobust                                         \n",
      "==============================================================================\n",
      "                 coef    std err          t      P>|t|      [0.025      0.975]\n",
      "------------------------------------------------------------------------------\n",
      "Intercept      2.8439      0.084     33.850      0.000       2.672       3.016\n",
      "day            0.3088      0.005     67.377      0.000       0.299       0.318\n",
      "==============================================================================\n",
      "Omnibus:                        3.668   Durbin-Watson:                   0.273\n",
      "Prob(Omnibus):                  0.160   Jarque-Bera (JB):                3.123\n",
      "Skew:                          -0.770   Prob(JB):                        0.210\n",
      "Kurtosis:                       2.785   Cond. No.                         37.7\n",
      "==============================================================================\n",
      "\n",
      "Notes:\n",
      "[1] Standard Errors assume that the covariance matrix of the errors is correctly specified.\n"
     ]
    }
   ],
   "source": [
    "fit1 = smf.ols(formula='np.log(cases) ~ day', data=Covid).fit()\n",
    "print(fit1.summary())"
   ]
  },
  {
   "cell_type": "code",
   "execution_count": null,
   "metadata": {
    "colab": {
     "base_uri": "https://localhost:8080/"
    },
    "executionInfo": {
     "elapsed": 16,
     "status": "ok",
     "timestamp": 1680088464505,
     "user": {
      "displayName": "Konstantinos Makantasis",
      "userId": "07935674197300532491"
     },
     "user_tz": -120
    },
    "id": "IqEDQ67KJqWF",
    "outputId": "45ece386-143f-4d0f-827e-e8239a17cdca"
   },
   "outputs": [
    {
     "name": "stdout",
     "output_type": "stream",
     "text": [
      "                 Generalized Linear Model Regression Results                  \n",
      "==============================================================================\n",
      "Dep. Variable:                  cases   No. Observations:                   31\n",
      "Model:                            GLM   Df Residuals:                       29\n",
      "Model Family:                Gaussian   Df Model:                            1\n",
      "Link Function:                    log   Scale:                      1.1565e+07\n",
      "Method:                          IRLS   Log-Likelihood:                -295.07\n",
      "Date:                Wed, 29 Mar 2023   Deviance:                   3.3540e+08\n",
      "Time:                        11:14:24   Pearson chi2:                 3.35e+08\n",
      "No. Iterations:                     9   Pseudo R-squ. (CS):              1.000\n",
      "Covariance Type:            nonrobust                                         \n",
      "==============================================================================\n",
      "                 coef    std err          z      P>|z|      [0.025      0.975]\n",
      "------------------------------------------------------------------------------\n",
      "Intercept      5.3159      0.168     31.703      0.000       4.987       5.645\n",
      "day            0.2129      0.006     37.090      0.000       0.202       0.224\n",
      "==============================================================================\n",
      "AIC is 594.1\n"
     ]
    }
   ],
   "source": [
    "fit2 = smf.glm(formula = 'cases ~ day', family = sm.families.Gaussian(link = sm.families.links.log()), data = Covid).fit()\n",
    "print(fit2.summary())\n",
    "print('AIC is {:.1f}'.format(fit2.aic))"
   ]
  },
  {
   "cell_type": "code",
   "execution_count": null,
   "metadata": {
    "colab": {
     "base_uri": "https://localhost:8080/"
    },
    "executionInfo": {
     "elapsed": 12,
     "status": "ok",
     "timestamp": 1680088464506,
     "user": {
      "displayName": "Konstantinos Makantasis",
      "userId": "07935674197300532491"
     },
     "user_tz": -120
    },
    "id": "ixJjd1Z7JxeT",
    "outputId": "add734a5-8b19-4482-fae8-e98d329b130d"
   },
   "outputs": [
    {
     "name": "stdout",
     "output_type": "stream",
     "text": [
      "                 Generalized Linear Model Regression Results                  \n",
      "==============================================================================\n",
      "Dep. Variable:                  cases   No. Observations:                   31\n",
      "Model:                            GLM   Df Residuals:                       29\n",
      "Model Family:                   Gamma   Df Model:                            1\n",
      "Link Function:                    log   Scale:                        0.044082\n",
      "Method:                          IRLS   Log-Likelihood:                -237.69\n",
      "Date:                Wed, 29 Mar 2023   Deviance:                       1.4239\n",
      "Time:                        11:14:24   Pearson chi2:                     1.28\n",
      "No. Iterations:                    18   Pseudo R-squ. (CS):              1.000\n",
      "Covariance Type:            nonrobust                                         \n",
      "==============================================================================\n",
      "                 coef    std err          z      P>|z|      [0.025      0.975]\n",
      "------------------------------------------------------------------------------\n",
      "Intercept      2.8572      0.077     36.972      0.000       2.706       3.009\n",
      "day            0.3094      0.004     73.388      0.000       0.301       0.318\n",
      "==============================================================================\n",
      "AIC is 479.4\n"
     ]
    }
   ],
   "source": [
    "fit3 = smf.glm(formula = 'cases ~ day', family = sm.families.Gamma(link = sm.families.links.log()), data = Covid).fit()\n",
    "print(fit3.summary())\n",
    "print('AIC is {:.1f}'.format(fit3.aic))"
   ]
  },
  {
   "cell_type": "code",
   "execution_count": null,
   "metadata": {
    "colab": {
     "base_uri": "https://localhost:8080/",
     "height": 351
    },
    "executionInfo": {
     "elapsed": 497,
     "status": "ok",
     "timestamp": 1680088464995,
     "user": {
      "displayName": "Konstantinos Makantasis",
      "userId": "07935674197300532491"
     },
     "user_tz": -120
    },
    "id": "jSSB6yTIoSPc",
    "outputId": "16524e45-97da-4bb1-fb05-aa490abcc262"
   },
   "outputs": [
    {
     "name": "stderr",
     "output_type": "stream",
     "text": [
      "<ipython-input-11-ce8641ca7522>:1: ParserWarning: Falling back to the 'python' engine because the 'c' engine does not support regex separators (separators > 1 char and different from '\\s+' are interpreted as regex); you can avoid this warning by specifying engine='python'.\n",
      "  Beetles = pd.read_csv(\"/content/drive/My Drive/ICT - AI/Study Units/ARI5102 - Data Analysis Techniques/4. Generalized Linear Models/Beetles.dat\", sep='\\s+|\\s+')\n"
     ]
    },
    {
     "data": {
      "text/html": [
       "\n",
       "  <div id=\"df-bc88848b-0952-48da-81c6-ffd1ef01b9ad\">\n",
       "    <div class=\"colab-df-container\">\n",
       "      <div>\n",
       "<style scoped>\n",
       "    .dataframe tbody tr th:only-of-type {\n",
       "        vertical-align: middle;\n",
       "    }\n",
       "\n",
       "    .dataframe tbody tr th {\n",
       "        vertical-align: top;\n",
       "    }\n",
       "\n",
       "    .dataframe thead th {\n",
       "        text-align: right;\n",
       "    }\n",
       "</style>\n",
       "<table border=\"1\" class=\"dataframe\">\n",
       "  <thead>\n",
       "    <tr style=\"text-align: right;\">\n",
       "      <th></th>\n",
       "      <th>logdose</th>\n",
       "      <th>live</th>\n",
       "      <th>dead</th>\n",
       "      <th>n</th>\n",
       "    </tr>\n",
       "  </thead>\n",
       "  <tbody>\n",
       "    <tr>\n",
       "      <th>0</th>\n",
       "      <td>1.691</td>\n",
       "      <td>53</td>\n",
       "      <td>6</td>\n",
       "      <td>59</td>\n",
       "    </tr>\n",
       "    <tr>\n",
       "      <th>1</th>\n",
       "      <td>1.724</td>\n",
       "      <td>47</td>\n",
       "      <td>13</td>\n",
       "      <td>60</td>\n",
       "    </tr>\n",
       "    <tr>\n",
       "      <th>2</th>\n",
       "      <td>1.755</td>\n",
       "      <td>44</td>\n",
       "      <td>18</td>\n",
       "      <td>62</td>\n",
       "    </tr>\n",
       "    <tr>\n",
       "      <th>3</th>\n",
       "      <td>1.784</td>\n",
       "      <td>28</td>\n",
       "      <td>28</td>\n",
       "      <td>56</td>\n",
       "    </tr>\n",
       "    <tr>\n",
       "      <th>4</th>\n",
       "      <td>1.811</td>\n",
       "      <td>11</td>\n",
       "      <td>52</td>\n",
       "      <td>63</td>\n",
       "    </tr>\n",
       "    <tr>\n",
       "      <th>5</th>\n",
       "      <td>1.837</td>\n",
       "      <td>6</td>\n",
       "      <td>53</td>\n",
       "      <td>59</td>\n",
       "    </tr>\n",
       "    <tr>\n",
       "      <th>6</th>\n",
       "      <td>1.861</td>\n",
       "      <td>1</td>\n",
       "      <td>61</td>\n",
       "      <td>62</td>\n",
       "    </tr>\n",
       "    <tr>\n",
       "      <th>7</th>\n",
       "      <td>1.884</td>\n",
       "      <td>0</td>\n",
       "      <td>60</td>\n",
       "      <td>60</td>\n",
       "    </tr>\n",
       "  </tbody>\n",
       "</table>\n",
       "</div>\n",
       "      <button class=\"colab-df-convert\" onclick=\"convertToInteractive('df-bc88848b-0952-48da-81c6-ffd1ef01b9ad')\"\n",
       "              title=\"Convert this dataframe to an interactive table.\"\n",
       "              style=\"display:none;\">\n",
       "        \n",
       "  <svg xmlns=\"http://www.w3.org/2000/svg\" height=\"24px\"viewBox=\"0 0 24 24\"\n",
       "       width=\"24px\">\n",
       "    <path d=\"M0 0h24v24H0V0z\" fill=\"none\"/>\n",
       "    <path d=\"M18.56 5.44l.94 2.06.94-2.06 2.06-.94-2.06-.94-.94-2.06-.94 2.06-2.06.94zm-11 1L8.5 8.5l.94-2.06 2.06-.94-2.06-.94L8.5 2.5l-.94 2.06-2.06.94zm10 10l.94 2.06.94-2.06 2.06-.94-2.06-.94-.94-2.06-.94 2.06-2.06.94z\"/><path d=\"M17.41 7.96l-1.37-1.37c-.4-.4-.92-.59-1.43-.59-.52 0-1.04.2-1.43.59L10.3 9.45l-7.72 7.72c-.78.78-.78 2.05 0 2.83L4 21.41c.39.39.9.59 1.41.59.51 0 1.02-.2 1.41-.59l7.78-7.78 2.81-2.81c.8-.78.8-2.07 0-2.86zM5.41 20L4 18.59l7.72-7.72 1.47 1.35L5.41 20z\"/>\n",
       "  </svg>\n",
       "      </button>\n",
       "      \n",
       "  <style>\n",
       "    .colab-df-container {\n",
       "      display:flex;\n",
       "      flex-wrap:wrap;\n",
       "      gap: 12px;\n",
       "    }\n",
       "\n",
       "    .colab-df-convert {\n",
       "      background-color: #E8F0FE;\n",
       "      border: none;\n",
       "      border-radius: 50%;\n",
       "      cursor: pointer;\n",
       "      display: none;\n",
       "      fill: #1967D2;\n",
       "      height: 32px;\n",
       "      padding: 0 0 0 0;\n",
       "      width: 32px;\n",
       "    }\n",
       "\n",
       "    .colab-df-convert:hover {\n",
       "      background-color: #E2EBFA;\n",
       "      box-shadow: 0px 1px 2px rgba(60, 64, 67, 0.3), 0px 1px 3px 1px rgba(60, 64, 67, 0.15);\n",
       "      fill: #174EA6;\n",
       "    }\n",
       "\n",
       "    [theme=dark] .colab-df-convert {\n",
       "      background-color: #3B4455;\n",
       "      fill: #D2E3FC;\n",
       "    }\n",
       "\n",
       "    [theme=dark] .colab-df-convert:hover {\n",
       "      background-color: #434B5C;\n",
       "      box-shadow: 0px 1px 3px 1px rgba(0, 0, 0, 0.15);\n",
       "      filter: drop-shadow(0px 1px 2px rgba(0, 0, 0, 0.3));\n",
       "      fill: #FFFFFF;\n",
       "    }\n",
       "  </style>\n",
       "\n",
       "      <script>\n",
       "        const buttonEl =\n",
       "          document.querySelector('#df-bc88848b-0952-48da-81c6-ffd1ef01b9ad button.colab-df-convert');\n",
       "        buttonEl.style.display =\n",
       "          google.colab.kernel.accessAllowed ? 'block' : 'none';\n",
       "\n",
       "        async function convertToInteractive(key) {\n",
       "          const element = document.querySelector('#df-bc88848b-0952-48da-81c6-ffd1ef01b9ad');\n",
       "          const dataTable =\n",
       "            await google.colab.kernel.invokeFunction('convertToInteractive',\n",
       "                                                     [key], {});\n",
       "          if (!dataTable) return;\n",
       "\n",
       "          const docLinkHtml = 'Like what you see? Visit the ' +\n",
       "            '<a target=\"_blank\" href=https://colab.research.google.com/notebooks/data_table.ipynb>data table notebook</a>'\n",
       "            + ' to learn more about interactive tables.';\n",
       "          element.innerHTML = '';\n",
       "          dataTable['output_type'] = 'display_data';\n",
       "          await google.colab.output.renderOutput(dataTable, element);\n",
       "          const docLink = document.createElement('div');\n",
       "          docLink.innerHTML = docLinkHtml;\n",
       "          element.appendChild(docLink);\n",
       "        }\n",
       "      </script>\n",
       "    </div>\n",
       "  </div>\n",
       "  "
      ],
      "text/plain": [
       "   logdose  live  dead   n\n",
       "0    1.691    53     6  59\n",
       "1    1.724    47    13  60\n",
       "2    1.755    44    18  62\n",
       "3    1.784    28    28  56\n",
       "4    1.811    11    52  63\n",
       "5    1.837     6    53  59\n",
       "6    1.861     1    61  62\n",
       "7    1.884     0    60  60"
      ]
     },
     "execution_count": 11,
     "metadata": {},
     "output_type": "execute_result"
    }
   ],
   "source": [
    "Beetles = pd.read_csv(\"/content/drive/My Drive/ICT - AI/Study Units/ARI5102 - Data Analysis Techniques/4. Generalized Linear Models/Beetles.dat\", sep='\\s+|\\s+')\n",
    "Beetles.head(8)"
   ]
  },
  {
   "cell_type": "code",
   "execution_count": null,
   "metadata": {
    "colab": {
     "base_uri": "https://localhost:8080/"
    },
    "executionInfo": {
     "elapsed": 24,
     "status": "ok",
     "timestamp": 1680088465818,
     "user": {
      "displayName": "Konstantinos Makantasis",
      "userId": "07935674197300532491"
     },
     "user_tz": -120
    },
    "id": "DVGwh-aec_C4",
    "outputId": "886842c8-958b-44d1-d091-fead10f38e8f"
   },
   "outputs": [
    {
     "name": "stdout",
     "output_type": "stream",
     "text": [
      "                 Generalized Linear Model Regression Results                  \n",
      "==============================================================================\n",
      "Dep. Variable:       ['dead', 'live']   No. Observations:                    8\n",
      "Model:                            GLM   Df Residuals:                        6\n",
      "Model Family:                Binomial   Df Model:                            1\n",
      "Link Function:                  Logit   Scale:                          1.0000\n",
      "Method:                          IRLS   Log-Likelihood:                -18.657\n",
      "Date:                Wed, 29 Mar 2023   Deviance:                       11.116\n",
      "Time:                        11:14:24   Pearson chi2:                     9.91\n",
      "No. Iterations:                     6   Pseudo R-squ. (CS):              1.000\n",
      "Covariance Type:            nonrobust                                         \n",
      "==============================================================================\n",
      "                 coef    std err          z      P>|z|      [0.025      0.975]\n",
      "------------------------------------------------------------------------------\n",
      "Intercept    -60.7401      5.182    -11.722      0.000     -70.896     -50.584\n",
      "logdose       34.2859      2.913     11.769      0.000      28.576      39.996\n",
      "==============================================================================\n"
     ]
    }
   ],
   "source": [
    "fit = smf.glm('dead + live ~ logdose', data = Beetles ,family = sm.families.Binomial()).fit()\n",
    "print(fit.summary())"
   ]
  },
  {
   "cell_type": "code",
   "execution_count": null,
   "metadata": {
    "colab": {
     "base_uri": "https://localhost:8080/"
    },
    "executionInfo": {
     "elapsed": 21,
     "status": "ok",
     "timestamp": 1680088465818,
     "user": {
      "displayName": "Konstantinos Makantasis",
      "userId": "07935674197300532491"
     },
     "user_tz": -120
    },
    "id": "Njc6STdwqlte",
    "outputId": "8bf1d1bc-0123-462f-9bf1-a01d8808b42b"
   },
   "outputs": [
    {
     "name": "stderr",
     "output_type": "stream",
     "text": [
      "<ipython-input-13-6581ddc9603c>:1: ParserWarning: Falling back to the 'python' engine because the 'c' engine does not support regex separators (separators > 1 char and different from '\\s+' are interpreted as regex); you can avoid this warning by specifying engine='python'.\n",
      "  Beetles = pd.read_csv(\"/content/drive/My Drive/ICT - AI/Study Units/ARI5102 - Data Analysis Techniques/4. Generalized Linear Models/Beetles_ungrouped.dat\", sep='\\s+|\\s+')\n"
     ]
    }
   ],
   "source": [
    "Beetles = pd.read_csv(\"/content/drive/My Drive/ICT - AI/Study Units/ARI5102 - Data Analysis Techniques/4. Generalized Linear Models/Beetles_ungrouped.dat\", sep='\\s+|\\s+')"
   ]
  },
  {
   "cell_type": "code",
   "execution_count": null,
   "metadata": {
    "colab": {
     "base_uri": "https://localhost:8080/"
    },
    "executionInfo": {
     "elapsed": 15,
     "status": "ok",
     "timestamp": 1680088465819,
     "user": {
      "displayName": "Konstantinos Makantasis",
      "userId": "07935674197300532491"
     },
     "user_tz": -120
    },
    "id": "BlibfbG1dCzc",
    "outputId": "27819ca7-d9a8-4c3a-e364-1487a3908756"
   },
   "outputs": [
    {
     "name": "stdout",
     "output_type": "stream",
     "text": [
      "                 Generalized Linear Model Regression Results                  \n",
      "==============================================================================\n",
      "Dep. Variable:                      y   No. Observations:                  481\n",
      "Model:                            GLM   Df Residuals:                      479\n",
      "Model Family:                Binomial   Df Model:                            1\n",
      "Link Function:                  Logit   Scale:                          1.0000\n",
      "Method:                          IRLS   Log-Likelihood:                -186.18\n",
      "Date:                Wed, 29 Mar 2023   Deviance:                       372.35\n",
      "Time:                        11:14:25   Pearson chi2:                     436.\n",
      "No. Iterations:                     6   Pseudo R-squ. (CS):             0.4332\n",
      "Covariance Type:            nonrobust                                         \n",
      "==============================================================================\n",
      "                 coef    std err          z      P>|z|      [0.025      0.975]\n",
      "------------------------------------------------------------------------------\n",
      "Intercept    -60.7401      5.182    -11.722      0.000     -70.896     -50.584\n",
      "x             34.2859      2.913     11.769      0.000      28.576      39.996\n",
      "==============================================================================\n"
     ]
    }
   ],
   "source": [
    "fit = smf.glm('y ~ x', family = sm.families.Binomial(), data=Beetles).fit()\n",
    "print(fit.summary())"
   ]
  },
  {
   "cell_type": "code",
   "execution_count": null,
   "metadata": {
    "colab": {
     "base_uri": "https://localhost:8080/",
     "height": 302
    },
    "executionInfo": {
     "elapsed": 500,
     "status": "ok",
     "timestamp": 1680088466309,
     "user": {
      "displayName": "Konstantinos Makantasis",
      "userId": "07935674197300532491"
     },
     "user_tz": -120
    },
    "id": "Af35ZbDgo9XV",
    "outputId": "7c4288ee-8204-4f4b-92f8-e2c5f8987d06"
   },
   "outputs": [
    {
     "data": {
      "text/plain": [
       "[Text(0.5, 0, 'x'), Text(0, 0.5, 'P(Y=1)')]"
      ]
     },
     "execution_count": 15,
     "metadata": {},
     "output_type": "execute_result"
    },
    {
     "data": {
      "image/png": "[encoded data removed]",
      "text/plain": [
       "<Figure size 432x288 with 1 Axes>"
      ]
     },
     "metadata": {},
     "output_type": "display_data"
    }
   ],
   "source": [
    "logdose = Beetles.x.unique()\n",
    "yx=pd.crosstab(Beetles['y'],Beetles['x'], normalize='columns')\n",
    "y_prop=yx.iloc[1]\n",
    "def f(t):\n",
    "  return np.exp(fit.params[0] + fit.params[1]*t)/(1 + np.exp(fit.params[0] + fit.params[1]*t))\n",
    "\n",
    "t1 = np.arange(1.65, 1.95, 0.0001)\n",
    "fig, ax = plt.subplots()\n",
    "ax.plot(t1, f(t1),'blue')\n",
    "ax.scatter(logdose, y_prop, s=5, color='red')\n",
    "ax.set(xlabel='x', ylabel='P(Y=1)')"
   ]
  },
  {
   "cell_type": "code",
   "execution_count": null,
   "metadata": {
    "colab": {
     "base_uri": "https://localhost:8080/",
     "height": 358
    },
    "executionInfo": {
     "elapsed": 14,
     "status": "error",
     "timestamp": 1680088466310,
     "user": {
      "displayName": "Konstantinos Makantasis",
      "userId": "07935674197300532491"
     },
     "user_tz": -120
    },
    "id": "bhjnlWkof4Ip",
    "outputId": "ffc9923e-eecc-4367-b66f-7f306fedd8c7"
   },
   "outputs": [
    {
     "ename": "PerfectSeparationError",
     "evalue": "ignored",
     "output_type": "error",
     "traceback": [
      "\u001b[0;31m---------------------------------------------------------------------------\u001b[0m",
      "\u001b[0;31mPerfectSeparationError\u001b[0m                    Traceback (most recent call last)",
      "\u001b[0;32m<ipython-input-16-9ebcb3246671>\u001b[0m in \u001b[0;36m<module>\u001b[0;34m\u001b[0m\n\u001b[1;32m      1\u001b[0m \u001b[0mtoy\u001b[0m \u001b[0;34m=\u001b[0m \u001b[0mpd\u001b[0m\u001b[0;34m.\u001b[0m\u001b[0mDataFrame\u001b[0m\u001b[0;34m(\u001b[0m\u001b[0;34m{\u001b[0m\u001b[0;34m'x'\u001b[0m\u001b[0;34m:\u001b[0m \u001b[0;34m[\u001b[0m\u001b[0;36m1\u001b[0m\u001b[0;34m,\u001b[0m\u001b[0;36m2\u001b[0m\u001b[0;34m,\u001b[0m\u001b[0;36m3\u001b[0m\u001b[0;34m,\u001b[0m\u001b[0;36m4\u001b[0m\u001b[0;34m,\u001b[0m\u001b[0;36m5\u001b[0m\u001b[0;34m,\u001b[0m\u001b[0;36m6\u001b[0m\u001b[0;34m]\u001b[0m\u001b[0;34m,\u001b[0m \u001b[0;34m'y'\u001b[0m\u001b[0;34m:\u001b[0m \u001b[0;34m[\u001b[0m\u001b[0;36m0\u001b[0m\u001b[0;34m,\u001b[0m\u001b[0;36m0\u001b[0m\u001b[0;34m,\u001b[0m\u001b[0;36m0\u001b[0m\u001b[0;34m,\u001b[0m\u001b[0;36m1\u001b[0m\u001b[0;34m,\u001b[0m\u001b[0;36m1\u001b[0m\u001b[0;34m,\u001b[0m\u001b[0;36m1\u001b[0m\u001b[0;34m]\u001b[0m\u001b[0;34m}\u001b[0m\u001b[0;34m)\u001b[0m\u001b[0;34m\u001b[0m\u001b[0;34m\u001b[0m\u001b[0m\n\u001b[0;32m----> 2\u001b[0;31m \u001b[0mfit\u001b[0m \u001b[0;34m=\u001b[0m \u001b[0msmf\u001b[0m\u001b[0;34m.\u001b[0m\u001b[0mglm\u001b[0m\u001b[0;34m(\u001b[0m\u001b[0;34m'y ~ x'\u001b[0m\u001b[0;34m,\u001b[0m \u001b[0mfamily\u001b[0m \u001b[0;34m=\u001b[0m \u001b[0msm\u001b[0m\u001b[0;34m.\u001b[0m\u001b[0mfamilies\u001b[0m\u001b[0;34m.\u001b[0m\u001b[0mBinomial\u001b[0m\u001b[0;34m(\u001b[0m\u001b[0;34m)\u001b[0m\u001b[0;34m,\u001b[0m \u001b[0mdata\u001b[0m\u001b[0;34m=\u001b[0m\u001b[0mtoy\u001b[0m\u001b[0;34m)\u001b[0m\u001b[0;34m.\u001b[0m\u001b[0mfit\u001b[0m\u001b[0;34m(\u001b[0m\u001b[0;34m)\u001b[0m\u001b[0;34m\u001b[0m\u001b[0;34m\u001b[0m\u001b[0m\n\u001b[0m\u001b[1;32m      3\u001b[0m \u001b[0mprint\u001b[0m\u001b[0;34m(\u001b[0m\u001b[0mfit\u001b[0m\u001b[0;34m.\u001b[0m\u001b[0msummary\u001b[0m\u001b[0;34m(\u001b[0m\u001b[0;34m)\u001b[0m\u001b[0;34m)\u001b[0m\u001b[0;34m\u001b[0m\u001b[0;34m\u001b[0m\u001b[0m\n",
      "\u001b[0;32m/usr/local/lib/python3.9/dist-packages/statsmodels/genmod/generalized_linear_model.py\u001b[0m in \u001b[0;36mfit\u001b[0;34m(self, start_params, maxiter, method, tol, scale, cov_type, cov_kwds, use_t, full_output, disp, max_start_irls, **kwargs)\u001b[0m\n\u001b[1;32m   1073\u001b[0m             \u001b[0;32mif\u001b[0m \u001b[0mcov_type\u001b[0m\u001b[0;34m.\u001b[0m\u001b[0mlower\u001b[0m\u001b[0;34m(\u001b[0m\u001b[0;34m)\u001b[0m \u001b[0;34m==\u001b[0m \u001b[0;34m'eim'\u001b[0m\u001b[0;34m:\u001b[0m\u001b[0;34m\u001b[0m\u001b[0;34m\u001b[0m\u001b[0m\n\u001b[1;32m   1074\u001b[0m                 \u001b[0mcov_type\u001b[0m \u001b[0;34m=\u001b[0m \u001b[0;34m'nonrobust'\u001b[0m\u001b[0;34m\u001b[0m\u001b[0;34m\u001b[0m\u001b[0m\n\u001b[0;32m-> 1075\u001b[0;31m             return self._fit_irls(start_params=start_params, maxiter=maxiter,\n\u001b[0m\u001b[1;32m   1076\u001b[0m                                   \u001b[0mtol\u001b[0m\u001b[0;34m=\u001b[0m\u001b[0mtol\u001b[0m\u001b[0;34m,\u001b[0m \u001b[0mscale\u001b[0m\u001b[0;34m=\u001b[0m\u001b[0mscale\u001b[0m\u001b[0;34m,\u001b[0m \u001b[0mcov_type\u001b[0m\u001b[0;34m=\u001b[0m\u001b[0mcov_type\u001b[0m\u001b[0;34m,\u001b[0m\u001b[0;34m\u001b[0m\u001b[0;34m\u001b[0m\u001b[0m\n\u001b[1;32m   1077\u001b[0m                                   cov_kwds=cov_kwds, use_t=use_t, **kwargs)\n",
      "\u001b[0;32m/usr/local/lib/python3.9/dist-packages/statsmodels/genmod/generalized_linear_model.py\u001b[0m in \u001b[0;36m_fit_irls\u001b[0;34m(self, start_params, maxiter, tol, scale, cov_type, cov_kwds, use_t, **kwargs)\u001b[0m\n\u001b[1;32m   1222\u001b[0m             \u001b[0;32mif\u001b[0m \u001b[0mendog\u001b[0m\u001b[0;34m.\u001b[0m\u001b[0msqueeze\u001b[0m\u001b[0;34m(\u001b[0m\u001b[0;34m)\u001b[0m\u001b[0;34m.\u001b[0m\u001b[0mndim\u001b[0m \u001b[0;34m==\u001b[0m \u001b[0;36m1\u001b[0m \u001b[0;32mand\u001b[0m \u001b[0mnp\u001b[0m\u001b[0;34m.\u001b[0m\u001b[0mallclose\u001b[0m\u001b[0;34m(\u001b[0m\u001b[0mmu\u001b[0m \u001b[0;34m-\u001b[0m \u001b[0mendog\u001b[0m\u001b[0;34m,\u001b[0m \u001b[0;36m0\u001b[0m\u001b[0;34m)\u001b[0m\u001b[0;34m:\u001b[0m\u001b[0;34m\u001b[0m\u001b[0;34m\u001b[0m\u001b[0m\n\u001b[1;32m   1223\u001b[0m                 \u001b[0mmsg\u001b[0m \u001b[0;34m=\u001b[0m \u001b[0;34m\"Perfect separation detected, results not available\"\u001b[0m\u001b[0;34m\u001b[0m\u001b[0;34m\u001b[0m\u001b[0m\n\u001b[0;32m-> 1224\u001b[0;31m                 \u001b[0;32mraise\u001b[0m \u001b[0mPerfectSeparationError\u001b[0m\u001b[0;34m(\u001b[0m\u001b[0mmsg\u001b[0m\u001b[0;34m)\u001b[0m\u001b[0;34m\u001b[0m\u001b[0;34m\u001b[0m\u001b[0m\n\u001b[0m\u001b[1;32m   1225\u001b[0m             converged = _check_convergence(criterion, iteration + 1, atol,\n\u001b[1;32m   1226\u001b[0m                                            rtol)\n",
      "\u001b[0;31mPerfectSeparationError\u001b[0m: Perfect separation detected, results not available"
     ]
    }
   ],
   "source": [
    "toy = pd.DataFrame({'x': [1,2,3,4,5,6], 'y': [0,0,0,1,1,1]})\n",
    "fit = smf.glm('y ~ x', family = sm.families.Binomial(), data=toy).fit()\n",
    "print(fit.summary())"
   ]
  },
  {
   "cell_type": "code",
   "execution_count": null,
   "metadata": {
    "colab": {
     "base_uri": "https://localhost:8080/"
    },
    "executionInfo": {
     "elapsed": 1008,
     "status": "ok",
     "timestamp": 1680088478700,
     "user": {
      "displayName": "Konstantinos Makantasis",
      "userId": "07935674197300532491"
     },
     "user_tz": -120
    },
    "id": "0MmxOr6nlogq",
    "outputId": "e6ccde47-358b-4c9f-e227-907abda514f8"
   },
   "outputs": [
    {
     "name": "stdout",
     "output_type": "stream",
     "text": [
      "                 Generalized Linear Model Regression Results                  \n",
      "==============================================================================\n",
      "Dep. Variable:                      y   No. Observations:                    7\n",
      "Model:                            GLM   Df Residuals:                        5\n",
      "Model Family:                Binomial   Df Model:                            1\n",
      "Link Function:                  Logit   Scale:                          1.0000\n",
      "Method:                          IRLS   Log-Likelihood:                -1.3863\n",
      "Date:                Wed, 29 Mar 2023   Deviance:                       2.7726\n",
      "Time:                        11:14:37   Pearson chi2:                     2.00\n",
      "No. Iterations:                    21   Pseudo R-squ. (CS):             0.6208\n",
      "Covariance Type:            nonrobust                                         \n",
      "==============================================================================\n",
      "                 coef    std err          z      P>|z|      [0.025      0.975]\n",
      "------------------------------------------------------------------------------\n",
      "Intercept    -61.7833   3.81e+04     -0.002      0.999   -7.48e+04    7.47e+04\n",
      "x             20.5944   1.27e+04      0.002      0.999   -2.49e+04    2.49e+04\n",
      "==============================================================================\n"
     ]
    }
   ],
   "source": [
    "toy = pd.DataFrame({'x': [1,2,3,3,4,5,6], 'y': [0,0,0,1,1,1,1]})\n",
    "fit = smf.glm('y ~ x', family = sm.families.Binomial(), data=toy).fit()\n",
    "print(fit.summary())"
   ]
  },
  {
   "cell_type": "code",
   "execution_count": null,
   "metadata": {
    "colab": {
     "base_uri": "https://localhost:8080/",
     "height": 413
    },
    "executionInfo": {
     "elapsed": 421,
     "status": "ok",
     "timestamp": 1680088481879,
     "user": {
      "displayName": "Konstantinos Makantasis",
      "userId": "07935674197300532491"
     },
     "user_tz": -120
    },
    "id": "FN33fUWxhiXD",
    "outputId": "0b72f800-83a6-4e07-b862-70a909256dd5"
   },
   "outputs": [
    {
     "name": "stderr",
     "output_type": "stream",
     "text": [
      "<ipython-input-18-94e865936843>:1: ParserWarning: Falling back to the 'python' engine because the 'c' engine does not support regex separators (separators > 1 char and different from '\\s+' are interpreted as regex); you can avoid this warning by specifying engine='python'.\n",
      "  Crabs = pd.read_csv(\"/content/drive/My Drive/ICT - AI/Study Units/ARI5102 - Data Analysis Techniques/4. Generalized Linear Models/Crabs.dat\", sep='\\s+|\\s+')\n"
     ]
    },
    {
     "data": {
      "text/html": [
       "\n",
       "  <div id=\"df-87fd939e-8af2-45cd-bb68-c9ed4c652d24\">\n",
       "    <div class=\"colab-df-container\">\n",
       "      <div>\n",
       "<style scoped>\n",
       "    .dataframe tbody tr th:only-of-type {\n",
       "        vertical-align: middle;\n",
       "    }\n",
       "\n",
       "    .dataframe tbody tr th {\n",
       "        vertical-align: top;\n",
       "    }\n",
       "\n",
       "    .dataframe thead th {\n",
       "        text-align: right;\n",
       "    }\n",
       "</style>\n",
       "<table border=\"1\" class=\"dataframe\">\n",
       "  <thead>\n",
       "    <tr style=\"text-align: right;\">\n",
       "      <th></th>\n",
       "      <th>crab</th>\n",
       "      <th>sat</th>\n",
       "      <th>y</th>\n",
       "      <th>weight</th>\n",
       "      <th>width</th>\n",
       "      <th>color</th>\n",
       "      <th>spine</th>\n",
       "    </tr>\n",
       "  </thead>\n",
       "  <tbody>\n",
       "    <tr>\n",
       "      <th>0</th>\n",
       "      <td>1</td>\n",
       "      <td>8</td>\n",
       "      <td>1</td>\n",
       "      <td>3.05</td>\n",
       "      <td>28.3</td>\n",
       "      <td>2</td>\n",
       "      <td>3</td>\n",
       "    </tr>\n",
       "    <tr>\n",
       "      <th>1</th>\n",
       "      <td>2</td>\n",
       "      <td>0</td>\n",
       "      <td>0</td>\n",
       "      <td>1.55</td>\n",
       "      <td>22.5</td>\n",
       "      <td>3</td>\n",
       "      <td>3</td>\n",
       "    </tr>\n",
       "    <tr>\n",
       "      <th>2</th>\n",
       "      <td>3</td>\n",
       "      <td>9</td>\n",
       "      <td>1</td>\n",
       "      <td>2.30</td>\n",
       "      <td>26.0</td>\n",
       "      <td>1</td>\n",
       "      <td>1</td>\n",
       "    </tr>\n",
       "    <tr>\n",
       "      <th>3</th>\n",
       "      <td>4</td>\n",
       "      <td>0</td>\n",
       "      <td>0</td>\n",
       "      <td>2.10</td>\n",
       "      <td>24.8</td>\n",
       "      <td>3</td>\n",
       "      <td>3</td>\n",
       "    </tr>\n",
       "    <tr>\n",
       "      <th>4</th>\n",
       "      <td>5</td>\n",
       "      <td>4</td>\n",
       "      <td>1</td>\n",
       "      <td>2.60</td>\n",
       "      <td>26.0</td>\n",
       "      <td>3</td>\n",
       "      <td>3</td>\n",
       "    </tr>\n",
       "    <tr>\n",
       "      <th>5</th>\n",
       "      <td>6</td>\n",
       "      <td>0</td>\n",
       "      <td>0</td>\n",
       "      <td>2.10</td>\n",
       "      <td>23.8</td>\n",
       "      <td>2</td>\n",
       "      <td>3</td>\n",
       "    </tr>\n",
       "    <tr>\n",
       "      <th>6</th>\n",
       "      <td>7</td>\n",
       "      <td>0</td>\n",
       "      <td>0</td>\n",
       "      <td>2.35</td>\n",
       "      <td>26.5</td>\n",
       "      <td>1</td>\n",
       "      <td>1</td>\n",
       "    </tr>\n",
       "    <tr>\n",
       "      <th>7</th>\n",
       "      <td>8</td>\n",
       "      <td>0</td>\n",
       "      <td>0</td>\n",
       "      <td>1.90</td>\n",
       "      <td>24.7</td>\n",
       "      <td>3</td>\n",
       "      <td>2</td>\n",
       "    </tr>\n",
       "    <tr>\n",
       "      <th>8</th>\n",
       "      <td>9</td>\n",
       "      <td>0</td>\n",
       "      <td>0</td>\n",
       "      <td>1.95</td>\n",
       "      <td>23.7</td>\n",
       "      <td>2</td>\n",
       "      <td>1</td>\n",
       "    </tr>\n",
       "    <tr>\n",
       "      <th>9</th>\n",
       "      <td>10</td>\n",
       "      <td>0</td>\n",
       "      <td>0</td>\n",
       "      <td>2.15</td>\n",
       "      <td>25.6</td>\n",
       "      <td>3</td>\n",
       "      <td>3</td>\n",
       "    </tr>\n",
       "  </tbody>\n",
       "</table>\n",
       "</div>\n",
       "      <button class=\"colab-df-convert\" onclick=\"convertToInteractive('df-87fd939e-8af2-45cd-bb68-c9ed4c652d24')\"\n",
       "              title=\"Convert this dataframe to an interactive table.\"\n",
       "              style=\"display:none;\">\n",
       "        \n",
       "  <svg xmlns=\"http://www.w3.org/2000/svg\" height=\"24px\"viewBox=\"0 0 24 24\"\n",
       "       width=\"24px\">\n",
       "    <path d=\"M0 0h24v24H0V0z\" fill=\"none\"/>\n",
       "    <path d=\"M18.56 5.44l.94 2.06.94-2.06 2.06-.94-2.06-.94-.94-2.06-.94 2.06-2.06.94zm-11 1L8.5 8.5l.94-2.06 2.06-.94-2.06-.94L8.5 2.5l-.94 2.06-2.06.94zm10 10l.94 2.06.94-2.06 2.06-.94-2.06-.94-.94-2.06-.94 2.06-2.06.94z\"/><path d=\"M17.41 7.96l-1.37-1.37c-.4-.4-.92-.59-1.43-.59-.52 0-1.04.2-1.43.59L10.3 9.45l-7.72 7.72c-.78.78-.78 2.05 0 2.83L4 21.41c.39.39.9.59 1.41.59.51 0 1.02-.2 1.41-.59l7.78-7.78 2.81-2.81c.8-.78.8-2.07 0-2.86zM5.41 20L4 18.59l7.72-7.72 1.47 1.35L5.41 20z\"/>\n",
       "  </svg>\n",
       "      </button>\n",
       "      \n",
       "  <style>\n",
       "    .colab-df-container {\n",
       "      display:flex;\n",
       "      flex-wrap:wrap;\n",
       "      gap: 12px;\n",
       "    }\n",
       "\n",
       "    .colab-df-convert {\n",
       "      background-color: #E8F0FE;\n",
       "      border: none;\n",
       "      border-radius: 50%;\n",
       "      cursor: pointer;\n",
       "      display: none;\n",
       "      fill: #1967D2;\n",
       "      height: 32px;\n",
       "      padding: 0 0 0 0;\n",
       "      width: 32px;\n",
       "    }\n",
       "\n",
       "    .colab-df-convert:hover {\n",
       "      background-color: #E2EBFA;\n",
       "      box-shadow: 0px 1px 2px rgba(60, 64, 67, 0.3), 0px 1px 3px 1px rgba(60, 64, 67, 0.15);\n",
       "      fill: #174EA6;\n",
       "    }\n",
       "\n",
       "    [theme=dark] .colab-df-convert {\n",
       "      background-color: #3B4455;\n",
       "      fill: #D2E3FC;\n",
       "    }\n",
       "\n",
       "    [theme=dark] .colab-df-convert:hover {\n",
       "      background-color: #434B5C;\n",
       "      box-shadow: 0px 1px 3px 1px rgba(0, 0, 0, 0.15);\n",
       "      filter: drop-shadow(0px 1px 2px rgba(0, 0, 0, 0.3));\n",
       "      fill: #FFFFFF;\n",
       "    }\n",
       "  </style>\n",
       "\n",
       "      <script>\n",
       "        const buttonEl =\n",
       "          document.querySelector('#df-87fd939e-8af2-45cd-bb68-c9ed4c652d24 button.colab-df-convert');\n",
       "        buttonEl.style.display =\n",
       "          google.colab.kernel.accessAllowed ? 'block' : 'none';\n",
       "\n",
       "        async function convertToInteractive(key) {\n",
       "          const element = document.querySelector('#df-87fd939e-8af2-45cd-bb68-c9ed4c652d24');\n",
       "          const dataTable =\n",
       "            await google.colab.kernel.invokeFunction('convertToInteractive',\n",
       "                                                     [key], {});\n",
       "          if (!dataTable) return;\n",
       "\n",
       "          const docLinkHtml = 'Like what you see? Visit the ' +\n",
       "            '<a target=\"_blank\" href=https://colab.research.google.com/notebooks/data_table.ipynb>data table notebook</a>'\n",
       "            + ' to learn more about interactive tables.';\n",
       "          element.innerHTML = '';\n",
       "          dataTable['output_type'] = 'display_data';\n",
       "          await google.colab.output.renderOutput(dataTable, element);\n",
       "          const docLink = document.createElement('div');\n",
       "          docLink.innerHTML = docLinkHtml;\n",
       "          element.appendChild(docLink);\n",
       "        }\n",
       "      </script>\n",
       "    </div>\n",
       "  </div>\n",
       "  "
      ],
      "text/plain": [
       "   crab  sat  y  weight  width  color  spine\n",
       "0     1    8  1    3.05   28.3      2      3\n",
       "1     2    0  0    1.55   22.5      3      3\n",
       "2     3    9  1    2.30   26.0      1      1\n",
       "3     4    0  0    2.10   24.8      3      3\n",
       "4     5    4  1    2.60   26.0      3      3\n",
       "5     6    0  0    2.10   23.8      2      3\n",
       "6     7    0  0    2.35   26.5      1      1\n",
       "7     8    0  0    1.90   24.7      3      2\n",
       "8     9    0  0    1.95   23.7      2      1\n",
       "9    10    0  0    2.15   25.6      3      3"
      ]
     },
     "execution_count": 18,
     "metadata": {},
     "output_type": "execute_result"
    }
   ],
   "source": [
    "Crabs = pd.read_csv(\"/content/drive/My Drive/ICT - AI/Study Units/ARI5102 - Data Analysis Techniques/4. Generalized Linear Models/Crabs.dat\", sep='\\s+|\\s+')\n",
    "Crabs.head(10)"
   ]
  },
  {
   "cell_type": "code",
   "execution_count": null,
   "metadata": {
    "colab": {
     "base_uri": "https://localhost:8080/"
    },
    "executionInfo": {
     "elapsed": 1241,
     "status": "ok",
     "timestamp": 1680088485434,
     "user": {
      "displayName": "Konstantinos Makantasis",
      "userId": "07935674197300532491"
     },
     "user_tz": -120
    },
    "id": "OQtP6hFKhzhM",
    "outputId": "f061a669-6cde-49f4-be46-f66f8e8007f8"
   },
   "outputs": [
    {
     "name": "stdout",
     "output_type": "stream",
     "text": [
      "                 Generalized Linear Model Regression Results                  \n",
      "==============================================================================\n",
      "Dep. Variable:                    sat   No. Observations:                  173\n",
      "Model:                            GLM   Df Residuals:                      168\n",
      "Model Family:                 Poisson   Df Model:                            4\n",
      "Link Function:                    Log   Scale:                          1.0000\n",
      "Method:                          IRLS   Log-Likelihood:                -453.55\n",
      "Date:                Wed, 29 Mar 2023   Deviance:                       551.80\n",
      "Time:                        11:14:44   Pearson chi2:                     535.\n",
      "No. Iterations:                     5   Pseudo R-squ. (CS):             0.3738\n",
      "Covariance Type:            nonrobust                                         \n",
      "=================================================================================\n",
      "                    coef    std err          z      P>|z|      [0.025      0.975]\n",
      "---------------------------------------------------------------------------------\n",
      "Intercept        -0.0498      0.233     -0.214      0.831      -0.507       0.407\n",
      "C(color)[T.2]    -0.2051      0.154     -1.334      0.182      -0.506       0.096\n",
      "C(color)[T.3]    -0.4498      0.176     -2.560      0.010      -0.794      -0.105\n",
      "C(color)[T.4]    -0.4520      0.208     -2.169      0.030      -0.861      -0.044\n",
      "weight            0.5462      0.068      8.019      0.000       0.413       0.680\n",
      "=================================================================================\n",
      "AIC is 917.1\n"
     ]
    }
   ],
   "source": [
    "fit = smf.glm('sat ~ weight + C(color)',family=sm.families.Poisson(), data=Crabs).fit()\n",
    "print(fit.summary())  \n",
    "print('AIC is {:.1f}'.format(fit.aic))"
   ]
  },
  {
   "cell_type": "code",
   "execution_count": null,
   "metadata": {
    "colab": {
     "base_uri": "https://localhost:8080/",
     "height": 413
    },
    "executionInfo": {
     "elapsed": 1045,
     "status": "ok",
     "timestamp": 1680088488685,
     "user": {
      "displayName": "Konstantinos Makantasis",
      "userId": "07935674197300532491"
     },
     "user_tz": -120
    },
    "id": "4u3c-_8ckB5x",
    "outputId": "ffbb11d1-a93c-466a-87c7-432e17ab140a"
   },
   "outputs": [
    {
     "name": "stderr",
     "output_type": "stream",
     "text": [
      "<ipython-input-20-724627a8fa83>:1: ParserWarning: Falling back to the 'python' engine because the 'c' engine does not support regex separators (separators > 1 char and different from '\\s+' are interpreted as regex); you can avoid this warning by specifying engine='python'.\n",
      "  Cancer = pd.read_csv(\"/content/drive/My Drive/ICT - AI/Study Units/ARI5102 - Data Analysis Techniques/4. Generalized Linear Models/Cancer.dat\", sep='\\s+|\\s+')\n"
     ]
    },
    {
     "data": {
      "text/html": [
       "\n",
       "  <div id=\"df-b966e6cf-7005-425f-b055-dd31dd601a45\">\n",
       "    <div class=\"colab-df-container\">\n",
       "      <div>\n",
       "<style scoped>\n",
       "    .dataframe tbody tr th:only-of-type {\n",
       "        vertical-align: middle;\n",
       "    }\n",
       "\n",
       "    .dataframe tbody tr th {\n",
       "        vertical-align: top;\n",
       "    }\n",
       "\n",
       "    .dataframe thead th {\n",
       "        text-align: right;\n",
       "    }\n",
       "</style>\n",
       "<table border=\"1\" class=\"dataframe\">\n",
       "  <thead>\n",
       "    <tr style=\"text-align: right;\">\n",
       "      <th></th>\n",
       "      <th>time</th>\n",
       "      <th>stage</th>\n",
       "      <th>deaths</th>\n",
       "      <th>risktime</th>\n",
       "    </tr>\n",
       "  </thead>\n",
       "  <tbody>\n",
       "    <tr>\n",
       "      <th>0</th>\n",
       "      <td>1</td>\n",
       "      <td>1</td>\n",
       "      <td>15</td>\n",
       "      <td>255</td>\n",
       "    </tr>\n",
       "    <tr>\n",
       "      <th>1</th>\n",
       "      <td>2</td>\n",
       "      <td>1</td>\n",
       "      <td>5</td>\n",
       "      <td>224</td>\n",
       "    </tr>\n",
       "    <tr>\n",
       "      <th>2</th>\n",
       "      <td>3</td>\n",
       "      <td>1</td>\n",
       "      <td>13</td>\n",
       "      <td>203</td>\n",
       "    </tr>\n",
       "    <tr>\n",
       "      <th>3</th>\n",
       "      <td>4</td>\n",
       "      <td>1</td>\n",
       "      <td>13</td>\n",
       "      <td>169</td>\n",
       "    </tr>\n",
       "    <tr>\n",
       "      <th>4</th>\n",
       "      <td>5</td>\n",
       "      <td>1</td>\n",
       "      <td>3</td>\n",
       "      <td>148</td>\n",
       "    </tr>\n",
       "    <tr>\n",
       "      <th>5</th>\n",
       "      <td>6</td>\n",
       "      <td>1</td>\n",
       "      <td>6</td>\n",
       "      <td>135</td>\n",
       "    </tr>\n",
       "    <tr>\n",
       "      <th>6</th>\n",
       "      <td>7</td>\n",
       "      <td>1</td>\n",
       "      <td>3</td>\n",
       "      <td>124</td>\n",
       "    </tr>\n",
       "    <tr>\n",
       "      <th>7</th>\n",
       "      <td>1</td>\n",
       "      <td>2</td>\n",
       "      <td>17</td>\n",
       "      <td>227</td>\n",
       "    </tr>\n",
       "    <tr>\n",
       "      <th>8</th>\n",
       "      <td>2</td>\n",
       "      <td>2</td>\n",
       "      <td>11</td>\n",
       "      <td>191</td>\n",
       "    </tr>\n",
       "    <tr>\n",
       "      <th>9</th>\n",
       "      <td>3</td>\n",
       "      <td>2</td>\n",
       "      <td>13</td>\n",
       "      <td>168</td>\n",
       "    </tr>\n",
       "  </tbody>\n",
       "</table>\n",
       "</div>\n",
       "      <button class=\"colab-df-convert\" onclick=\"convertToInteractive('df-b966e6cf-7005-425f-b055-dd31dd601a45')\"\n",
       "              title=\"Convert this dataframe to an interactive table.\"\n",
       "              style=\"display:none;\">\n",
       "        \n",
       "  <svg xmlns=\"http://www.w3.org/2000/svg\" height=\"24px\"viewBox=\"0 0 24 24\"\n",
       "       width=\"24px\">\n",
       "    <path d=\"M0 0h24v24H0V0z\" fill=\"none\"/>\n",
       "    <path d=\"M18.56 5.44l.94 2.06.94-2.06 2.06-.94-2.06-.94-.94-2.06-.94 2.06-2.06.94zm-11 1L8.5 8.5l.94-2.06 2.06-.94-2.06-.94L8.5 2.5l-.94 2.06-2.06.94zm10 10l.94 2.06.94-2.06 2.06-.94-2.06-.94-.94-2.06-.94 2.06-2.06.94z\"/><path d=\"M17.41 7.96l-1.37-1.37c-.4-.4-.92-.59-1.43-.59-.52 0-1.04.2-1.43.59L10.3 9.45l-7.72 7.72c-.78.78-.78 2.05 0 2.83L4 21.41c.39.39.9.59 1.41.59.51 0 1.02-.2 1.41-.59l7.78-7.78 2.81-2.81c.8-.78.8-2.07 0-2.86zM5.41 20L4 18.59l7.72-7.72 1.47 1.35L5.41 20z\"/>\n",
       "  </svg>\n",
       "      </button>\n",
       "      \n",
       "  <style>\n",
       "    .colab-df-container {\n",
       "      display:flex;\n",
       "      flex-wrap:wrap;\n",
       "      gap: 12px;\n",
       "    }\n",
       "\n",
       "    .colab-df-convert {\n",
       "      background-color: #E8F0FE;\n",
       "      border: none;\n",
       "      border-radius: 50%;\n",
       "      cursor: pointer;\n",
       "      display: none;\n",
       "      fill: #1967D2;\n",
       "      height: 32px;\n",
       "      padding: 0 0 0 0;\n",
       "      width: 32px;\n",
       "    }\n",
       "\n",
       "    .colab-df-convert:hover {\n",
       "      background-color: #E2EBFA;\n",
       "      box-shadow: 0px 1px 2px rgba(60, 64, 67, 0.3), 0px 1px 3px 1px rgba(60, 64, 67, 0.15);\n",
       "      fill: #174EA6;\n",
       "    }\n",
       "\n",
       "    [theme=dark] .colab-df-convert {\n",
       "      background-color: #3B4455;\n",
       "      fill: #D2E3FC;\n",
       "    }\n",
       "\n",
       "    [theme=dark] .colab-df-convert:hover {\n",
       "      background-color: #434B5C;\n",
       "      box-shadow: 0px 1px 3px 1px rgba(0, 0, 0, 0.15);\n",
       "      filter: drop-shadow(0px 1px 2px rgba(0, 0, 0, 0.3));\n",
       "      fill: #FFFFFF;\n",
       "    }\n",
       "  </style>\n",
       "\n",
       "      <script>\n",
       "        const buttonEl =\n",
       "          document.querySelector('#df-b966e6cf-7005-425f-b055-dd31dd601a45 button.colab-df-convert');\n",
       "        buttonEl.style.display =\n",
       "          google.colab.kernel.accessAllowed ? 'block' : 'none';\n",
       "\n",
       "        async function convertToInteractive(key) {\n",
       "          const element = document.querySelector('#df-b966e6cf-7005-425f-b055-dd31dd601a45');\n",
       "          const dataTable =\n",
       "            await google.colab.kernel.invokeFunction('convertToInteractive',\n",
       "                                                     [key], {});\n",
       "          if (!dataTable) return;\n",
       "\n",
       "          const docLinkHtml = 'Like what you see? Visit the ' +\n",
       "            '<a target=\"_blank\" href=https://colab.research.google.com/notebooks/data_table.ipynb>data table notebook</a>'\n",
       "            + ' to learn more about interactive tables.';\n",
       "          element.innerHTML = '';\n",
       "          dataTable['output_type'] = 'display_data';\n",
       "          await google.colab.output.renderOutput(dataTable, element);\n",
       "          const docLink = document.createElement('div');\n",
       "          docLink.innerHTML = docLinkHtml;\n",
       "          element.appendChild(docLink);\n",
       "        }\n",
       "      </script>\n",
       "    </div>\n",
       "  </div>\n",
       "  "
      ],
      "text/plain": [
       "   time  stage  deaths  risktime\n",
       "0     1      1      15       255\n",
       "1     2      1       5       224\n",
       "2     3      1      13       203\n",
       "3     4      1      13       169\n",
       "4     5      1       3       148\n",
       "5     6      1       6       135\n",
       "6     7      1       3       124\n",
       "7     1      2      17       227\n",
       "8     2      2      11       191\n",
       "9     3      2      13       168"
      ]
     },
     "execution_count": 20,
     "metadata": {},
     "output_type": "execute_result"
    }
   ],
   "source": [
    "Cancer = pd.read_csv(\"/content/drive/My Drive/ICT - AI/Study Units/ARI5102 - Data Analysis Techniques/4. Generalized Linear Models/Cancer.dat\", sep='\\s+|\\s+')\n",
    "Cancer.head(10)"
   ]
  },
  {
   "cell_type": "code",
   "execution_count": null,
   "metadata": {
    "colab": {
     "base_uri": "https://localhost:8080/"
    },
    "executionInfo": {
     "elapsed": 6,
     "status": "ok",
     "timestamp": 1680088491915,
     "user": {
      "displayName": "Konstantinos Makantasis",
      "userId": "07935674197300532491"
     },
     "user_tz": -120
    },
    "id": "xr_QGGp3gp-M",
    "outputId": "f54c2fc1-1b44-4e81-eda7-c92abdfc59ce"
   },
   "outputs": [
    {
     "name": "stdout",
     "output_type": "stream",
     "text": [
      "                 Generalized Linear Model Regression Results                  \n",
      "==============================================================================\n",
      "Dep. Variable:                 deaths   No. Observations:                   21\n",
      "Model:                            GLM   Df Residuals:                       12\n",
      "Model Family:                 Poisson   Df Model:                            8\n",
      "Link Function:                    Log   Scale:                          1.0000\n",
      "Method:                          IRLS   Log-Likelihood:                -52.270\n",
      "Date:                Wed, 29 Mar 2023   Deviance:                       14.997\n",
      "Time:                        11:14:51   Pearson chi2:                     14.6\n",
      "No. Iterations:                     5   Pseudo R-squ. (CS):             0.9979\n",
      "Covariance Type:            nonrobust                                         \n",
      "=================================================================================\n",
      "                    coef    std err          z      P>|z|      [0.025      0.975]\n",
      "---------------------------------------------------------------------------------\n",
      "Intercept        -2.9414      0.158    -18.587      0.000      -3.252      -2.631\n",
      "C(stage)[T.2]     0.4723      0.174      2.708      0.007       0.130       0.814\n",
      "C(stage)[T.3]     1.3288      0.150      8.859      0.000       1.035       1.623\n",
      "C(time)[T.2]     -0.1303      0.149     -0.874      0.382      -0.422       0.162\n",
      "C(time)[T.3]     -0.0842      0.163     -0.515      0.607      -0.405       0.236\n",
      "C(time)[T.4]      0.1092      0.171      0.639      0.523      -0.226       0.444\n",
      "C(time)[T.5]     -0.6810      0.260     -2.615      0.009      -1.191      -0.171\n",
      "C(time)[T.6]     -0.3600      0.243     -1.480      0.139      -0.837       0.117\n",
      "C(time)[T.7]     -0.1873      0.250     -0.750      0.453      -0.676       0.302\n",
      "=================================================================================\n"
     ]
    }
   ],
   "source": [
    "logrisktime = np.log(Cancer.risktime)\n",
    "fit = smf.glm('deaths ~ C(stage) + C(time)',\n",
    "              family = sm.families.Poisson(), offset = logrisktime, data = Cancer).fit()\n",
    "print(fit.summary())    "
   ]
  },
  {
   "cell_type": "code",
   "execution_count": null,
   "metadata": {
    "colab": {
     "base_uri": "https://localhost:8080/"
    },
    "executionInfo": {
     "elapsed": 5,
     "status": "ok",
     "timestamp": 1680088494693,
     "user": {
      "displayName": "Konstantinos Makantasis",
      "userId": "07935674197300532491"
     },
     "user_tz": -120
    },
    "id": "LDWQeIijooF2",
    "outputId": "bb456124-4966-4335-9313-33124fad0036"
   },
   "outputs": [
    {
     "name": "stdout",
     "output_type": "stream",
     "text": [
      "The mean number of satellites is 2.9191\n",
      "The variance of the number of satellites is 9.8547\n"
     ]
    }
   ],
   "source": [
    "mean_sat = round(np.mean(Crabs.sat), 4) \n",
    "var_sat = round(np.var(Crabs.sat), 4) \n",
    "print('The mean number of satellites is {:.4f}'.format(mean_sat))\n",
    "print('The variance of the number of satellites is {:.4f}'.format(var_sat))  "
   ]
  },
  {
   "cell_type": "code",
   "execution_count": null,
   "metadata": {
    "colab": {
     "base_uri": "https://localhost:8080/"
    },
    "executionInfo": {
     "elapsed": 2,
     "status": "ok",
     "timestamp": 1680088496868,
     "user": {
      "displayName": "Konstantinos Makantasis",
      "userId": "07935674197300532491"
     },
     "user_tz": -120
    },
    "id": "8898t_2SqJVX",
    "outputId": "069a3609-0b5c-45dd-9ede-bdbe7f8f10da"
   },
   "outputs": [
    {
     "name": "stdout",
     "output_type": "stream",
     "text": [
      "Optimization terminated successfully.\n",
      "         Current function value: 2.155882\n",
      "         Iterations: 24\n",
      "         Function evaluations: 27\n",
      "         Gradient evaluations: 27\n",
      "                     NegativeBinomial Regression Results                      \n",
      "==============================================================================\n",
      "Dep. Variable:                    sat   No. Observations:                  173\n",
      "Model:               NegativeBinomial   Df Residuals:                      168\n",
      "Method:                           MLE   Df Model:                            4\n",
      "Date:                Wed, 29 Mar 2023   Pseudo R-squ.:                 0.02798\n",
      "Time:                        11:14:56   Log-Likelihood:                -372.97\n",
      "converged:                       True   LL-Null:                       -383.70\n",
      "Covariance Type:            nonrobust   LLR p-value:                 0.0002550\n",
      "=================================================================================\n",
      "                    coef    std err          z      P>|z|      [0.025      0.975]\n",
      "---------------------------------------------------------------------------------\n",
      "Intercept        -0.4263      0.559     -0.762      0.446      -1.522       0.670\n",
      "C(color)[T.2]    -0.2528      0.351     -0.721      0.471      -0.940       0.435\n",
      "C(color)[T.3]    -0.5219      0.379     -1.376      0.169      -1.265       0.222\n",
      "C(color)[T.4]    -0.4804      0.428     -1.124      0.261      -1.319       0.358\n",
      "weight            0.7121      0.178      4.005      0.000       0.364       1.061\n",
      "alpha             1.0420      0.190      5.489      0.000       0.670       1.414\n",
      "=================================================================================\n",
      "AIC is 757.9\n"
     ]
    }
   ],
   "source": [
    "from statsmodels.discrete.discrete_model import NegativeBinomial\n",
    "model = NegativeBinomial.from_formula('sat ~ weight + C(color)', data = Crabs, loglike_method='nb2')\n",
    "fit_dispersion = model.fit()\n",
    "print(fit_dispersion.summary())\n",
    "print('AIC is {:.1f}'.format(fit_dispersion.aic))"
   ]
  },
  {
   "cell_type": "code",
   "execution_count": null,
   "metadata": {
    "colab": {
     "base_uri": "https://localhost:8080/",
     "height": 359
    },
    "executionInfo": {
     "elapsed": 1456,
     "status": "ok",
     "timestamp": 1680088500782,
     "user": {
      "displayName": "Konstantinos Makantasis",
      "userId": "07935674197300532491"
     },
     "user_tz": -120
    },
    "id": "Xp9K7Iot0kXK",
    "outputId": "d1b53c1c-6c3c-415f-834e-d35efacb7300"
   },
   "outputs": [
    {
     "data": {
      "text/html": [
       "\n",
       "  <div id=\"df-71c780b6-1805-4d61-9eb5-1171e805ea84\">\n",
       "    <div class=\"colab-df-container\">\n",
       "      <div>\n",
       "<style scoped>\n",
       "    .dataframe tbody tr th:only-of-type {\n",
       "        vertical-align: middle;\n",
       "    }\n",
       "\n",
       "    .dataframe tbody tr th {\n",
       "        vertical-align: top;\n",
       "    }\n",
       "\n",
       "    .dataframe thead th {\n",
       "        text-align: right;\n",
       "    }\n",
       "</style>\n",
       "<table border=\"1\" class=\"dataframe\">\n",
       "  <thead>\n",
       "    <tr style=\"text-align: right;\">\n",
       "      <th></th>\n",
       "      <th>subject</th>\n",
       "      <th>gender</th>\n",
       "      <th>age</th>\n",
       "      <th>hsgpa</th>\n",
       "      <th>cogpa</th>\n",
       "      <th>dhome</th>\n",
       "      <th>dres</th>\n",
       "      <th>tv</th>\n",
       "      <th>sport</th>\n",
       "      <th>news</th>\n",
       "      <th>aids</th>\n",
       "      <th>veg</th>\n",
       "      <th>affil</th>\n",
       "      <th>ideol</th>\n",
       "      <th>relig</th>\n",
       "      <th>abor</th>\n",
       "      <th>affirm</th>\n",
       "      <th>life</th>\n",
       "    </tr>\n",
       "  </thead>\n",
       "  <tbody>\n",
       "    <tr>\n",
       "      <th>0</th>\n",
       "      <td>1</td>\n",
       "      <td>0</td>\n",
       "      <td>32</td>\n",
       "      <td>2.2</td>\n",
       "      <td>3.5</td>\n",
       "      <td>0</td>\n",
       "      <td>5.0</td>\n",
       "      <td>3.0</td>\n",
       "      <td>5</td>\n",
       "      <td>0</td>\n",
       "      <td>0</td>\n",
       "      <td>0</td>\n",
       "      <td>2</td>\n",
       "      <td>6</td>\n",
       "      <td>2</td>\n",
       "      <td>0</td>\n",
       "      <td>0</td>\n",
       "      <td>1</td>\n",
       "    </tr>\n",
       "    <tr>\n",
       "      <th>1</th>\n",
       "      <td>2</td>\n",
       "      <td>1</td>\n",
       "      <td>23</td>\n",
       "      <td>2.1</td>\n",
       "      <td>3.5</td>\n",
       "      <td>1200</td>\n",
       "      <td>0.3</td>\n",
       "      <td>15.0</td>\n",
       "      <td>7</td>\n",
       "      <td>5</td>\n",
       "      <td>6</td>\n",
       "      <td>1</td>\n",
       "      <td>1</td>\n",
       "      <td>2</td>\n",
       "      <td>1</td>\n",
       "      <td>1</td>\n",
       "      <td>1</td>\n",
       "      <td>3</td>\n",
       "    </tr>\n",
       "    <tr>\n",
       "      <th>2</th>\n",
       "      <td>3</td>\n",
       "      <td>1</td>\n",
       "      <td>27</td>\n",
       "      <td>3.3</td>\n",
       "      <td>3.0</td>\n",
       "      <td>1300</td>\n",
       "      <td>1.5</td>\n",
       "      <td>0.0</td>\n",
       "      <td>4</td>\n",
       "      <td>3</td>\n",
       "      <td>0</td>\n",
       "      <td>1</td>\n",
       "      <td>1</td>\n",
       "      <td>2</td>\n",
       "      <td>2</td>\n",
       "      <td>1</td>\n",
       "      <td>1</td>\n",
       "      <td>3</td>\n",
       "    </tr>\n",
       "    <tr>\n",
       "      <th>3</th>\n",
       "      <td>4</td>\n",
       "      <td>1</td>\n",
       "      <td>35</td>\n",
       "      <td>3.5</td>\n",
       "      <td>3.2</td>\n",
       "      <td>1500</td>\n",
       "      <td>8.0</td>\n",
       "      <td>5.0</td>\n",
       "      <td>5</td>\n",
       "      <td>6</td>\n",
       "      <td>3</td>\n",
       "      <td>0</td>\n",
       "      <td>3</td>\n",
       "      <td>4</td>\n",
       "      <td>1</td>\n",
       "      <td>1</td>\n",
       "      <td>1</td>\n",
       "      <td>2</td>\n",
       "    </tr>\n",
       "    <tr>\n",
       "      <th>4</th>\n",
       "      <td>5</td>\n",
       "      <td>0</td>\n",
       "      <td>23</td>\n",
       "      <td>3.1</td>\n",
       "      <td>3.5</td>\n",
       "      <td>1600</td>\n",
       "      <td>10.0</td>\n",
       "      <td>6.0</td>\n",
       "      <td>6</td>\n",
       "      <td>3</td>\n",
       "      <td>0</td>\n",
       "      <td>0</td>\n",
       "      <td>3</td>\n",
       "      <td>1</td>\n",
       "      <td>0</td>\n",
       "      <td>1</td>\n",
       "      <td>0</td>\n",
       "      <td>2</td>\n",
       "    </tr>\n",
       "    <tr>\n",
       "      <th>5</th>\n",
       "      <td>6</td>\n",
       "      <td>0</td>\n",
       "      <td>39</td>\n",
       "      <td>3.5</td>\n",
       "      <td>3.5</td>\n",
       "      <td>350</td>\n",
       "      <td>3.0</td>\n",
       "      <td>4.0</td>\n",
       "      <td>5</td>\n",
       "      <td>7</td>\n",
       "      <td>0</td>\n",
       "      <td>1</td>\n",
       "      <td>1</td>\n",
       "      <td>2</td>\n",
       "      <td>1</td>\n",
       "      <td>1</td>\n",
       "      <td>1</td>\n",
       "      <td>3</td>\n",
       "    </tr>\n",
       "    <tr>\n",
       "      <th>6</th>\n",
       "      <td>7</td>\n",
       "      <td>0</td>\n",
       "      <td>24</td>\n",
       "      <td>3.6</td>\n",
       "      <td>3.7</td>\n",
       "      <td>0</td>\n",
       "      <td>0.2</td>\n",
       "      <td>5.0</td>\n",
       "      <td>12</td>\n",
       "      <td>4</td>\n",
       "      <td>2</td>\n",
       "      <td>0</td>\n",
       "      <td>3</td>\n",
       "      <td>2</td>\n",
       "      <td>1</td>\n",
       "      <td>1</td>\n",
       "      <td>1</td>\n",
       "      <td>1</td>\n",
       "    </tr>\n",
       "    <tr>\n",
       "      <th>7</th>\n",
       "      <td>8</td>\n",
       "      <td>1</td>\n",
       "      <td>31</td>\n",
       "      <td>3.0</td>\n",
       "      <td>3.0</td>\n",
       "      <td>5000</td>\n",
       "      <td>1.5</td>\n",
       "      <td>5.0</td>\n",
       "      <td>3</td>\n",
       "      <td>3</td>\n",
       "      <td>1</td>\n",
       "      <td>0</td>\n",
       "      <td>3</td>\n",
       "      <td>2</td>\n",
       "      <td>1</td>\n",
       "      <td>1</td>\n",
       "      <td>1</td>\n",
       "      <td>1</td>\n",
       "    </tr>\n",
       "    <tr>\n",
       "      <th>8</th>\n",
       "      <td>9</td>\n",
       "      <td>0</td>\n",
       "      <td>34</td>\n",
       "      <td>3.0</td>\n",
       "      <td>3.0</td>\n",
       "      <td>5000</td>\n",
       "      <td>2.0</td>\n",
       "      <td>7.0</td>\n",
       "      <td>5</td>\n",
       "      <td>3</td>\n",
       "      <td>0</td>\n",
       "      <td>0</td>\n",
       "      <td>3</td>\n",
       "      <td>1</td>\n",
       "      <td>1</td>\n",
       "      <td>1</td>\n",
       "      <td>1</td>\n",
       "      <td>3</td>\n",
       "    </tr>\n",
       "    <tr>\n",
       "      <th>9</th>\n",
       "      <td>10</td>\n",
       "      <td>0</td>\n",
       "      <td>28</td>\n",
       "      <td>4.0</td>\n",
       "      <td>3.1</td>\n",
       "      <td>900</td>\n",
       "      <td>2.0</td>\n",
       "      <td>1.0</td>\n",
       "      <td>1</td>\n",
       "      <td>2</td>\n",
       "      <td>1</td>\n",
       "      <td>1</td>\n",
       "      <td>3</td>\n",
       "      <td>3</td>\n",
       "      <td>0</td>\n",
       "      <td>0</td>\n",
       "      <td>1</td>\n",
       "      <td>1</td>\n",
       "    </tr>\n",
       "  </tbody>\n",
       "</table>\n",
       "</div>\n",
       "      <button class=\"colab-df-convert\" onclick=\"convertToInteractive('df-71c780b6-1805-4d61-9eb5-1171e805ea84')\"\n",
       "              title=\"Convert this dataframe to an interactive table.\"\n",
       "              style=\"display:none;\">\n",
       "        \n",
       "  <svg xmlns=\"http://www.w3.org/2000/svg\" height=\"24px\"viewBox=\"0 0 24 24\"\n",
       "       width=\"24px\">\n",
       "    <path d=\"M0 0h24v24H0V0z\" fill=\"none\"/>\n",
       "    <path d=\"M18.56 5.44l.94 2.06.94-2.06 2.06-.94-2.06-.94-.94-2.06-.94 2.06-2.06.94zm-11 1L8.5 8.5l.94-2.06 2.06-.94-2.06-.94L8.5 2.5l-.94 2.06-2.06.94zm10 10l.94 2.06.94-2.06 2.06-.94-2.06-.94-.94-2.06-.94 2.06-2.06.94z\"/><path d=\"M17.41 7.96l-1.37-1.37c-.4-.4-.92-.59-1.43-.59-.52 0-1.04.2-1.43.59L10.3 9.45l-7.72 7.72c-.78.78-.78 2.05 0 2.83L4 21.41c.39.39.9.59 1.41.59.51 0 1.02-.2 1.41-.59l7.78-7.78 2.81-2.81c.8-.78.8-2.07 0-2.86zM5.41 20L4 18.59l7.72-7.72 1.47 1.35L5.41 20z\"/>\n",
       "  </svg>\n",
       "      </button>\n",
       "      \n",
       "  <style>\n",
       "    .colab-df-container {\n",
       "      display:flex;\n",
       "      flex-wrap:wrap;\n",
       "      gap: 12px;\n",
       "    }\n",
       "\n",
       "    .colab-df-convert {\n",
       "      background-color: #E8F0FE;\n",
       "      border: none;\n",
       "      border-radius: 50%;\n",
       "      cursor: pointer;\n",
       "      display: none;\n",
       "      fill: #1967D2;\n",
       "      height: 32px;\n",
       "      padding: 0 0 0 0;\n",
       "      width: 32px;\n",
       "    }\n",
       "\n",
       "    .colab-df-convert:hover {\n",
       "      background-color: #E2EBFA;\n",
       "      box-shadow: 0px 1px 2px rgba(60, 64, 67, 0.3), 0px 1px 3px 1px rgba(60, 64, 67, 0.15);\n",
       "      fill: #174EA6;\n",
       "    }\n",
       "\n",
       "    [theme=dark] .colab-df-convert {\n",
       "      background-color: #3B4455;\n",
       "      fill: #D2E3FC;\n",
       "    }\n",
       "\n",
       "    [theme=dark] .colab-df-convert:hover {\n",
       "      background-color: #434B5C;\n",
       "      box-shadow: 0px 1px 3px 1px rgba(0, 0, 0, 0.15);\n",
       "      filter: drop-shadow(0px 1px 2px rgba(0, 0, 0, 0.3));\n",
       "      fill: #FFFFFF;\n",
       "    }\n",
       "  </style>\n",
       "\n",
       "      <script>\n",
       "        const buttonEl =\n",
       "          document.querySelector('#df-71c780b6-1805-4d61-9eb5-1171e805ea84 button.colab-df-convert');\n",
       "        buttonEl.style.display =\n",
       "          google.colab.kernel.accessAllowed ? 'block' : 'none';\n",
       "\n",
       "        async function convertToInteractive(key) {\n",
       "          const element = document.querySelector('#df-71c780b6-1805-4d61-9eb5-1171e805ea84');\n",
       "          const dataTable =\n",
       "            await google.colab.kernel.invokeFunction('convertToInteractive',\n",
       "                                                     [key], {});\n",
       "          if (!dataTable) return;\n",
       "\n",
       "          const docLinkHtml = 'Like what you see? Visit the ' +\n",
       "            '<a target=\"_blank\" href=https://colab.research.google.com/notebooks/data_table.ipynb>data table notebook</a>'\n",
       "            + ' to learn more about interactive tables.';\n",
       "          element.innerHTML = '';\n",
       "          dataTable['output_type'] = 'display_data';\n",
       "          await google.colab.output.renderOutput(dataTable, element);\n",
       "          const docLink = document.createElement('div');\n",
       "          docLink.innerHTML = docLinkHtml;\n",
       "          element.appendChild(docLink);\n",
       "        }\n",
       "      </script>\n",
       "    </div>\n",
       "  </div>\n",
       "  "
      ],
      "text/plain": [
       "   subject  gender  age  hsgpa  cogpa  dhome  dres    tv  sport  news  aids  \\\n",
       "0        1       0   32    2.2    3.5      0   5.0   3.0      5     0     0   \n",
       "1        2       1   23    2.1    3.5   1200   0.3  15.0      7     5     6   \n",
       "2        3       1   27    3.3    3.0   1300   1.5   0.0      4     3     0   \n",
       "3        4       1   35    3.5    3.2   1500   8.0   5.0      5     6     3   \n",
       "4        5       0   23    3.1    3.5   1600  10.0   6.0      6     3     0   \n",
       "5        6       0   39    3.5    3.5    350   3.0   4.0      5     7     0   \n",
       "6        7       0   24    3.6    3.7      0   0.2   5.0     12     4     2   \n",
       "7        8       1   31    3.0    3.0   5000   1.5   5.0      3     3     1   \n",
       "8        9       0   34    3.0    3.0   5000   2.0   7.0      5     3     0   \n",
       "9       10       0   28    4.0    3.1    900   2.0   1.0      1     2     1   \n",
       "\n",
       "   veg  affil  ideol  relig  abor  affirm  life  \n",
       "0    0      2      6      2     0       0     1  \n",
       "1    1      1      2      1     1       1     3  \n",
       "2    1      1      2      2     1       1     3  \n",
       "3    0      3      4      1     1       1     2  \n",
       "4    0      3      1      0     1       0     2  \n",
       "5    1      1      2      1     1       1     3  \n",
       "6    0      3      2      1     1       1     1  \n",
       "7    0      3      2      1     1       1     1  \n",
       "8    0      3      1      1     1       1     3  \n",
       "9    1      3      3      0     0       1     1  "
      ]
     },
     "execution_count": 24,
     "metadata": {},
     "output_type": "execute_result"
    }
   ],
   "source": [
    "Students=pd.read_csv('/content/drive/My Drive/ICT - AI/Study Units/ARI5102 - Data Analysis Techniques/4. Generalized Linear Models/Students.dat',sep='\\s+')\n",
    "Students.head(10)     "
   ]
  },
  {
   "cell_type": "code",
   "execution_count": null,
   "metadata": {
    "colab": {
     "base_uri": "https://localhost:8080/"
    },
    "executionInfo": {
     "elapsed": 4,
     "status": "ok",
     "timestamp": 1680088503453,
     "user": {
      "displayName": "Konstantinos Makantasis",
      "userId": "07935674197300532491"
     },
     "user_tz": -120
    },
    "id": "FOYJin0Z-Jo7",
    "outputId": "0dc29d47-2ec4-44f7-fdc8-8294f2f892a7"
   },
   "outputs": [
    {
     "name": "stdout",
     "output_type": "stream",
     "text": [
      "                 Generalized Linear Model Regression Results                  \n",
      "==============================================================================\n",
      "Dep. Variable:                   abor   No. Observations:                   60\n",
      "Model:                            GLM   Df Residuals:                       45\n",
      "Model Family:                Binomial   Df Model:                           14\n",
      "Link Function:                  Logit   Scale:                          1.0000\n",
      "Method:                          IRLS   Log-Likelihood:                -10.684\n",
      "Date:                Wed, 29 Mar 2023   Deviance:                       21.368\n",
      "Time:                        11:15:03   Pearson chi2:                     19.5\n",
      "No. Iterations:                     9   Pseudo R-squ. (CS):             0.4980\n",
      "Covariance Type:            nonrobust                                         \n",
      "==============================================================================\n",
      "                 coef    std err          z      P>|z|      [0.025      0.975]\n",
      "------------------------------------------------------------------------------\n",
      "Intercept     10.1014     10.891      0.927      0.354     -11.245      31.448\n",
      "gender         1.0022      1.866      0.537      0.591      -2.654       4.659\n",
      "age           -0.0783      0.127     -0.615      0.539      -0.328       0.172\n",
      "hsgpa         -3.7344      2.809     -1.329      0.184      -9.241       1.772\n",
      "cogpa          2.5113      3.740      0.671      0.502      -4.819       9.841\n",
      "dhome          0.0006      0.001      0.821      0.412      -0.001       0.002\n",
      "dres          -0.3388      0.295     -1.147      0.251      -0.918       0.240\n",
      "tv             0.2660      0.253      1.051      0.293      -0.230       0.762\n",
      "sport          0.0272      0.255      0.107      0.915      -0.473       0.527\n",
      "news           1.3869      0.699      1.985      0.047       0.017       2.756\n",
      "aids           0.3967      0.566      0.700      0.484      -0.713       1.507\n",
      "veg            4.3214      3.861      1.119      0.263      -3.247      11.890\n",
      "ideol         -1.6378      0.789     -2.075      0.038      -3.185      -0.091\n",
      "relig         -0.7246      0.782     -0.926      0.354      -2.257       0.808\n",
      "affirm        -2.7482      2.690     -1.022      0.307      -8.020       2.524\n",
      "==============================================================================\n"
     ]
    }
   ],
   "source": [
    "fit = smf.glm('abor ~ gender + age + hsgpa + cogpa + dhome + dres + tv + sport + news + aids + veg + ideol + relig + affirm', \n",
    "              family = sm.families.Binomial(), data=Students).fit()\n",
    "print(fit.summary())"
   ]
  },
  {
   "cell_type": "code",
   "execution_count": null,
   "metadata": {
    "colab": {
     "base_uri": "https://localhost:8080/"
    },
    "executionInfo": {
     "elapsed": 10,
     "status": "ok",
     "timestamp": 1680088651919,
     "user": {
      "displayName": "Konstantinos Makantasis",
      "userId": "07935674197300532491"
     },
     "user_tz": -120
    },
    "id": "XGnk1LcM-BlD",
    "outputId": "d293c75c-77c6-468e-e913-d204f489e665"
   },
   "outputs": [
    {
     "name": "stdout",
     "output_type": "stream",
     "text": [
      "Intercept is 0.7564\n",
      "gender: 0.0000 \t age: 0.0000 \t hsgpa: 0.0000\n",
      "cogpa: 0.0000 \t dhome: 0.0000 \t dres: 0.0000\n",
      "tv: 0.0000 \t sport: 0.0000 \t news: 0.0000\n",
      "aids: 0.0000 \t veg: 0.0000 \t ideol: -0.3843\n",
      "relig: -0.1905 \t affirm: 0.0000\n"
     ]
    }
   ],
   "source": [
    "y = Students.abor\n",
    "x = Students.drop(['subject', 'abor', 'life', 'affil'], axis = 1).astype('float64')\n",
    "\n",
    "scaler = StandardScaler()\n",
    "x = scaler.fit_transform(x)\n",
    "\n",
    "clf = LogisticRegression(penalty='l1', C=0.15, solver='liblinear', max_iter=10000).fit(x, y)\n",
    "print('Intercept is {:.4f}'.format(clf.intercept_[0]))\n",
    "print('gender: {:.4f} \\t age: {:.4f} \\t hsgpa: {:.4f}'.format(clf.coef_[0][0], clf.coef_[0][1], clf.coef_[0][2]))\n",
    "print('cogpa: {:.4f} \\t dhome: {:.4f} \\t dres: {:.4f}'.format(clf.coef_[0][3], clf.coef_[0][4], clf.coef_[0][5]))\n",
    "print('tv: {:.4f} \\t sport: {:.4f} \\t news: {:.4f}'.format(clf.coef_[0][6], clf.coef_[0][7], clf.coef_[0][8]))\n",
    "print('aids: {:.4f} \\t veg: {:.4f} \\t ideol: {:.4f}'.format(clf.coef_[0][9], clf.coef_[0][10], clf.coef_[0][11]))\n",
    "print('relig: {:.4f} \\t affirm: {:.4f}'.format(clf.coef_[0][12], clf.coef_[0][13]))"
   ]
  },
  {
   "cell_type": "code",
   "execution_count": null,
   "metadata": {
    "colab": {
     "base_uri": "https://localhost:8080/"
    },
    "executionInfo": {
     "elapsed": 551,
     "status": "ok",
     "timestamp": 1680088687969,
     "user": {
      "displayName": "Konstantinos Makantasis",
      "userId": "07935674197300532491"
     },
     "user_tz": -120
    },
    "id": "_x937Fj9Fm7K",
    "outputId": "cfac37e5-0feb-492b-d61f-7ac6374cd1aa"
   },
   "outputs": [
    {
     "name": "stdout",
     "output_type": "stream",
     "text": [
      "Intercept is 1.3039\n",
      "gender: 0.0281 \t age: -0.0016 \t hsgpa: -0.0091\n",
      "cogpa: 0.0150 \t dhome: 0.0287 \t dres: -0.0257\n",
      "tv: 0.0419 \t sport: -0.0149 \t news: 0.0650\n",
      "aids: 0.0047 \t veg: 0.0207 \t ideol: -0.1103\n",
      "relig: -0.1010 \t affirm: 0.0568\n"
     ]
    }
   ],
   "source": [
    "clf = LogisticRegression(penalty='l2', C=0.01, max_iter=10000).fit(x, y)\n",
    "print('Intercept is {:.4f}'.format(clf.intercept_[0]))\n",
    "print('gender: {:.4f} \\t age: {:.4f} \\t hsgpa: {:.4f}'.format(clf.coef_[0][0], clf.coef_[0][1], clf.coef_[0][2]))\n",
    "print('cogpa: {:.4f} \\t dhome: {:.4f} \\t dres: {:.4f}'.format(clf.coef_[0][3], clf.coef_[0][4], clf.coef_[0][5]))\n",
    "print('tv: {:.4f} \\t sport: {:.4f} \\t news: {:.4f}'.format(clf.coef_[0][6], clf.coef_[0][7], clf.coef_[0][8]))\n",
    "print('aids: {:.4f} \\t veg: {:.4f} \\t ideol: {:.4f}'.format(clf.coef_[0][9], clf.coef_[0][10], clf.coef_[0][11]))\n",
    "print('relig: {:.4f} \\t affirm: {:.4f}'.format(clf.coef_[0][12], clf.coef_[0][13]))"
   ]
  }
 ],
 "metadata": {
  "colab": {
   "authorship_tag": "ABX9TyNxbba1XAPfjLL+xge5Mr6p",
   "provenance": []
  },
  "kernelspec": {
   "display_name": ".venv",
   "language": "python",
   "name": "python3"
  },
  "language_info": {
   "codemirror_mode": {
    "name": "ipython",
    "version": 3
   },
   "file_extension": ".py",
   "mimetype": "text/x-python",
   "name": "python",
   "nbconvert_exporter": "python",
   "pygments_lexer": "ipython3",
   "version": "3.9.13"
  }
 },
 "nbformat": 4,
 "nbformat_minor": 0
}
