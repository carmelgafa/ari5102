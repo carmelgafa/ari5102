{
 "cells": [
  {
   "cell_type": "code",
   "execution_count": 1,
   "metadata": {
    "colab": {
     "base_uri": "https://localhost:8080/"
    },
    "executionInfo": {
     "elapsed": 32467,
     "status": "ok",
     "timestamp": 1709280785318,
     "user": {
      "displayName": "Konstantinos Makantasis",
      "userId": "07935674197300532491"
     },
     "user_tz": -60
    },
    "id": "Ln7Fyz5DH85m",
    "outputId": "71b50f79-872c-4b1e-a1b9-646075d95bd5"
   },
   "outputs": [
    {
     "name": "stdout",
     "output_type": "stream",
     "text": [
      "Collecting pingouin\n",
      "  Downloading pingouin-0.5.5-py3-none-any.whl.metadata (19 kB)\n",
      "Requirement already satisfied: matplotlib in f:\\work\\masters-ai\\ari5102\\.venv\\lib\\site-packages (from pingouin) (3.10.0)\n",
      "Requirement already satisfied: numpy in f:\\work\\masters-ai\\ari5102\\.venv\\lib\\site-packages (from pingouin) (2.2.3)\n",
      "Requirement already satisfied: pandas>=1.5 in f:\\work\\masters-ai\\ari5102\\.venv\\lib\\site-packages (from pingouin) (2.2.3)\n",
      "Collecting pandas-flavor (from pingouin)\n",
      "  Downloading pandas_flavor-0.6.0-py3-none-any.whl.metadata (6.3 kB)\n",
      "Collecting scikit-learn>=1.2 (from pingouin)\n",
      "  Using cached scikit_learn-1.6.1-cp311-cp311-win_amd64.whl.metadata (15 kB)\n",
      "Requirement already satisfied: scipy in f:\\work\\masters-ai\\ari5102\\.venv\\lib\\site-packages (from pingouin) (1.15.2)\n",
      "Requirement already satisfied: seaborn in f:\\work\\masters-ai\\ari5102\\.venv\\lib\\site-packages (from pingouin) (0.13.2)\n",
      "Requirement already satisfied: statsmodels in f:\\work\\masters-ai\\ari5102\\.venv\\lib\\site-packages (from pingouin) (0.14.4)\n",
      "Collecting tabulate (from pingouin)\n",
      "  Downloading tabulate-0.9.0-py3-none-any.whl.metadata (34 kB)\n",
      "Requirement already satisfied: python-dateutil>=2.8.2 in f:\\work\\masters-ai\\ari5102\\.venv\\lib\\site-packages (from pandas>=1.5->pingouin) (2.9.0.post0)\n",
      "Requirement already satisfied: pytz>=2020.1 in f:\\work\\masters-ai\\ari5102\\.venv\\lib\\site-packages (from pandas>=1.5->pingouin) (2025.1)\n",
      "Requirement already satisfied: tzdata>=2022.7 in f:\\work\\masters-ai\\ari5102\\.venv\\lib\\site-packages (from pandas>=1.5->pingouin) (2025.1)\n",
      "Collecting joblib>=1.2.0 (from scikit-learn>=1.2->pingouin)\n",
      "  Using cached joblib-1.4.2-py3-none-any.whl.metadata (5.4 kB)\n",
      "Collecting threadpoolctl>=3.1.0 (from scikit-learn>=1.2->pingouin)\n",
      "  Using cached threadpoolctl-3.6.0-py3-none-any.whl.metadata (13 kB)\n",
      "Requirement already satisfied: contourpy>=1.0.1 in f:\\work\\masters-ai\\ari5102\\.venv\\lib\\site-packages (from matplotlib->pingouin) (1.3.1)\n",
      "Requirement already satisfied: cycler>=0.10 in f:\\work\\masters-ai\\ari5102\\.venv\\lib\\site-packages (from matplotlib->pingouin) (0.12.1)\n",
      "Requirement already satisfied: fonttools>=4.22.0 in f:\\work\\masters-ai\\ari5102\\.venv\\lib\\site-packages (from matplotlib->pingouin) (4.56.0)\n",
      "Requirement already satisfied: kiwisolver>=1.3.1 in f:\\work\\masters-ai\\ari5102\\.venv\\lib\\site-packages (from matplotlib->pingouin) (1.4.8)\n",
      "Requirement already satisfied: packaging>=20.0 in f:\\work\\masters-ai\\ari5102\\.venv\\lib\\site-packages (from matplotlib->pingouin) (24.2)\n",
      "Requirement already satisfied: pillow>=8 in f:\\work\\masters-ai\\ari5102\\.venv\\lib\\site-packages (from matplotlib->pingouin) (11.1.0)\n",
      "Requirement already satisfied: pyparsing>=2.3.1 in f:\\work\\masters-ai\\ari5102\\.venv\\lib\\site-packages (from matplotlib->pingouin) (3.2.1)\n",
      "Collecting xarray (from pandas-flavor->pingouin)\n",
      "  Downloading xarray-2025.3.0-py3-none-any.whl.metadata (12 kB)\n",
      "Requirement already satisfied: patsy>=0.5.6 in f:\\work\\masters-ai\\ari5102\\.venv\\lib\\site-packages (from statsmodels->pingouin) (1.0.1)\n",
      "Requirement already satisfied: six>=1.5 in f:\\work\\masters-ai\\ari5102\\.venv\\lib\\site-packages (from python-dateutil>=2.8.2->pandas>=1.5->pingouin) (1.17.0)\n",
      "Downloading pingouin-0.5.5-py3-none-any.whl (204 kB)\n",
      "Using cached scikit_learn-1.6.1-cp311-cp311-win_amd64.whl (11.1 MB)\n",
      "Downloading pandas_flavor-0.6.0-py3-none-any.whl (7.2 kB)\n",
      "Downloading tabulate-0.9.0-py3-none-any.whl (35 kB)\n",
      "Using cached joblib-1.4.2-py3-none-any.whl (301 kB)\n",
      "Using cached threadpoolctl-3.6.0-py3-none-any.whl (18 kB)\n",
      "Downloading xarray-2025.3.0-py3-none-any.whl (1.3 MB)\n",
      "   ---------------------------------------- 0.0/1.3 MB ? eta -:--:--\n",
      "   ---------------------------------------- 0.0/1.3 MB ? eta -:--:--\n",
      "   -------- ------------------------------- 0.3/1.3 MB ? eta -:--:--\n",
      "   ---------------- ----------------------- 0.5/1.3 MB 932.9 kB/s eta 0:00:01\n",
      "   ------------------------ --------------- 0.8/1.3 MB 987.4 kB/s eta 0:00:01\n",
      "   --------------------------------- ------ 1.0/1.3 MB 1.1 MB/s eta 0:00:01\n",
      "   --------------------------------- ------ 1.0/1.3 MB 1.1 MB/s eta 0:00:01\n",
      "   ---------------------------------------- 1.3/1.3 MB 1.1 MB/s eta 0:00:00\n",
      "Installing collected packages: threadpoolctl, tabulate, joblib, scikit-learn, xarray, pandas-flavor, pingouin\n",
      "Successfully installed joblib-1.4.2 pandas-flavor-0.6.0 pingouin-0.5.5 scikit-learn-1.6.1 tabulate-0.9.0 threadpoolctl-3.6.0 xarray-2025.3.0\n"
     ]
    },
    {
     "ename": "ModuleNotFoundError",
     "evalue": "No module named 'google'",
     "output_type": "error",
     "traceback": [
      "\u001b[31m---------------------------------------------------------------------------\u001b[39m",
      "\u001b[31mModuleNotFoundError\u001b[39m                       Traceback (most recent call last)",
      "\u001b[36mCell\u001b[39m\u001b[36m \u001b[39m\u001b[32mIn[1]\u001b[39m\u001b[32m, line 10\u001b[39m\n\u001b[32m      8\u001b[39m \u001b[38;5;28;01mimport\u001b[39;00m\u001b[38;5;250m \u001b[39m\u001b[34;01mpandas\u001b[39;00m\u001b[38;5;250m \u001b[39m\u001b[38;5;28;01mas\u001b[39;00m\u001b[38;5;250m \u001b[39m\u001b[34;01mpd\u001b[39;00m\n\u001b[32m      9\u001b[39m sns.set_theme()\n\u001b[32m---> \u001b[39m\u001b[32m10\u001b[39m \u001b[38;5;28;01mfrom\u001b[39;00m\u001b[38;5;250m \u001b[39m\u001b[34;01mgoogle\u001b[39;00m\u001b[34;01m.\u001b[39;00m\u001b[34;01mcolab\u001b[39;00m\u001b[38;5;250m \u001b[39m\u001b[38;5;28;01mimport\u001b[39;00m drive\n\u001b[32m     11\u001b[39m drive.mount(\u001b[33m'\u001b[39m\u001b[33m/content/drive\u001b[39m\u001b[33m'\u001b[39m)\n",
      "\u001b[31mModuleNotFoundError\u001b[39m: No module named 'google'"
     ]
    }
   ],
   "source": [
    "!pip install pingouin\n",
    "import numpy as np\n",
    "from statsmodels.stats.proportion import proportion_confint, confint_proportions_2indep\n",
    "import pingouin as pg\n",
    "import scipy.stats as st\n",
    "import matplotlib.pyplot as plt\n",
    "import seaborn as sns\n",
    "import pandas as pd\n",
    "sns.set_theme()\n",
    "from google.colab import drive\n",
    "drive.mount('/content/drive')"
   ]
  },
  {
   "cell_type": "code",
   "execution_count": null,
   "metadata": {
    "colab": {
     "base_uri": "https://localhost:8080/",
     "height": 1000
    },
    "executionInfo": {
     "elapsed": 16406,
     "status": "ok",
     "timestamp": 1709280804215,
     "user": {
      "displayName": "Konstantinos Makantasis",
      "userId": "07935674197300532491"
     },
     "user_tz": -60
    },
    "id": "v3qxqHBiIktq",
    "outputId": "4f7f97b4-8b17-40a2-c126-0136f3305212"
   },
   "outputs": [
    {
     "data": {
      "text/plain": [
       "(0.4, 0.6)"
      ]
     },
     "execution_count": 2,
     "metadata": {},
     "output_type": "execute_result"
    },
    {
     "data": {
      "image/png": "[encoded data removed]",
      "text/plain": [
       "<Figure size 640x480 with 1 Axes>"
      ]
     },
     "metadata": {},
     "output_type": "display_data"
    },
    {
     "data": {
      "image/png": "[encoded data removed]",
      "text/plain": [
       "<Figure size 640x480 with 1 Axes>"
      ]
     },
     "metadata": {},
     "output_type": "display_data"
    },
    {
     "data": {
      "image/png": "[encoded data removed]",
      "text/plain": [
       "<Figure size 640x480 with 1 Axes>"
      ]
     },
     "metadata": {},
     "output_type": "display_data"
    }
   ],
   "source": [
    "plt.figure()\n",
    "sns.histplot(np.random.binomial(2271, 0.5, 10)/2271, bins=10, kde=True)\n",
    "plt.title(\"10 samples\")\n",
    "plt.xlim(0.4, 0.6)\n",
    "\n",
    "plt.figure()\n",
    "sns.histplot(np.random.binomial(2271, 0.5, 100)/2271, bins=14, kde=True)\n",
    "plt.title(\"100 samples\")\n",
    "plt.xlim(0.4, 0.6)\n",
    "\n",
    "plt.figure()\n",
    "sns.histplot(np.random.binomial(2271, 0.5, 1000000)/2271, bins=14, kde=True)\n",
    "plt.title(\"1000000 samples\")\n",
    "plt.xlim(0.4, 0.6)"
   ]
  },
  {
   "cell_type": "code",
   "execution_count": null,
   "metadata": {
    "colab": {
     "base_uri": "https://localhost:8080/",
     "height": 457
    },
    "executionInfo": {
     "elapsed": 1768,
     "status": "ok",
     "timestamp": 1709280814861,
     "user": {
      "displayName": "Konstantinos Makantasis",
      "userId": "07935674197300532491"
     },
     "user_tz": -60
    },
    "id": "ZcSCYssYGOJn",
    "outputId": "a831b949-c3d0-4aa8-f8ba-94c7dca8895a"
   },
   "outputs": [
    {
     "data": {
      "image/png": "[encoded data removed]",
      "text/plain": [
       "<Figure size 640x480 with 1 Axes>"
      ]
     },
     "metadata": {},
     "output_type": "display_data"
    }
   ],
   "source": [
    "n = 10\n",
    "y1 = 0.0\n",
    "y2 = 6.0\n",
    "pi = np.linspace(0, 1, 100)\n",
    "\n",
    "def likelihood_function(y):\n",
    "   return pi**(y) * (1 - pi)**(n - y)\n",
    "\n",
    "plt.plot(pi, likelihood_function(y1)/np.max(likelihood_function(y1)), label='y=0')\n",
    "plt.plot(pi, likelihood_function(y2)/np.max(likelihood_function(y2)), label='y=6')\n",
    "plt.xlabel('Binomial parameter π')\n",
    "plt.legend()\n",
    "plt.grid(True)\n"
   ]
  },
  {
   "cell_type": "code",
   "execution_count": null,
   "metadata": {
    "colab": {
     "base_uri": "https://localhost:8080/"
    },
    "executionInfo": {
     "elapsed": 290,
     "status": "ok",
     "timestamp": 1709280818348,
     "user": {
      "displayName": "Konstantinos Makantasis",
      "userId": "07935674197300532491"
     },
     "user_tz": -60
    },
    "id": "W-eLBqOfBSoJ",
    "outputId": "b05cb138-a25a-4ad6-baed-7f305c9eeb20"
   },
   "outputs": [
    {
     "name": "stdout",
     "output_type": "stream",
     "text": [
      "The 95% confidence interval is [0.4944 - 0.5450]\n"
     ]
    }
   ],
   "source": [
    "interval = proportion_confint(count=778, nobs=1497, alpha=0.05)\n",
    "lower, upper = interval[0], interval[1]\n",
    "print('The 95%% confidence interval is [%.4f - %.4f]'%(lower, upper))"
   ]
  },
  {
   "cell_type": "code",
   "execution_count": null,
   "metadata": {
    "colab": {
     "base_uri": "https://localhost:8080/",
     "height": 405
    },
    "executionInfo": {
     "elapsed": 1416,
     "status": "ok",
     "timestamp": 1709280821640,
     "user": {
      "displayName": "Konstantinos Makantasis",
      "userId": "07935674197300532491"
     },
     "user_tz": -60
    },
    "id": "fbzeLu9jM34P",
    "outputId": "ceb4888c-e4ae-46ad-8d72-c825321b32de"
   },
   "outputs": [
    {
     "name": "stderr",
     "output_type": "stream",
     "text": [
      "<ipython-input-5-3eea8bf833fb>:1: ParserWarning: Falling back to the 'python' engine because the 'c' engine does not support regex separators (separators > 1 char and different from '\\s+' are interpreted as regex); you can avoid this warning by specifying engine='python'.\n",
      "  Anorexia = pd.read_csv(\"/content/drive/My Drive/ICT - AI/Study Units/ARI5102 - Data Analysis Techniques/2. Statistical Inference - Estimation/Anorexia.dat\", sep='\\s+|\\s+')\n"
     ]
    },
    {
     "data": {
      "application/vnd.google.colaboratory.intrinsic+json": {
       "summary": "{\n  \"name\": \"Anorexia\",\n  \"rows\": 72,\n  \"fields\": [\n    {\n      \"column\": \"subject\",\n      \"properties\": {\n        \"dtype\": \"number\",\n        \"std\": 20,\n        \"min\": 1,\n        \"max\": 72,\n        \"num_unique_values\": 72,\n        \"samples\": [\n          5,\n          63,\n          19\n        ],\n        \"semantic_type\": \"\",\n        \"description\": \"\"\n      }\n    },\n    {\n      \"column\": \"therapy\",\n      \"properties\": {\n        \"dtype\": \"category\",\n        \"num_unique_values\": 3,\n        \"samples\": [\n          \"cb\",\n          \"f\",\n          \"c\"\n        ],\n        \"semantic_type\": \"\",\n        \"description\": \"\"\n      }\n    },\n    {\n      \"column\": \"before\",\n      \"properties\": {\n        \"dtype\": \"number\",\n        \"std\": 5.182466376782283,\n        \"min\": 70.0,\n        \"max\": 94.9,\n        \"num_unique_values\": 58,\n        \"samples\": [\n          80.5,\n          88.7,\n          81.6\n        ],\n        \"semantic_type\": \"\",\n        \"description\": \"\"\n      }\n    },\n    {\n      \"column\": \"after\",\n      \"properties\": {\n        \"dtype\": \"number\",\n        \"std\": 8.035173069684367,\n        \"min\": 71.3,\n        \"max\": 103.6,\n        \"num_unique_values\": 67,\n        \"samples\": [\n          101.6,\n          85.4,\n          76.4\n        ],\n        \"semantic_type\": \"\",\n        \"description\": \"\"\n      }\n    }\n  ]\n}",
       "type": "dataframe",
       "variable_name": "Anorexia"
      },
      "text/html": [
       "\n",
       "  <div id=\"df-5f95d865-d582-4deb-ab61-f1633a7507d7\" class=\"colab-df-container\">\n",
       "    <div>\n",
       "<style scoped>\n",
       "    .dataframe tbody tr th:only-of-type {\n",
       "        vertical-align: middle;\n",
       "    }\n",
       "\n",
       "    .dataframe tbody tr th {\n",
       "        vertical-align: top;\n",
       "    }\n",
       "\n",
       "    .dataframe thead th {\n",
       "        text-align: right;\n",
       "    }\n",
       "</style>\n",
       "<table border=\"1\" class=\"dataframe\">\n",
       "  <thead>\n",
       "    <tr style=\"text-align: right;\">\n",
       "      <th></th>\n",
       "      <th>subject</th>\n",
       "      <th>therapy</th>\n",
       "      <th>before</th>\n",
       "      <th>after</th>\n",
       "    </tr>\n",
       "  </thead>\n",
       "  <tbody>\n",
       "    <tr>\n",
       "      <th>0</th>\n",
       "      <td>1</td>\n",
       "      <td>cb</td>\n",
       "      <td>80.5</td>\n",
       "      <td>82.2</td>\n",
       "    </tr>\n",
       "    <tr>\n",
       "      <th>1</th>\n",
       "      <td>2</td>\n",
       "      <td>cb</td>\n",
       "      <td>84.9</td>\n",
       "      <td>85.6</td>\n",
       "    </tr>\n",
       "    <tr>\n",
       "      <th>2</th>\n",
       "      <td>3</td>\n",
       "      <td>cb</td>\n",
       "      <td>81.5</td>\n",
       "      <td>81.4</td>\n",
       "    </tr>\n",
       "    <tr>\n",
       "      <th>3</th>\n",
       "      <td>4</td>\n",
       "      <td>cb</td>\n",
       "      <td>82.6</td>\n",
       "      <td>81.9</td>\n",
       "    </tr>\n",
       "    <tr>\n",
       "      <th>4</th>\n",
       "      <td>5</td>\n",
       "      <td>cb</td>\n",
       "      <td>79.9</td>\n",
       "      <td>76.4</td>\n",
       "    </tr>\n",
       "    <tr>\n",
       "      <th>5</th>\n",
       "      <td>6</td>\n",
       "      <td>cb</td>\n",
       "      <td>88.7</td>\n",
       "      <td>103.6</td>\n",
       "    </tr>\n",
       "    <tr>\n",
       "      <th>6</th>\n",
       "      <td>7</td>\n",
       "      <td>cb</td>\n",
       "      <td>94.9</td>\n",
       "      <td>98.4</td>\n",
       "    </tr>\n",
       "    <tr>\n",
       "      <th>7</th>\n",
       "      <td>8</td>\n",
       "      <td>cb</td>\n",
       "      <td>76.3</td>\n",
       "      <td>93.4</td>\n",
       "    </tr>\n",
       "    <tr>\n",
       "      <th>8</th>\n",
       "      <td>9</td>\n",
       "      <td>cb</td>\n",
       "      <td>81.0</td>\n",
       "      <td>73.4</td>\n",
       "    </tr>\n",
       "    <tr>\n",
       "      <th>9</th>\n",
       "      <td>10</td>\n",
       "      <td>cb</td>\n",
       "      <td>80.5</td>\n",
       "      <td>82.1</td>\n",
       "    </tr>\n",
       "  </tbody>\n",
       "</table>\n",
       "</div>\n",
       "    <div class=\"colab-df-buttons\">\n",
       "\n",
       "  <div class=\"colab-df-container\">\n",
       "    <button class=\"colab-df-convert\" onclick=\"convertToInteractive('df-5f95d865-d582-4deb-ab61-f1633a7507d7')\"\n",
       "            title=\"Convert this dataframe to an interactive table.\"\n",
       "            style=\"display:none;\">\n",
       "\n",
       "  <svg xmlns=\"http://www.w3.org/2000/svg\" height=\"24px\" viewBox=\"0 -960 960 960\">\n",
       "    <path d=\"M120-120v-720h720v720H120Zm60-500h600v-160H180v160Zm220 220h160v-160H400v160Zm0 220h160v-160H400v160ZM180-400h160v-160H180v160Zm440 0h160v-160H620v160ZM180-180h160v-160H180v160Zm440 0h160v-160H620v160Z\"/>\n",
       "  </svg>\n",
       "    </button>\n",
       "\n",
       "  <style>\n",
       "    .colab-df-container {\n",
       "      display:flex;\n",
       "      gap: 12px;\n",
       "    }\n",
       "\n",
       "    .colab-df-convert {\n",
       "      background-color: #E8F0FE;\n",
       "      border: none;\n",
       "      border-radius: 50%;\n",
       "      cursor: pointer;\n",
       "      display: none;\n",
       "      fill: #1967D2;\n",
       "      height: 32px;\n",
       "      padding: 0 0 0 0;\n",
       "      width: 32px;\n",
       "    }\n",
       "\n",
       "    .colab-df-convert:hover {\n",
       "      background-color: #E2EBFA;\n",
       "      box-shadow: 0px 1px 2px rgba(60, 64, 67, 0.3), 0px 1px 3px 1px rgba(60, 64, 67, 0.15);\n",
       "      fill: #174EA6;\n",
       "    }\n",
       "\n",
       "    .colab-df-buttons div {\n",
       "      margin-bottom: 4px;\n",
       "    }\n",
       "\n",
       "    [theme=dark] .colab-df-convert {\n",
       "      background-color: #3B4455;\n",
       "      fill: #D2E3FC;\n",
       "    }\n",
       "\n",
       "    [theme=dark] .colab-df-convert:hover {\n",
       "      background-color: #434B5C;\n",
       "      box-shadow: 0px 1px 3px 1px rgba(0, 0, 0, 0.15);\n",
       "      filter: drop-shadow(0px 1px 2px rgba(0, 0, 0, 0.3));\n",
       "      fill: #FFFFFF;\n",
       "    }\n",
       "  </style>\n",
       "\n",
       "    <script>\n",
       "      const buttonEl =\n",
       "        document.querySelector('#df-5f95d865-d582-4deb-ab61-f1633a7507d7 button.colab-df-convert');\n",
       "      buttonEl.style.display =\n",
       "        google.colab.kernel.accessAllowed ? 'block' : 'none';\n",
       "\n",
       "      async function convertToInteractive(key) {\n",
       "        const element = document.querySelector('#df-5f95d865-d582-4deb-ab61-f1633a7507d7');\n",
       "        const dataTable =\n",
       "          await google.colab.kernel.invokeFunction('convertToInteractive',\n",
       "                                                    [key], {});\n",
       "        if (!dataTable) return;\n",
       "\n",
       "        const docLinkHtml = 'Like what you see? Visit the ' +\n",
       "          '<a target=\"_blank\" href=https://colab.research.google.com/notebooks/data_table.ipynb>data table notebook</a>'\n",
       "          + ' to learn more about interactive tables.';\n",
       "        element.innerHTML = '';\n",
       "        dataTable['output_type'] = 'display_data';\n",
       "        await google.colab.output.renderOutput(dataTable, element);\n",
       "        const docLink = document.createElement('div');\n",
       "        docLink.innerHTML = docLinkHtml;\n",
       "        element.appendChild(docLink);\n",
       "      }\n",
       "    </script>\n",
       "  </div>\n",
       "\n",
       "\n",
       "<div id=\"df-53bb7e0b-b92b-44f1-8f82-51b48dad3280\">\n",
       "  <button class=\"colab-df-quickchart\" onclick=\"quickchart('df-53bb7e0b-b92b-44f1-8f82-51b48dad3280')\"\n",
       "            title=\"Suggest charts\"\n",
       "            style=\"display:none;\">\n",
       "\n",
       "<svg xmlns=\"http://www.w3.org/2000/svg\" height=\"24px\"viewBox=\"0 0 24 24\"\n",
       "     width=\"24px\">\n",
       "    <g>\n",
       "        <path d=\"M19 3H5c-1.1 0-2 .9-2 2v14c0 1.1.9 2 2 2h14c1.1 0 2-.9 2-2V5c0-1.1-.9-2-2-2zM9 17H7v-7h2v7zm4 0h-2V7h2v10zm4 0h-2v-4h2v4z\"/>\n",
       "    </g>\n",
       "</svg>\n",
       "  </button>\n",
       "\n",
       "<style>\n",
       "  .colab-df-quickchart {\n",
       "      --bg-color: #E8F0FE;\n",
       "      --fill-color: #1967D2;\n",
       "      --hover-bg-color: #E2EBFA;\n",
       "      --hover-fill-color: #174EA6;\n",
       "      --disabled-fill-color: #AAA;\n",
       "      --disabled-bg-color: #DDD;\n",
       "  }\n",
       "\n",
       "  [theme=dark] .colab-df-quickchart {\n",
       "      --bg-color: #3B4455;\n",
       "      --fill-color: #D2E3FC;\n",
       "      --hover-bg-color: #434B5C;\n",
       "      --hover-fill-color: #FFFFFF;\n",
       "      --disabled-bg-color: #3B4455;\n",
       "      --disabled-fill-color: #666;\n",
       "  }\n",
       "\n",
       "  .colab-df-quickchart {\n",
       "    background-color: var(--bg-color);\n",
       "    border: none;\n",
       "    border-radius: 50%;\n",
       "    cursor: pointer;\n",
       "    display: none;\n",
       "    fill: var(--fill-color);\n",
       "    height: 32px;\n",
       "    padding: 0;\n",
       "    width: 32px;\n",
       "  }\n",
       "\n",
       "  .colab-df-quickchart:hover {\n",
       "    background-color: var(--hover-bg-color);\n",
       "    box-shadow: 0 1px 2px rgba(60, 64, 67, 0.3), 0 1px 3px 1px rgba(60, 64, 67, 0.15);\n",
       "    fill: var(--button-hover-fill-color);\n",
       "  }\n",
       "\n",
       "  .colab-df-quickchart-complete:disabled,\n",
       "  .colab-df-quickchart-complete:disabled:hover {\n",
       "    background-color: var(--disabled-bg-color);\n",
       "    fill: var(--disabled-fill-color);\n",
       "    box-shadow: none;\n",
       "  }\n",
       "\n",
       "  .colab-df-spinner {\n",
       "    border: 2px solid var(--fill-color);\n",
       "    border-color: transparent;\n",
       "    border-bottom-color: var(--fill-color);\n",
       "    animation:\n",
       "      spin 1s steps(1) infinite;\n",
       "  }\n",
       "\n",
       "  @keyframes spin {\n",
       "    0% {\n",
       "      border-color: transparent;\n",
       "      border-bottom-color: var(--fill-color);\n",
       "      border-left-color: var(--fill-color);\n",
       "    }\n",
       "    20% {\n",
       "      border-color: transparent;\n",
       "      border-left-color: var(--fill-color);\n",
       "      border-top-color: var(--fill-color);\n",
       "    }\n",
       "    30% {\n",
       "      border-color: transparent;\n",
       "      border-left-color: var(--fill-color);\n",
       "      border-top-color: var(--fill-color);\n",
       "      border-right-color: var(--fill-color);\n",
       "    }\n",
       "    40% {\n",
       "      border-color: transparent;\n",
       "      border-right-color: var(--fill-color);\n",
       "      border-top-color: var(--fill-color);\n",
       "    }\n",
       "    60% {\n",
       "      border-color: transparent;\n",
       "      border-right-color: var(--fill-color);\n",
       "    }\n",
       "    80% {\n",
       "      border-color: transparent;\n",
       "      border-right-color: var(--fill-color);\n",
       "      border-bottom-color: var(--fill-color);\n",
       "    }\n",
       "    90% {\n",
       "      border-color: transparent;\n",
       "      border-bottom-color: var(--fill-color);\n",
       "    }\n",
       "  }\n",
       "</style>\n",
       "\n",
       "  <script>\n",
       "    async function quickchart(key) {\n",
       "      const quickchartButtonEl =\n",
       "        document.querySelector('#' + key + ' button');\n",
       "      quickchartButtonEl.disabled = true;  // To prevent multiple clicks.\n",
       "      quickchartButtonEl.classList.add('colab-df-spinner');\n",
       "      try {\n",
       "        const charts = await google.colab.kernel.invokeFunction(\n",
       "            'suggestCharts', [key], {});\n",
       "      } catch (error) {\n",
       "        console.error('Error during call to suggestCharts:', error);\n",
       "      }\n",
       "      quickchartButtonEl.classList.remove('colab-df-spinner');\n",
       "      quickchartButtonEl.classList.add('colab-df-quickchart-complete');\n",
       "    }\n",
       "    (() => {\n",
       "      let quickchartButtonEl =\n",
       "        document.querySelector('#df-53bb7e0b-b92b-44f1-8f82-51b48dad3280 button');\n",
       "      quickchartButtonEl.style.display =\n",
       "        google.colab.kernel.accessAllowed ? 'block' : 'none';\n",
       "    })();\n",
       "  </script>\n",
       "</div>\n",
       "    </div>\n",
       "  </div>\n"
      ],
      "text/plain": [
       "   subject therapy  before  after\n",
       "0        1      cb    80.5   82.2\n",
       "1        2      cb    84.9   85.6\n",
       "2        3      cb    81.5   81.4\n",
       "3        4      cb    82.6   81.9\n",
       "4        5      cb    79.9   76.4\n",
       "5        6      cb    88.7  103.6\n",
       "6        7      cb    94.9   98.4\n",
       "7        8      cb    76.3   93.4\n",
       "8        9      cb    81.0   73.4\n",
       "9       10      cb    80.5   82.1"
      ]
     },
     "execution_count": 5,
     "metadata": {},
     "output_type": "execute_result"
    }
   ],
   "source": [
    "Anorexia = pd.read_csv(\"/content/drive/My Drive/ICT - AI/Study Units/ARI5102 - Data Analysis Techniques/2. Statistical Inference - Estimation/Anorexia.dat\", sep='\\s+|\\s+')\n",
    "Anorexia.head(10)"
   ]
  },
  {
   "cell_type": "code",
   "execution_count": null,
   "metadata": {
    "colab": {
     "base_uri": "https://localhost:8080/"
    },
    "executionInfo": {
     "elapsed": 286,
     "status": "ok",
     "timestamp": 1709280831672,
     "user": {
      "displayName": "Konstantinos Makantasis",
      "userId": "07935674197300532491"
     },
     "user_tz": -60
    },
    "id": "6jOs08k5Op7t",
    "outputId": "dde1f070-82bc-4892-b8ca-6fb354375e33"
   },
   "outputs": [
    {
     "name": "stdout",
     "output_type": "stream",
     "text": [
      "count    29.000000\n",
      "mean      3.006897\n",
      "std       7.308504\n",
      "min      -9.100000\n",
      "25%      -0.700000\n",
      "50%       1.400000\n",
      "75%       3.900000\n",
      "max      20.900000\n",
      "dtype: float64\n"
     ]
    }
   ],
   "source": [
    "congitive_behavioral_therapy = Anorexia[Anorexia['therapy']=='cb']\n",
    "change = congitive_behavioral_therapy['after']-congitive_behavioral_therapy['before']\n",
    "print(change.describe())"
   ]
  },
  {
   "cell_type": "code",
   "execution_count": null,
   "metadata": {
    "colab": {
     "base_uri": "https://localhost:8080/"
    },
    "executionInfo": {
     "elapsed": 258,
     "status": "ok",
     "timestamp": 1709280941561,
     "user": {
      "displayName": "Konstantinos Makantasis",
      "userId": "07935674197300532491"
     },
     "user_tz": -60
    },
    "id": "awingDevRX3K",
    "outputId": "b51d637f-975e-4d0b-cc12-7e34d074125d"
   },
   "outputs": [
    {
     "name": "stdout",
     "output_type": "stream",
     "text": [
      "The 95% confidence interval is [0.2269 , 5.7869]\n",
      "The 99% confidence interval is [-0.7433 , 6.7571]\n"
     ]
    }
   ],
   "source": [
    "CI_95 = st.t.interval(confidence=0.95, df=len(change)-1, loc=np.mean(change), scale=st.sem(change))\n",
    "CI_99 = st.t.interval(confidence=0.99, df=len(change)-1, loc=np.mean(change), scale=st.sem(change))\n",
    "\n",
    "print('The 95%% confidence interval is [%.4f , %.4f]'\\\n",
    "      %(CI_95[0], CI_95[1]))\n",
    "print('The 99%% confidence interval is [%.4f , %.4f]'\\\n",
    "      %(CI_99[0], CI_99[1]))"
   ]
  },
  {
   "cell_type": "code",
   "execution_count": null,
   "metadata": {
    "colab": {
     "base_uri": "https://localhost:8080/",
     "height": 437
    },
    "executionInfo": {
     "elapsed": 890,
     "status": "ok",
     "timestamp": 1709280949135,
     "user": {
      "displayName": "Konstantinos Makantasis",
      "userId": "07935674197300532491"
     },
     "user_tz": -60
    },
    "id": "uYTt96TEf_mh",
    "outputId": "95243539-48a3-4af1-c427-5c82894a6631"
   },
   "outputs": [
    {
     "data": {
      "image/png": "[encoded data removed]",
      "text/plain": [
       "<Figure size 640x480 with 1 Axes>"
      ]
     },
     "metadata": {},
     "output_type": "display_data"
    }
   ],
   "source": [
    "hist = change.hist(density=True)\n"
   ]
  },
  {
   "cell_type": "code",
   "execution_count": null,
   "metadata": {
    "colab": {
     "base_uri": "https://localhost:8080/"
    },
    "executionInfo": {
     "elapsed": 301,
     "status": "ok",
     "timestamp": 1709280952102,
     "user": {
      "displayName": "Konstantinos Makantasis",
      "userId": "07935674197300532491"
     },
     "user_tz": -60
    },
    "id": "bk3pfj1dJRV0",
    "outputId": "cf48a923-7c99-4a1b-b8a4-b58a9c386f43"
   },
   "outputs": [
    {
     "name": "stdout",
     "output_type": "stream",
     "text": [
      "count    26.000000\n",
      "mean     -0.450000\n",
      "std       7.988705\n",
      "min     -12.200000\n",
      "25%      -7.000000\n",
      "50%      -0.350000\n",
      "75%       3.600000\n",
      "max      15.900000\n",
      "dtype: float64\n"
     ]
    }
   ],
   "source": [
    "control = Anorexia[Anorexia['therapy']=='c']\n",
    "change_control = control['after']-control['before']\n",
    "print(change_control.describe())"
   ]
  },
  {
   "cell_type": "code",
   "execution_count": null,
   "metadata": {
    "colab": {
     "base_uri": "https://localhost:8080/"
    },
    "executionInfo": {
     "elapsed": 255,
     "status": "ok",
     "timestamp": 1709280957213,
     "user": {
      "displayName": "Konstantinos Makantasis",
      "userId": "07935674197300532491"
     },
     "user_tz": -60
    },
    "id": "Tj749QhfKE89",
    "outputId": "44254c7c-e163-4335-88cd-851059bb954a"
   },
   "outputs": [
    {
     "name": "stdout",
     "output_type": "stream",
     "text": [
      "The 95% confidence interval is [-0.6800 , 7.5900]\n"
     ]
    }
   ],
   "source": [
    "res = pg.ttest(change, change_control, paired=False, correction=False)\n",
    "print('The 95%% confidence interval is [%.4f , %.4f]'\\\n",
    "      %(res['CI95%'][0][0], res['CI95%'][0][1]))"
   ]
  },
  {
   "cell_type": "code",
   "execution_count": null,
   "metadata": {
    "colab": {
     "base_uri": "https://localhost:8080/"
    },
    "executionInfo": {
     "elapsed": 248,
     "status": "ok",
     "timestamp": 1709280962102,
     "user": {
      "displayName": "Konstantinos Makantasis",
      "userId": "07935674197300532491"
     },
     "user_tz": -60
    },
    "id": "n2yimKkGWmvJ",
    "outputId": "805db1d4-aa33-4383-c5ae-0aeb4535bd2f"
   },
   "outputs": [
    {
     "name": "stdout",
     "output_type": "stream",
     "text": [
      "The 95% confidence interval is [-0.0442 , 0.0688]\n"
     ]
    }
   ],
   "source": [
    "group_1_size = 604\n",
    "group_1_complications = 315\n",
    "group_2_size = 597\n",
    "group_2_complications = 304\n",
    "interval = confint_proportions_2indep(group_1_complications,\\\n",
    "                                      group_1_size,\\\n",
    "                                      group_2_complications,\\\n",
    "                                      group_2_size,\\\n",
    "                                      method='wald')\n",
    "print('The 95%% confidence interval is [%.4f , %.4f]'\\\n",
    "      %(interval[0], interval[1]))"
   ]
  },
  {
   "cell_type": "code",
   "execution_count": null,
   "metadata": {
    "colab": {
     "base_uri": "https://localhost:8080/",
     "height": 254
    },
    "executionInfo": {
     "elapsed": 735,
     "status": "ok",
     "timestamp": 1709280966611,
     "user": {
      "displayName": "Konstantinos Makantasis",
      "userId": "07935674197300532491"
     },
     "user_tz": -60
    },
    "id": "nfA2s9RngpC8",
    "outputId": "d97a3860-8802-4cf4-bf35-ba80d64aca95"
   },
   "outputs": [
    {
     "name": "stderr",
     "output_type": "stream",
     "text": [
      "<ipython-input-15-95b44b95796b>:1: ParserWarning: Falling back to the 'python' engine because the 'c' engine does not support regex separators (separators > 1 char and different from '\\s+' are interpreted as regex); you can avoid this warning by specifying engine='python'.\n",
      "  Books = pd.read_csv(\"/content/drive/My Drive/ICT - AI/Study Units/ARI5102 - Data Analysis Techniques/2. Statistical Inference - Estimation/Library.dat\", sep='\\s+|\\s+')\n"
     ]
    },
    {
     "data": {
      "application/vnd.google.colaboratory.intrinsic+json": {
       "summary": "{\n  \"name\": \"Books\",\n  \"rows\": 53,\n  \"fields\": [\n    {\n      \"column\": \"C\",\n      \"properties\": {\n        \"dtype\": \"number\",\n        \"std\": 15,\n        \"min\": 0,\n        \"max\": 72,\n        \"num_unique_values\": 19,\n        \"samples\": [\n          1,\n          2,\n          11\n        ],\n        \"semantic_type\": \"\",\n        \"description\": \"\"\n      }\n    },\n    {\n      \"column\": \"P\",\n      \"properties\": {\n        \"dtype\": \"number\",\n        \"std\": 25,\n        \"min\": 3,\n        \"max\": 140,\n        \"num_unique_values\": 28,\n        \"samples\": [\n          13,\n          6,\n          12\n        ],\n        \"semantic_type\": \"\",\n        \"description\": \"\"\n      }\n    }\n  ]\n}",
       "type": "dataframe",
       "variable_name": "Books"
      },
      "text/html": [
       "\n",
       "  <div id=\"df-b02a8494-edcd-479d-8043-d95eb66be674\" class=\"colab-df-container\">\n",
       "    <div>\n",
       "<style scoped>\n",
       "    .dataframe tbody tr th:only-of-type {\n",
       "        vertical-align: middle;\n",
       "    }\n",
       "\n",
       "    .dataframe tbody tr th {\n",
       "        vertical-align: top;\n",
       "    }\n",
       "\n",
       "    .dataframe thead th {\n",
       "        text-align: right;\n",
       "    }\n",
       "</style>\n",
       "<table border=\"1\" class=\"dataframe\">\n",
       "  <thead>\n",
       "    <tr style=\"text-align: right;\">\n",
       "      <th></th>\n",
       "      <th>C</th>\n",
       "      <th>P</th>\n",
       "    </tr>\n",
       "  </thead>\n",
       "  <tbody>\n",
       "    <tr>\n",
       "      <th>0</th>\n",
       "      <td>1</td>\n",
       "      <td>3</td>\n",
       "    </tr>\n",
       "    <tr>\n",
       "      <th>1</th>\n",
       "      <td>9</td>\n",
       "      <td>9</td>\n",
       "    </tr>\n",
       "    <tr>\n",
       "      <th>2</th>\n",
       "      <td>4</td>\n",
       "      <td>4</td>\n",
       "    </tr>\n",
       "    <tr>\n",
       "      <th>3</th>\n",
       "      <td>1</td>\n",
       "      <td>18</td>\n",
       "    </tr>\n",
       "    <tr>\n",
       "      <th>4</th>\n",
       "      <td>1</td>\n",
       "      <td>5</td>\n",
       "    </tr>\n",
       "  </tbody>\n",
       "</table>\n",
       "</div>\n",
       "    <div class=\"colab-df-buttons\">\n",
       "\n",
       "  <div class=\"colab-df-container\">\n",
       "    <button class=\"colab-df-convert\" onclick=\"convertToInteractive('df-b02a8494-edcd-479d-8043-d95eb66be674')\"\n",
       "            title=\"Convert this dataframe to an interactive table.\"\n",
       "            style=\"display:none;\">\n",
       "\n",
       "  <svg xmlns=\"http://www.w3.org/2000/svg\" height=\"24px\" viewBox=\"0 -960 960 960\">\n",
       "    <path d=\"M120-120v-720h720v720H120Zm60-500h600v-160H180v160Zm220 220h160v-160H400v160Zm0 220h160v-160H400v160ZM180-400h160v-160H180v160Zm440 0h160v-160H620v160ZM180-180h160v-160H180v160Zm440 0h160v-160H620v160Z\"/>\n",
       "  </svg>\n",
       "    </button>\n",
       "\n",
       "  <style>\n",
       "    .colab-df-container {\n",
       "      display:flex;\n",
       "      gap: 12px;\n",
       "    }\n",
       "\n",
       "    .colab-df-convert {\n",
       "      background-color: #E8F0FE;\n",
       "      border: none;\n",
       "      border-radius: 50%;\n",
       "      cursor: pointer;\n",
       "      display: none;\n",
       "      fill: #1967D2;\n",
       "      height: 32px;\n",
       "      padding: 0 0 0 0;\n",
       "      width: 32px;\n",
       "    }\n",
       "\n",
       "    .colab-df-convert:hover {\n",
       "      background-color: #E2EBFA;\n",
       "      box-shadow: 0px 1px 2px rgba(60, 64, 67, 0.3), 0px 1px 3px 1px rgba(60, 64, 67, 0.15);\n",
       "      fill: #174EA6;\n",
       "    }\n",
       "\n",
       "    .colab-df-buttons div {\n",
       "      margin-bottom: 4px;\n",
       "    }\n",
       "\n",
       "    [theme=dark] .colab-df-convert {\n",
       "      background-color: #3B4455;\n",
       "      fill: #D2E3FC;\n",
       "    }\n",
       "\n",
       "    [theme=dark] .colab-df-convert:hover {\n",
       "      background-color: #434B5C;\n",
       "      box-shadow: 0px 1px 3px 1px rgba(0, 0, 0, 0.15);\n",
       "      filter: drop-shadow(0px 1px 2px rgba(0, 0, 0, 0.3));\n",
       "      fill: #FFFFFF;\n",
       "    }\n",
       "  </style>\n",
       "\n",
       "    <script>\n",
       "      const buttonEl =\n",
       "        document.querySelector('#df-b02a8494-edcd-479d-8043-d95eb66be674 button.colab-df-convert');\n",
       "      buttonEl.style.display =\n",
       "        google.colab.kernel.accessAllowed ? 'block' : 'none';\n",
       "\n",
       "      async function convertToInteractive(key) {\n",
       "        const element = document.querySelector('#df-b02a8494-edcd-479d-8043-d95eb66be674');\n",
       "        const dataTable =\n",
       "          await google.colab.kernel.invokeFunction('convertToInteractive',\n",
       "                                                    [key], {});\n",
       "        if (!dataTable) return;\n",
       "\n",
       "        const docLinkHtml = 'Like what you see? Visit the ' +\n",
       "          '<a target=\"_blank\" href=https://colab.research.google.com/notebooks/data_table.ipynb>data table notebook</a>'\n",
       "          + ' to learn more about interactive tables.';\n",
       "        element.innerHTML = '';\n",
       "        dataTable['output_type'] = 'display_data';\n",
       "        await google.colab.output.renderOutput(dataTable, element);\n",
       "        const docLink = document.createElement('div');\n",
       "        docLink.innerHTML = docLinkHtml;\n",
       "        element.appendChild(docLink);\n",
       "      }\n",
       "    </script>\n",
       "  </div>\n",
       "\n",
       "\n",
       "<div id=\"df-79d0319b-4fbc-4c67-bd6a-2d0b908a8ae3\">\n",
       "  <button class=\"colab-df-quickchart\" onclick=\"quickchart('df-79d0319b-4fbc-4c67-bd6a-2d0b908a8ae3')\"\n",
       "            title=\"Suggest charts\"\n",
       "            style=\"display:none;\">\n",
       "\n",
       "<svg xmlns=\"http://www.w3.org/2000/svg\" height=\"24px\"viewBox=\"0 0 24 24\"\n",
       "     width=\"24px\">\n",
       "    <g>\n",
       "        <path d=\"M19 3H5c-1.1 0-2 .9-2 2v14c0 1.1.9 2 2 2h14c1.1 0 2-.9 2-2V5c0-1.1-.9-2-2-2zM9 17H7v-7h2v7zm4 0h-2V7h2v10zm4 0h-2v-4h2v4z\"/>\n",
       "    </g>\n",
       "</svg>\n",
       "  </button>\n",
       "\n",
       "<style>\n",
       "  .colab-df-quickchart {\n",
       "      --bg-color: #E8F0FE;\n",
       "      --fill-color: #1967D2;\n",
       "      --hover-bg-color: #E2EBFA;\n",
       "      --hover-fill-color: #174EA6;\n",
       "      --disabled-fill-color: #AAA;\n",
       "      --disabled-bg-color: #DDD;\n",
       "  }\n",
       "\n",
       "  [theme=dark] .colab-df-quickchart {\n",
       "      --bg-color: #3B4455;\n",
       "      --fill-color: #D2E3FC;\n",
       "      --hover-bg-color: #434B5C;\n",
       "      --hover-fill-color: #FFFFFF;\n",
       "      --disabled-bg-color: #3B4455;\n",
       "      --disabled-fill-color: #666;\n",
       "  }\n",
       "\n",
       "  .colab-df-quickchart {\n",
       "    background-color: var(--bg-color);\n",
       "    border: none;\n",
       "    border-radius: 50%;\n",
       "    cursor: pointer;\n",
       "    display: none;\n",
       "    fill: var(--fill-color);\n",
       "    height: 32px;\n",
       "    padding: 0;\n",
       "    width: 32px;\n",
       "  }\n",
       "\n",
       "  .colab-df-quickchart:hover {\n",
       "    background-color: var(--hover-bg-color);\n",
       "    box-shadow: 0 1px 2px rgba(60, 64, 67, 0.3), 0 1px 3px 1px rgba(60, 64, 67, 0.15);\n",
       "    fill: var(--button-hover-fill-color);\n",
       "  }\n",
       "\n",
       "  .colab-df-quickchart-complete:disabled,\n",
       "  .colab-df-quickchart-complete:disabled:hover {\n",
       "    background-color: var(--disabled-bg-color);\n",
       "    fill: var(--disabled-fill-color);\n",
       "    box-shadow: none;\n",
       "  }\n",
       "\n",
       "  .colab-df-spinner {\n",
       "    border: 2px solid var(--fill-color);\n",
       "    border-color: transparent;\n",
       "    border-bottom-color: var(--fill-color);\n",
       "    animation:\n",
       "      spin 1s steps(1) infinite;\n",
       "  }\n",
       "\n",
       "  @keyframes spin {\n",
       "    0% {\n",
       "      border-color: transparent;\n",
       "      border-bottom-color: var(--fill-color);\n",
       "      border-left-color: var(--fill-color);\n",
       "    }\n",
       "    20% {\n",
       "      border-color: transparent;\n",
       "      border-left-color: var(--fill-color);\n",
       "      border-top-color: var(--fill-color);\n",
       "    }\n",
       "    30% {\n",
       "      border-color: transparent;\n",
       "      border-left-color: var(--fill-color);\n",
       "      border-top-color: var(--fill-color);\n",
       "      border-right-color: var(--fill-color);\n",
       "    }\n",
       "    40% {\n",
       "      border-color: transparent;\n",
       "      border-right-color: var(--fill-color);\n",
       "      border-top-color: var(--fill-color);\n",
       "    }\n",
       "    60% {\n",
       "      border-color: transparent;\n",
       "      border-right-color: var(--fill-color);\n",
       "    }\n",
       "    80% {\n",
       "      border-color: transparent;\n",
       "      border-right-color: var(--fill-color);\n",
       "      border-bottom-color: var(--fill-color);\n",
       "    }\n",
       "    90% {\n",
       "      border-color: transparent;\n",
       "      border-bottom-color: var(--fill-color);\n",
       "    }\n",
       "  }\n",
       "</style>\n",
       "\n",
       "  <script>\n",
       "    async function quickchart(key) {\n",
       "      const quickchartButtonEl =\n",
       "        document.querySelector('#' + key + ' button');\n",
       "      quickchartButtonEl.disabled = true;  // To prevent multiple clicks.\n",
       "      quickchartButtonEl.classList.add('colab-df-spinner');\n",
       "      try {\n",
       "        const charts = await google.colab.kernel.invokeFunction(\n",
       "            'suggestCharts', [key], {});\n",
       "      } catch (error) {\n",
       "        console.error('Error during call to suggestCharts:', error);\n",
       "      }\n",
       "      quickchartButtonEl.classList.remove('colab-df-spinner');\n",
       "      quickchartButtonEl.classList.add('colab-df-quickchart-complete');\n",
       "    }\n",
       "    (() => {\n",
       "      let quickchartButtonEl =\n",
       "        document.querySelector('#df-79d0319b-4fbc-4c67-bd6a-2d0b908a8ae3 button');\n",
       "      quickchartButtonEl.style.display =\n",
       "        google.colab.kernel.accessAllowed ? 'block' : 'none';\n",
       "    })();\n",
       "  </script>\n",
       "</div>\n",
       "    </div>\n",
       "  </div>\n"
      ],
      "text/plain": [
       "   C   P\n",
       "0  1   3\n",
       "1  9   9\n",
       "2  4   4\n",
       "3  1  18\n",
       "4  1   5"
      ]
     },
     "execution_count": 15,
     "metadata": {},
     "output_type": "execute_result"
    }
   ],
   "source": [
    "Books = pd.read_csv(\"/content/drive/My Drive/ICT - AI/Study Units/ARI5102 - Data Analysis Techniques/2. Statistical Inference - Estimation/Library.dat\", sep='\\s+|\\s+')\n",
    "Books.head(5)"
   ]
  },
  {
   "cell_type": "code",
   "execution_count": null,
   "metadata": {
    "colab": {
     "base_uri": "https://localhost:8080/"
    },
    "executionInfo": {
     "elapsed": 259,
     "status": "ok",
     "timestamp": 1709280969541,
     "user": {
      "displayName": "Konstantinos Makantasis",
      "userId": "07935674197300532491"
     },
     "user_tz": -60
    },
    "id": "rEjFy40phlVs",
    "outputId": "97ae9cde-e6b7-4085-ea48-5d1e04da454f"
   },
   "outputs": [
    {
     "data": {
      "text/plain": [
       "count     53.000000\n",
       "mean      21.981132\n",
       "std       25.793179\n",
       "min        3.000000\n",
       "25%        9.000000\n",
       "50%       17.000000\n",
       "75%       19.000000\n",
       "max      140.000000\n",
       "Name: P, dtype: float64"
      ]
     },
     "execution_count": 16,
     "metadata": {},
     "output_type": "execute_result"
    }
   ],
   "source": [
    "P = Books['P']\n",
    "P.describe()"
   ]
  },
  {
   "cell_type": "code",
   "execution_count": null,
   "metadata": {
    "colab": {
     "base_uri": "https://localhost:8080/",
     "height": 474
    },
    "executionInfo": {
     "elapsed": 776,
     "status": "ok",
     "timestamp": 1709280972628,
     "user": {
      "displayName": "Konstantinos Makantasis",
      "userId": "07935674197300532491"
     },
     "user_tz": -60
    },
    "id": "NT4zV1k3h1BU",
    "outputId": "bb518e02-8a32-408c-cd8e-172c4b06ae1e"
   },
   "outputs": [
    {
     "data": {
      "text/plain": [
       "Text(0.5, 0, 'Years since publication')"
      ]
     },
     "execution_count": 17,
     "metadata": {},
     "output_type": "execute_result"
    },
    {
     "data": {
      "image/png": "[encoded data removed]",
      "text/plain": [
       "<Figure size 640x480 with 1 Axes>"
      ]
     },
     "metadata": {},
     "output_type": "display_data"
    }
   ],
   "source": [
    "boxplot = Books.boxplot(column='P', vert=False, grid=False, )\n",
    "boxplot.set_xlabel('Years since publication')"
   ]
  },
  {
   "cell_type": "code",
   "execution_count": null,
   "metadata": {
    "colab": {
     "base_uri": "https://localhost:8080/"
    },
    "executionInfo": {
     "elapsed": 294,
     "status": "ok",
     "timestamp": 1709280976244,
     "user": {
      "displayName": "Konstantinos Makantasis",
      "userId": "07935674197300532491"
     },
     "user_tz": -60
    },
    "id": "qXjBBpKHjQ2o",
    "outputId": "40551a8f-a85c-4e24-d14d-fc479b1da12e"
   },
   "outputs": [
    {
     "name": "stdout",
     "output_type": "stream",
     "text": [
      "The 95% confidence interval is [11.0000 , 19.0000]\n",
      "The bootstrap standard error is 2.2743\n"
     ]
    }
   ],
   "source": [
    "bootstrap_ci = st.bootstrap((Books['P'],), np.median,\\\n",
    "                            confidence_level=0.95,\n",
    "                            method='percentile',\\\n",
    "                            n_resamples=10000)\n",
    "\n",
    "CI = bootstrap_ci.confidence_interval\n",
    "SE = bootstrap_ci.standard_error\n",
    "print('The 95%% confidence interval is [%.4f , %.4f]'\\\n",
    "      %(CI[0], CI[1]))\n",
    "print('The bootstrap standard error is %.4f'%SE)"
   ]
  },
  {
   "cell_type": "code",
   "execution_count": null,
   "metadata": {
    "colab": {
     "base_uri": "https://localhost:8080/"
    },
    "executionInfo": {
     "elapsed": 2775,
     "status": "ok",
     "timestamp": 1709280997775,
     "user": {
      "displayName": "Konstantinos Makantasis",
      "userId": "07935674197300532491"
     },
     "user_tz": -60
    },
    "id": "B73ZiMyIlEHP",
    "outputId": "96de7511-5bf8-4806-aa70-3aa4e6d7719b"
   },
   "outputs": [
    {
     "name": "stdout",
     "output_type": "stream",
     "text": [
      "The 95% confidence interval is [11.0000 , 19.0000]\n",
      "The bootstrap standard error is 2.1307\n"
     ]
    }
   ],
   "source": [
    "import random\n",
    "bootstrap_medians = []\n",
    "for i in range(10000):\n",
    "  bootstrap_list = random.choices(range(0,len(Books['P'])-1), k=53)\n",
    "  bootstrap_sample = Books['P'].iloc[bootstrap_list]\n",
    "  bootstrap_medians.append(bootstrap_sample.median())\n",
    "\n",
    "bootstrap_medians_std = np.std(bootstrap_medians)\n",
    "\n",
    "[CI_low, CI_up] = np.percentile(bootstrap_medians, [2.5, 97.5])\n",
    "\n",
    "print('The 95%% confidence interval is [%.4f , %.4f]'\\\n",
    "      %(CI_low, CI_up))\n",
    "print('The bootstrap standard error is %.4f'%bootstrap_medians_std)"
   ]
  }
 ],
 "metadata": {
  "colab": {
   "authorship_tag": "ABX9TyOINDjDxNYiDsKZQ1toyrPE",
   "provenance": []
  },
  "kernelspec": {
   "display_name": ".venv",
   "language": "python",
   "name": "python3"
  },
  "language_info": {
   "codemirror_mode": {
    "name": "ipython",
    "version": 3
   },
   "file_extension": ".py",
   "mimetype": "text/x-python",
   "name": "python",
   "nbconvert_exporter": "python",
   "pygments_lexer": "ipython3",
   "version": "3.11.9"
  }
 },
 "nbformat": 4,
 "nbformat_minor": 0
}
