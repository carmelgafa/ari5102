{
  "nbformat": 4,
  "nbformat_minor": 0,
  "metadata": {
    "colab": {
      "provenance": []
    },
    "kernelspec": {
      "name": "python3",
      "display_name": "Python 3"
    },
    "language_info": {
      "name": "python"
    }
  },
  "cells": [
    {
      "cell_type": "markdown",
      "source": [
        "#NumPy\n",
        "\n",
        "[NumPy](https://numpy.org) is an open source project aiming to enable numerical computing with Python. It was created in 2005, building on the early work of the Numeric and Numarray libraries. NumPy will always be 100% open source software, free for all to use and released under the liberal terms of the modified BSD license.\n",
        "\n",
        "Characteristics of Numpy:\n",
        "*   Operations with N-dimensional arrays\n",
        "*   Numerical computing tools\n",
        "*   Interoperable\n",
        "*   Well-optimised in C code\n",
        "\n",
        "\n",
        "To use NumPy, you should import the numpy package\n",
        "\n"
      ],
      "metadata": {
        "id": "pV7dW2rROkAV"
      }
    },
    {
      "cell_type": "code",
      "execution_count": 2,
      "metadata": {
        "id": "oJ9wpTsBOVsw"
      },
      "outputs": [],
      "source": [
        "import numpy as np"
      ]
    },
    {
      "cell_type": "markdown",
      "source": [
        "##ndarray\n",
        "\n",
        "The core of numpy is the ndarray, N-dimensional array. N-dimensional arrays contain numerical elements of the same type, and they are fixed-length data containers."
      ],
      "metadata": {
        "id": "jMe-ues1PuiL"
      }
    },
    {
      "cell_type": "code",
      "source": [
        "x = np.array([1, 2, 3])\n",
        "print(x)\n",
        "print(x.dtype) # dtype --> data type\n",
        "print(x.shape) # x is anumpy array with 3 integer elements"
      ],
      "metadata": {
        "colab": {
          "base_uri": "https://localhost:8080/"
        },
        "id": "CrPkGz0VP-fE",
        "outputId": "363f8e3f-bb8e-4b82-b461-549b6e55c806"
      },
      "execution_count": 3,
      "outputs": [
        {
          "output_type": "stream",
          "name": "stdout",
          "text": [
            "[1 2 3]\n",
            "int64\n",
            "(3,)\n"
          ]
        }
      ]
    },
    {
      "cell_type": "code",
      "source": [
        "y = np.array([[True, False], [False, True]])\n",
        "print(y)\n",
        "print(y.dtype)\n",
        "print(y.shape) # y is a 2-dimensional array (2x2) of boolean elements"
      ],
      "metadata": {
        "colab": {
          "base_uri": "https://localhost:8080/"
        },
        "id": "9-YVLmFGQp_0",
        "outputId": "8abb57f5-6a41-4add-d949-5fc4b72d2b3b"
      },
      "execution_count": 4,
      "outputs": [
        {
          "output_type": "stream",
          "name": "stdout",
          "text": [
            "[[ True False]\n",
            " [False  True]]\n",
            "bool\n",
            "(2, 2)\n"
          ]
        }
      ]
    },
    {
      "cell_type": "markdown",
      "source": [
        "##Vectorization\n",
        "\n",
        "Vectorization is what makes NumPy fast. Vectorized operations in NumPy enable the use of efficient, pre-compiled functions and mathematical operations on NumPy arrays and data sequences. Vectorization is a method of performing array operations without the use of for loops.\n",
        "\n"
      ],
      "metadata": {
        "id": "48RAACuvQ-mw"
      }
    },
    {
      "cell_type": "code",
      "source": [
        "x = np.random.randint(0, 10, 10)\n",
        "y = np.random.randint(0, 10, 10)\n",
        "print(x, y)"
      ],
      "metadata": {
        "colab": {
          "base_uri": "https://localhost:8080/"
        },
        "id": "vKG4u1FARvCo",
        "outputId": "45d2cb5e-d84b-4d3f-abf8-f05339862c24"
      },
      "execution_count": 5,
      "outputs": [
        {
          "output_type": "stream",
          "name": "stdout",
          "text": [
            "[4 1 0 5 7 8 5 4 1 2] [9 7 6 2 8 9 8 1 1 6]\n"
          ]
        }
      ]
    },
    {
      "cell_type": "code",
      "source": [
        "# Element wise addition of two arrays using loops\n",
        "z = [x[i] + y[i] for i in range(10)]\n",
        "print(z)"
      ],
      "metadata": {
        "colab": {
          "base_uri": "https://localhost:8080/"
        },
        "id": "ZLc57Zx2R1i2",
        "outputId": "7b4e75c2-e1bd-4d8a-f382-26c999d7d7ee"
      },
      "execution_count": 8,
      "outputs": [
        {
          "output_type": "stream",
          "name": "stdout",
          "text": [
            "[13, 8, 6, 7, 15, 17, 13, 5, 2, 8]\n"
          ]
        }
      ]
    },
    {
      "cell_type": "code",
      "source": [
        "# Element wise addition of two arrays using vectorization\n",
        "z = x + y\n",
        "print(z)"
      ],
      "metadata": {
        "colab": {
          "base_uri": "https://localhost:8080/"
        },
        "id": "n3UcYjPxSO1Q",
        "outputId": "f069f604-9332-4010-ba25-112a04c376cf"
      },
      "execution_count": 9,
      "outputs": [
        {
          "output_type": "stream",
          "name": "stdout",
          "text": [
            "[13  8  6  7 15 17 13  5  2  8]\n"
          ]
        }
      ]
    },
    {
      "cell_type": "code",
      "source": [
        "a = np.random.rand(1000000)\n",
        "b = np.random.rand(1000000)\n",
        "%timeit [a[i] + b[i] for i in range(a.shape[0])]"
      ],
      "metadata": {
        "colab": {
          "base_uri": "https://localhost:8080/"
        },
        "id": "BnrW2aieSiCw",
        "outputId": "5ba01be8-835c-4c6d-d3d4-b2619484ab48"
      },
      "execution_count": 12,
      "outputs": [
        {
          "output_type": "stream",
          "name": "stdout",
          "text": [
            "358 ms ± 15.5 ms per loop (mean ± std. dev. of 7 runs, 1 loop each)\n"
          ]
        }
      ]
    },
    {
      "cell_type": "code",
      "source": [
        "# Element wise addition of two arrays using vectorization is 180 times faster than using loops\n",
        "%timeit a + b"
      ],
      "metadata": {
        "colab": {
          "base_uri": "https://localhost:8080/"
        },
        "id": "wOE4GGuZSyjq",
        "outputId": "58a69d83-951a-4e7e-e705-1cec388e9b5d"
      },
      "execution_count": 14,
      "outputs": [
        {
          "output_type": "stream",
          "name": "stdout",
          "text": [
            "2.13 ms ± 83.6 µs per loop (mean ± std. dev. of 7 runs, 100 loops each)\n"
          ]
        }
      ]
    },
    {
      "cell_type": "markdown",
      "source": [
        "Vectorization is 180 faster than using a loop!!!"
      ],
      "metadata": {
        "id": "Gn77QB4hS-an"
      }
    },
    {
      "cell_type": "markdown",
      "source": [
        "##Broadcasting\n",
        "Elament-wise operations expand to the correct shape.\n",
        "\n",
        "Broadcasting is easy and very fast."
      ],
      "metadata": {
        "id": "Wz9l7D7GTLZD"
      }
    },
    {
      "cell_type": "code",
      "source": [
        "x = np.random.randint(0, 10, 10)\n",
        "print(x)\n",
        "y = x + 1 # adds 1 to each element of the array\n",
        "print(y)"
      ],
      "metadata": {
        "colab": {
          "base_uri": "https://localhost:8080/"
        },
        "id": "Fb-x15gMTFDt",
        "outputId": "968b5c31-2c74-4911-be77-2e75d3d17984"
      },
      "execution_count": null,
      "outputs": [
        {
          "output_type": "stream",
          "name": "stdout",
          "text": [
            "[0 8 2 7 4 8 8 9 4 4]\n",
            "[ 1  9  3  8  5  9  9 10  5  5]\n"
          ]
        }
      ]
    },
    {
      "cell_type": "code",
      "source": [
        "x = np.random.uniform(size=(2, 5))\n",
        "print(x)\n",
        "y = x + 1 # adds 1 to each element of the array\n",
        "print(y)"
      ],
      "metadata": {
        "colab": {
          "base_uri": "https://localhost:8080/"
        },
        "id": "GyhNsILGTmGe",
        "outputId": "b2727ff3-4a2f-441c-fb71-272af8d0eb13"
      },
      "execution_count": 15,
      "outputs": [
        {
          "output_type": "stream",
          "name": "stdout",
          "text": [
            "[[0.16192031 0.08095365 0.80722963 0.46113236 0.59122585]\n",
            " [0.16688277 0.90472476 0.65214324 0.70697512 0.3021978 ]]\n",
            "[[1.16192031 1.08095365 1.80722963 1.46113236 1.59122585]\n",
            " [1.16688277 1.90472476 1.65214324 1.70697512 1.3021978 ]]\n"
          ]
        }
      ]
    },
    {
      "cell_type": "markdown",
      "source": [
        "Broadcasting when we add arrays of different shape."
      ],
      "metadata": {
        "id": "Yj9ZfOMtTxdA"
      }
    },
    {
      "cell_type": "code",
      "source": [
        "x = np.random.randint(0, 10, 5)\n",
        "y = np.random.uniform(size=(2, 5))\n",
        "print(x)\n",
        "print(y)\n",
        "z = x + y # element-wise addition between the rows of x and y\n",
        "print(z)\n",
        "print(z.dtype, z.shape)"
      ],
      "metadata": {
        "colab": {
          "base_uri": "https://localhost:8080/"
        },
        "id": "cxIRwCpRT1iE",
        "outputId": "dfed260b-d1b4-4e9c-b04c-39f273bd675b"
      },
      "execution_count": 16,
      "outputs": [
        {
          "output_type": "stream",
          "name": "stdout",
          "text": [
            "[0 1 4 8 6]\n",
            "[[0.83613385 0.08279362 0.41215646 0.76489568 0.08724239]\n",
            " [0.06009691 0.29416064 0.27962638 0.03271174 0.07187586]]\n",
            "[[0.83613385 1.08279362 4.41215646 8.76489568 6.08724239]\n",
            " [0.06009691 1.29416064 4.27962638 8.03271174 6.07187586]]\n",
            "float64 (2, 5)\n"
          ]
        }
      ]
    },
    {
      "cell_type": "code",
      "source": [
        "x = np.ones((5,2)) # an easy way to create an array with ones\n",
        "print(x)\n",
        "y = np.zeros((2,5)) # an easy way to create an array with zeros\n",
        "print(y)\n",
        "z = x.T + y\n",
        "print(z)\n",
        "zz = np.eye(5) # an easy way to create an identity matrix\n",
        "print(zz)"
      ],
      "metadata": {
        "colab": {
          "base_uri": "https://localhost:8080/"
        },
        "id": "2AR79BfRUq3w",
        "outputId": "3b6f3a8a-78d8-4383-86a8-22fe517c1f6f"
      },
      "execution_count": 17,
      "outputs": [
        {
          "output_type": "stream",
          "name": "stdout",
          "text": [
            "[[1. 1.]\n",
            " [1. 1.]\n",
            " [1. 1.]\n",
            " [1. 1.]\n",
            " [1. 1.]]\n",
            "[[0. 0. 0. 0. 0.]\n",
            " [0. 0. 0. 0. 0.]]\n",
            "[[1. 1. 1. 1. 1.]\n",
            " [1. 1. 1. 1. 1.]]\n",
            "[[1. 0. 0. 0. 0.]\n",
            " [0. 1. 0. 0. 0.]\n",
            " [0. 0. 1. 0. 0.]\n",
            " [0. 0. 0. 1. 0.]\n",
            " [0. 0. 0. 0. 1.]]\n"
          ]
        }
      ]
    },
    {
      "cell_type": "markdown",
      "source": [
        "##Element-wise operations\n",
        "*   Arithmetic: `+`, `-`, `*`, `/`, `**`\n",
        "*   Comparisons: `==`, `!=`, `<`, `>`, `<=`, `>=`\n",
        "\n"
      ],
      "metadata": {
        "id": "b9n5_uugU8dq"
      }
    },
    {
      "cell_type": "code",
      "source": [
        "x = np.random.randint(0, 10, 5)\n",
        "y = np.random.uniform(size=(2, 5))\n",
        "print(x)\n",
        "print(y)"
      ],
      "metadata": {
        "colab": {
          "base_uri": "https://localhost:8080/"
        },
        "id": "WSoUSCMbVQKS",
        "outputId": "a15b91e0-4862-47f3-d353-086e17bae6d5"
      },
      "execution_count": 18,
      "outputs": [
        {
          "output_type": "stream",
          "name": "stdout",
          "text": [
            "[5 9 7 3 7]\n",
            "[[0.63791703 0.0595636  0.80746497 0.99645034 0.77023575]\n",
            " [0.85718021 0.38318479 0.44323871 0.29922665 0.6591076 ]]\n"
          ]
        }
      ]
    },
    {
      "cell_type": "markdown",
      "source": [
        "### Multiplication"
      ],
      "metadata": {
        "id": "_y-0j4cM7ugt"
      }
    },
    {
      "cell_type": "code",
      "source": [
        "z = x*y\n",
        "print(z)"
      ],
      "metadata": {
        "colab": {
          "base_uri": "https://localhost:8080/"
        },
        "id": "v2SQHMQBVcAn",
        "outputId": "0881015b-7312-4d2f-c01c-bf34a521e7ec"
      },
      "execution_count": 20,
      "outputs": [
        {
          "output_type": "stream",
          "name": "stdout",
          "text": [
            "[[3.18958517 0.53607242 5.65225482 2.98935101 5.39165022]\n",
            " [4.28590103 3.44866309 3.102671   0.89767994 4.61375322]]\n"
          ]
        }
      ]
    },
    {
      "cell_type": "markdown",
      "source": [
        "### Power"
      ],
      "metadata": {
        "id": "Qmb2sl1170dJ"
      }
    },
    {
      "cell_type": "code",
      "source": [
        "z = x**2\n",
        "print(z)"
      ],
      "metadata": {
        "colab": {
          "base_uri": "https://localhost:8080/"
        },
        "id": "93TSgQXEVr3Z",
        "outputId": "3decc797-86b6-4a19-e31f-e612771f2741"
      },
      "execution_count": 19,
      "outputs": [
        {
          "output_type": "stream",
          "name": "stdout",
          "text": [
            "[25 81 49  9 49]\n"
          ]
        }
      ]
    },
    {
      "cell_type": "markdown",
      "source": [
        "### Comparison\n"
      ],
      "metadata": {
        "id": "s_OLBqbI75Vn"
      }
    },
    {
      "cell_type": "code",
      "source": [
        "z = x < y\n",
        "print(z)"
      ],
      "metadata": {
        "colab": {
          "base_uri": "https://localhost:8080/"
        },
        "id": "Mx-0j10xVz82",
        "outputId": "093697ef-163d-45af-fbb8-7daf0cb0e554"
      },
      "execution_count": 21,
      "outputs": [
        {
          "output_type": "stream",
          "name": "stdout",
          "text": [
            "[[False False False False False]\n",
            " [False False False False False]]\n"
          ]
        }
      ]
    },
    {
      "cell_type": "code",
      "source": [
        "z = x < 2\n",
        "print(z)"
      ],
      "metadata": {
        "colab": {
          "base_uri": "https://localhost:8080/"
        },
        "id": "71zSnWvHWENj",
        "outputId": "6996a723-7da1-4d9a-900f-6169f85d8035"
      },
      "execution_count": 22,
      "outputs": [
        {
          "output_type": "stream",
          "name": "stdout",
          "text": [
            "[False False False False False]\n"
          ]
        }
      ]
    },
    {
      "cell_type": "markdown",
      "source": [
        "##Methods for arrays\n",
        "*   `.sum()`, `.mean()`, `.min()`, `.max()`, `.prod()`, `.cumsum()`, etc\n",
        "*   `np.exp`, `np.log`, `np.sin`, `np.sqrt` etc\n",
        "\n",
        "For all methods operating with ndarrays you can check the [documentation](https://numpy.org/doc/stable/reference/generated/numpy.ndarray.html)."
      ],
      "metadata": {
        "id": "GzAG2VGzWMbw"
      }
    },
    {
      "cell_type": "code",
      "source": [
        "x = np.random.randint(0, 10, 10) # shape (10, )\n",
        "print(x)\n",
        "x = x.reshape((5,2)) # shape (2,5)\n",
        "print(x)"
      ],
      "metadata": {
        "colab": {
          "base_uri": "https://localhost:8080/"
        },
        "id": "tt6Y_aBjXKI-",
        "outputId": "d615a9e1-a272-42e8-a569-b6708465adce"
      },
      "execution_count": 23,
      "outputs": [
        {
          "output_type": "stream",
          "name": "stdout",
          "text": [
            "[7 3 8 7 1 2 5 6 7 4]\n",
            "[[7 3]\n",
            " [8 7]\n",
            " [1 2]\n",
            " [5 6]\n",
            " [7 4]]\n"
          ]
        }
      ]
    },
    {
      "cell_type": "code",
      "source": [
        "z = x.sum() # the sum of all the elements\n",
        "print(z)"
      ],
      "metadata": {
        "colab": {
          "base_uri": "https://localhost:8080/"
        },
        "id": "sbOKTAJPXmJV",
        "outputId": "cae5ca88-06ee-42bd-f9f8-7a35ccefd48b"
      },
      "execution_count": 24,
      "outputs": [
        {
          "output_type": "stream",
          "name": "stdout",
          "text": [
            "50\n"
          ]
        }
      ]
    },
    {
      "cell_type": "code",
      "source": [
        "z = x.sum(axis=1) # the sum across rows\n",
        "print(z)"
      ],
      "metadata": {
        "colab": {
          "base_uri": "https://localhost:8080/"
        },
        "id": "0YSzuiDdXrKA",
        "outputId": "f3c36b4f-5942-484a-95b6-8ed331043dc3"
      },
      "execution_count": 25,
      "outputs": [
        {
          "output_type": "stream",
          "name": "stdout",
          "text": [
            "[10 15  3 11 11]\n"
          ]
        }
      ]
    },
    {
      "cell_type": "code",
      "source": [
        "z = x.prod(axis=1) # the product across rows\n",
        "print(z)"
      ],
      "metadata": {
        "colab": {
          "base_uri": "https://localhost:8080/"
        },
        "id": "f1upCUrSX0sz",
        "outputId": "5107292c-ecbf-4d70-8955-c5e599fa53b7"
      },
      "execution_count": 27,
      "outputs": [
        {
          "output_type": "stream",
          "name": "stdout",
          "text": [
            "[21 56  2 30 28]\n"
          ]
        }
      ]
    },
    {
      "cell_type": "code",
      "source": [
        "z = x.mean(axis=1) # the average across rows\n",
        "print(z)"
      ],
      "metadata": {
        "colab": {
          "base_uri": "https://localhost:8080/"
        },
        "id": "XCx5vql5Yeg4",
        "outputId": "edc69c6e-3342-41aa-811c-e80b52c5d1f3"
      },
      "execution_count": 29,
      "outputs": [
        {
          "output_type": "stream",
          "name": "stdout",
          "text": [
            "[5.  7.5 1.5 5.5 5.5]\n"
          ]
        }
      ]
    },
    {
      "cell_type": "code",
      "source": [
        "print(x.min(), x.max()) # the minimum and the maximum element of the array"
      ],
      "metadata": {
        "colab": {
          "base_uri": "https://localhost:8080/"
        },
        "id": "mpsYsBIaYrAO",
        "outputId": "726deb1a-aa0f-40a9-fed3-ab07b4e2dc00"
      },
      "execution_count": 31,
      "outputs": [
        {
          "output_type": "stream",
          "name": "stdout",
          "text": [
            "1 8\n"
          ]
        }
      ]
    },
    {
      "cell_type": "markdown",
      "source": [
        "##Indexing and slicing\n",
        "Indexing and slicing is similar to lists, but with multiple dimensions.\n",
        "\n",
        "For a 2D matrix, the first index corresponds to rows and the second to columns."
      ],
      "metadata": {
        "id": "Ppm8ITj4Y_DX"
      }
    },
    {
      "cell_type": "code",
      "source": [
        "x = np.random.randint(0, 10, 50) # shape (50, )\n",
        "y = x.reshape((5,10)) # shape (5,10)\n",
        "print(y)"
      ],
      "metadata": {
        "colab": {
          "base_uri": "https://localhost:8080/"
        },
        "id": "KkjopJwuZJ4F",
        "outputId": "1fc1c155-5cda-484e-bb98-88087789b736"
      },
      "execution_count": 32,
      "outputs": [
        {
          "output_type": "stream",
          "name": "stdout",
          "text": [
            "[[4 2 7 2 8 2 3 5 8 7]\n",
            " [8 6 7 5 7 6 4 2 0 6]\n",
            " [1 7 7 0 9 3 2 0 7 1]\n",
            " [1 4 0 7 5 9 1 9 0 0]\n",
            " [6 0 2 6 9 3 0 5 1 1]]\n"
          ]
        }
      ]
    },
    {
      "cell_type": "code",
      "source": [
        "row = y[0,:] # first row (indexing starts from 0)\n",
        "print(row)\n",
        "column = y[:,0] # first column.\n",
        "print(column)"
      ],
      "metadata": {
        "colab": {
          "base_uri": "https://localhost:8080/"
        },
        "id": "CmNoMrW9ZZt_",
        "outputId": "9158ef16-bc6f-4939-960c-e400dc10e683"
      },
      "execution_count": 33,
      "outputs": [
        {
          "output_type": "stream",
          "name": "stdout",
          "text": [
            "[4 2 7 2 8 2 3 5 8 7]\n",
            "[4 8 1 1 6]\n"
          ]
        }
      ]
    },
    {
      "cell_type": "code",
      "source": [
        "element = y[1][7] # the element from the 2nd row and 8th column\n",
        "print(element)"
      ],
      "metadata": {
        "colab": {
          "base_uri": "https://localhost:8080/"
        },
        "id": "TbR5obTPZ6Fr",
        "outputId": "5c110378-2519-452d-af05-f83430d5df2f"
      },
      "execution_count": 34,
      "outputs": [
        {
          "output_type": "stream",
          "name": "stdout",
          "text": [
            "2\n"
          ]
        }
      ]
    },
    {
      "cell_type": "code",
      "source": [
        "element = y[1, 7] # alternative indexing that retrieves the same element as above\n",
        "print(element)"
      ],
      "metadata": {
        "colab": {
          "base_uri": "https://localhost:8080/"
        },
        "id": "f2XpT2ZFaUot",
        "outputId": "d07a8f0f-424d-4a00-8e4f-d43bf219c571"
      },
      "execution_count": 35,
      "outputs": [
        {
          "output_type": "stream",
          "name": "stdout",
          "text": [
            "2\n"
          ]
        }
      ]
    },
    {
      "cell_type": "code",
      "source": [
        "submatrix = y[1:3, 5:9] # retrieves the elements from the 2nd and 3rd rows that also belong to the 6th, 7th, 8th and 9th columns\n",
        "print(submatrix)"
      ],
      "metadata": {
        "colab": {
          "base_uri": "https://localhost:8080/"
        },
        "id": "bd8hNoJFagHd",
        "outputId": "8576fe67-329c-48c6-9b06-a72e52bb9d7b"
      },
      "execution_count": 36,
      "outputs": [
        {
          "output_type": "stream",
          "name": "stdout",
          "text": [
            "[[6 4 2 0]\n",
            " [3 2 0 7]]\n"
          ]
        }
      ]
    },
    {
      "cell_type": "code",
      "source": [
        "last_row = y[-1] # the symbol minus before the index starts counting from the end\n",
        "print(last_row)\n",
        "last_column = y[:,-1]\n",
        "print(last_column)"
      ],
      "metadata": {
        "colab": {
          "base_uri": "https://localhost:8080/"
        },
        "id": "uRUGjt6_bfDH",
        "outputId": "f81274dc-e2cb-453a-b078-51da5b4e689e"
      },
      "execution_count": 37,
      "outputs": [
        {
          "output_type": "stream",
          "name": "stdout",
          "text": [
            "[6 0 2 6 9 3 0 5 1 1]\n",
            "[7 6 1 0 1]\n"
          ]
        }
      ]
    },
    {
      "cell_type": "code",
      "source": [
        "x = np.random.randint(0, 10, 105) # shape (105, )\n",
        "y = x.reshape((3,5,7)) # shape (3,5,7)\n",
        "print(y)"
      ],
      "metadata": {
        "colab": {
          "base_uri": "https://localhost:8080/"
        },
        "id": "y-XaUfacb87u",
        "outputId": "8dd539d7-f762-4dbd-aef5-937a0495792e"
      },
      "execution_count": 38,
      "outputs": [
        {
          "output_type": "stream",
          "name": "stdout",
          "text": [
            "[[[6 9 6 7 3 3 6]\n",
            "  [9 9 8 7 2 3 9]\n",
            "  [7 8 8 8 8 3 1]\n",
            "  [1 4 0 4 7 2 1]\n",
            "  [1 3 3 0 4 9 9]]\n",
            "\n",
            " [[9 6 5 7 4 1 9]\n",
            "  [5 2 2 3 0 1 1]\n",
            "  [7 4 5 7 4 2 7]\n",
            "  [0 0 8 6 9 5 2]\n",
            "  [7 0 8 6 8 0 7]]\n",
            "\n",
            " [[9 9 9 3 1 6 8]\n",
            "  [0 9 3 8 9 1 3]\n",
            "  [6 7 8 6 8 8 6]\n",
            "  [3 9 5 8 2 4 1]\n",
            "  [8 2 8 1 5 3 5]]]\n"
          ]
        }
      ]
    },
    {
      "cell_type": "code",
      "source": [
        "z = y[0,-1,2] # retrieves the element from the 1st matrix, last row, 3rd column\n",
        "print(z)"
      ],
      "metadata": {
        "colab": {
          "base_uri": "https://localhost:8080/"
        },
        "id": "P1izPctgcPwo",
        "outputId": "0c013cf7-8334-480c-f3d3-d282f8cc4c33"
      },
      "execution_count": 39,
      "outputs": [
        {
          "output_type": "stream",
          "name": "stdout",
          "text": [
            "3\n"
          ]
        }
      ]
    },
    {
      "cell_type": "code",
      "source": [
        "z = y[0,:,:] # retrieves the 1st matrix\n",
        "print(z)"
      ],
      "metadata": {
        "colab": {
          "base_uri": "https://localhost:8080/"
        },
        "id": "22Q3ASqkciQc",
        "outputId": "9aaddf29-89ea-452c-85e3-b21b5bac216c"
      },
      "execution_count": 40,
      "outputs": [
        {
          "output_type": "stream",
          "name": "stdout",
          "text": [
            "[[6 9 6 7 3 3 6]\n",
            " [9 9 8 7 2 3 9]\n",
            " [7 8 8 8 8 3 1]\n",
            " [1 4 0 4 7 2 1]\n",
            " [1 3 3 0 4 9 9]]\n"
          ]
        }
      ]
    },
    {
      "cell_type": "code",
      "source": [
        "z = y[:,0,:] # retrieves the first row from each matrix\n",
        "print(z)"
      ],
      "metadata": {
        "colab": {
          "base_uri": "https://localhost:8080/"
        },
        "id": "e82uUs-tcxGq",
        "outputId": "f32aa609-d098-4992-85d0-634a6a553554"
      },
      "execution_count": 41,
      "outputs": [
        {
          "output_type": "stream",
          "name": "stdout",
          "text": [
            "[[6 9 6 7 3 3 6]\n",
            " [9 6 5 7 4 1 9]\n",
            " [9 9 9 3 1 6 8]]\n"
          ]
        }
      ]
    },
    {
      "cell_type": "code",
      "source": [
        "z = y[:,:,0] # retrieves the first column from each matrix\n",
        "print(z)"
      ],
      "metadata": {
        "colab": {
          "base_uri": "https://localhost:8080/"
        },
        "id": "y1T8lErSc-Qv",
        "outputId": "71c044ef-684b-4614-a469-00524c9ed47e"
      },
      "execution_count": 42,
      "outputs": [
        {
          "output_type": "stream",
          "name": "stdout",
          "text": [
            "[[6 9 7 1 1]\n",
            " [9 5 7 0 7]\n",
            " [9 0 6 3 8]]\n"
          ]
        }
      ]
    },
    {
      "cell_type": "markdown",
      "source": [
        "###Boolean indexing\n",
        "Another way to index ndarrays is by using boolean values."
      ],
      "metadata": {
        "id": "fNy89JGYdJ-q"
      }
    },
    {
      "cell_type": "code",
      "source": [
        "x = np.arange(5)\n",
        "print(x)"
      ],
      "metadata": {
        "colab": {
          "base_uri": "https://localhost:8080/"
        },
        "id": "2xWz5RofdJVK",
        "outputId": "7c3ed246-f418-4433-abc5-e6e644805d4c"
      },
      "execution_count": 43,
      "outputs": [
        {
          "output_type": "stream",
          "name": "stdout",
          "text": [
            "[0 1 2 3 4]\n"
          ]
        }
      ]
    },
    {
      "cell_type": "code",
      "source": [
        "boolean_indices = np.array([True,True,False,True,False])\n",
        "z = x[boolean_indices] # retrieves those elements of x for which the boolean_indices are True\n",
        "print(z)"
      ],
      "metadata": {
        "colab": {
          "base_uri": "https://localhost:8080/"
        },
        "id": "6zzsR0OBdcAQ",
        "outputId": "1cf54882-c798-4c56-82ae-bf6d705dfece"
      },
      "execution_count": 44,
      "outputs": [
        {
          "output_type": "stream",
          "name": "stdout",
          "text": [
            "[0 1 3]\n"
          ]
        }
      ]
    },
    {
      "cell_type": "code",
      "source": [
        "even = (x % 2 == 0)\n",
        "print(even)\n",
        "z = x[even]\n",
        "print(z)"
      ],
      "metadata": {
        "colab": {
          "base_uri": "https://localhost:8080/"
        },
        "id": "VAY3cu0jdoVW",
        "outputId": "0469ea15-3d67-485c-8bcb-a88ea107c11b"
      },
      "execution_count": 45,
      "outputs": [
        {
          "output_type": "stream",
          "name": "stdout",
          "text": [
            "[ True False  True False  True]\n",
            "[0 2 4]\n"
          ]
        }
      ]
    },
    {
      "cell_type": "markdown",
      "source": [
        "##Exercise\n",
        "Write a function that uses as arguments the data matrix X below and the responses y and return the solution to the least square fitting.\n",
        "\n",
        "The solution of least squares is given by $\\beta=(X^TX)^{-1} X^T y$.\n",
        "The fitted values are $\\hat{y} = X(X^TX)^{-1} X^T y$\n",
        "\n",
        "(Tip: the NumPy method `dot(x,y)` computes the [dot product](https://numpy.org/doc/stable/reference/generated/numpy.dot.html) of `x` and `y`)\n",
        "\n",
        "After fitting the model compute the Mean Square Error (true values - fitted values)."
      ],
      "metadata": {
        "id": "csmWRfT7kv-t"
      }
    },
    {
      "cell_type": "code",
      "source": [
        "np.random.seed(1)\n",
        "X = np.random.uniform(size=(100, 10))\n",
        "y = np.random.uniform(size=(100,1))\n"
      ],
      "metadata": {
        "id": "_7uzAADNlBu8"
      },
      "execution_count": 46,
      "outputs": []
    },
    {
      "cell_type": "code",
      "source": [
        "def least_square_solution(X, y):\n",
        "  XTX = np.dot(X.T, X)\n",
        "  XTX_minus_1 = np.linalg.inv(XTX)\n",
        "  XTy = np.dot(X.T, y)\n",
        "  betas = np.dot(XTX_minus_1, XTy)\n",
        "  return betas\n",
        "\n",
        "b = least_square_solution(X, y)\n",
        "print(b, b.shape)\n",
        "\n",
        "y_hat = np.dot(X, b)\n",
        "squared_error = (y - y_hat)**2\n",
        "MSE = squared_error.mean()\n",
        "print('MSE is {:.4f}'.format(MSE))"
      ],
      "metadata": {
        "colab": {
          "base_uri": "https://localhost:8080/"
        },
        "id": "Qfd8LnwVliLD",
        "outputId": "675bac0f-d825-49a1-ad3c-1f866fc6ab90"
      },
      "execution_count": 47,
      "outputs": [
        {
          "output_type": "stream",
          "name": "stdout",
          "text": [
            "[[-0.0209993 ]\n",
            " [ 0.17063741]\n",
            " [ 0.1787921 ]\n",
            " [ 0.0675233 ]\n",
            " [ 0.24895156]\n",
            " [ 0.05521414]\n",
            " [ 0.17523039]\n",
            " [ 0.08515777]\n",
            " [ 0.03970765]\n",
            " [-0.02764994]] (10, 1)\n",
            "MSE is 0.0844\n"
          ]
        }
      ]
    }
  ]
}