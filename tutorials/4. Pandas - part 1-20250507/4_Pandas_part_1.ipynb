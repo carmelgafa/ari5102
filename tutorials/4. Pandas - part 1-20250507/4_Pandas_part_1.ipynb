{
  "cells": [
    {
      "cell_type": "markdown",
      "metadata": {
        "id": "xrvDFKsSefFO"
      },
      "source": [
        "#Pandas\n",
        "[Pandas](https://pandas.pydata.org) package is essential for data analysis. By building on top of NumPy, Pandas provides:\n",
        "*   labeled arrays\n",
        "*   missing data handling\n",
        "*   convenient methods (groupby, rolling, resample)\n",
        "*   more data types (Categorical, Datetime)\n",
        "*   built in functionality for reading/writing many kinds of files\n",
        "*   methods for basic statistical analysis and data visualization\n",
        "\n",
        "Similar to Numpy, in order to be ble to use Pandas, we need to import the `pandas` package.\n",
        "\n"
      ]
    },
    {
      "cell_type": "code",
      "execution_count": null,
      "metadata": {
        "colab": {
          "base_uri": "https://localhost:8080/"
        },
        "id": "orLkpxvVeLgx",
        "outputId": "a927f410-b9de-4415-d118-3b813dedac5a"
      },
      "outputs": [
        {
          "output_type": "stream",
          "name": "stdout",
          "text": [
            "Drive already mounted at /content/drive; to attempt to forcibly remount, call drive.mount(\"/content/drive\", force_remount=True).\n"
          ]
        }
      ],
      "source": [
        "import pandas as pd\n",
        "import numpy as np\n",
        "\n",
        "from google.colab import drive\n",
        "drive.mount('/content/drive') #this command mounts our Google Drive so that we can load dataset stored there"
      ]
    },
    {
      "cell_type": "markdown",
      "metadata": {
        "id": "NrpVYd6wfTXo"
      },
      "source": [
        "##Pandas data structures\n",
        "\n",
        "###Series\n",
        "A Series is a single vector of data with an index that labels each element in the vector."
      ]
    },
    {
      "cell_type": "code",
      "execution_count": null,
      "metadata": {
        "colab": {
          "base_uri": "https://localhost:8080/"
        },
        "id": "CYKaYwh5feM0",
        "outputId": "1a3c6043-d15d-44a8-d722-37cf163fd49a"
      },
      "outputs": [
        {
          "output_type": "stream",
          "name": "stdout",
          "text": [
            "0       16\n",
            "1       12\n",
            "2       12\n",
            "3    50000\n",
            "dtype: int64\n"
          ]
        }
      ],
      "source": [
        "counts = pd.Series([16, 12, 12, 50000])\n",
        "print(counts)"
      ]
    },
    {
      "cell_type": "markdown",
      "metadata": {
        "id": "K4K0DBPAf2_y"
      },
      "source": [
        "The first column correspond to `index`. If an index is not specified a default sequence of integers is returned.\n",
        "\n",
        "To obtain only the values without the index, the keyword `values` is used."
      ]
    },
    {
      "cell_type": "code",
      "execution_count": null,
      "metadata": {
        "colab": {
          "base_uri": "https://localhost:8080/"
        },
        "id": "T8dwBGCWgDcW",
        "outputId": "b34bd2d3-ae70-4735-c46b-50d2ed8eb42a"
      },
      "outputs": [
        {
          "output_type": "stream",
          "name": "stdout",
          "text": [
            "[   16    12    12 50000]\n"
          ]
        }
      ],
      "source": [
        "print(counts.values)"
      ]
    },
    {
      "cell_type": "markdown",
      "metadata": {
        "id": "JV9asTtMgUgE"
      },
      "source": [
        "We can always assign meaningful labels to the `index`."
      ]
    },
    {
      "cell_type": "code",
      "execution_count": null,
      "metadata": {
        "colab": {
          "base_uri": "https://localhost:8080/"
        },
        "id": "YxPdBOepgarE",
        "outputId": "8bd0d0b2-0877-4c53-81d0-def9becd5b41"
      },
      "outputs": [
        {
          "output_type": "stream",
          "name": "stdout",
          "text": [
            "years of education              16\n",
            "mother years of education       12\n",
            "father years of education       12\n",
            "income                       50000\n",
            "dtype: int64\n"
          ]
        }
      ],
      "source": [
        "characteristics = pd.Series([16, 12, 12, 50000],\n",
        "                            index=['years of education', 'mother years of education', 'father years of education', 'income'])\n",
        "print(characteristics)"
      ]
    },
    {
      "cell_type": "markdown",
      "metadata": {
        "id": "ZOx0ct3dg8rd"
      },
      "source": [
        "Index labels can be used to retrieve a specific element of the Series."
      ]
    },
    {
      "cell_type": "code",
      "execution_count": null,
      "metadata": {
        "colab": {
          "base_uri": "https://localhost:8080/"
        },
        "id": "jQmoDultg3g7",
        "outputId": "a2a35753-d53b-4dde-9348-00ba3e6c504b"
      },
      "outputs": [
        {
          "output_type": "stream",
          "name": "stdout",
          "text": [
            "16\n"
          ]
        }
      ],
      "source": [
        "c_years_of_education = characteristics['years of education']\n",
        "print(c_years_of_education)"
      ]
    },
    {
      "cell_type": "markdown",
      "metadata": {
        "id": "iDGwFFEhhaeR"
      },
      "source": [
        "We can also retrieve elements with boolean indexing."
      ]
    },
    {
      "cell_type": "code",
      "execution_count": null,
      "metadata": {
        "colab": {
          "base_uri": "https://localhost:8080/"
        },
        "id": "xuRMjgobhWI0",
        "outputId": "8670ba20-8a4c-49e9-b62f-d881532e2c69"
      },
      "outputs": [
        {
          "output_type": "stream",
          "name": "stdout",
          "text": [
            "years of education       16\n",
            "income                50000\n",
            "dtype: int64\n"
          ]
        }
      ],
      "source": [
        "bool_index=[True, False, False, True]\n",
        "b_characteristics = characteristics[bool_index]\n",
        "print(b_characteristics)"
      ]
    },
    {
      "cell_type": "markdown",
      "metadata": {
        "id": "FeDt54I8h-yE"
      },
      "source": [
        "We can also give meaningful names to the whole series and to the index."
      ]
    },
    {
      "cell_type": "code",
      "execution_count": null,
      "metadata": {
        "colab": {
          "base_uri": "https://localhost:8080/"
        },
        "id": "LZ9rBNrRiFEa",
        "outputId": "3a60a691-3055-4776-98e0-91f32fc674a0"
      },
      "outputs": [
        {
          "output_type": "stream",
          "name": "stdout",
          "text": [
            "George    75\n",
            "John      83\n",
            "Elena     96\n",
            "Jason     49\n",
            "Maria     54\n",
            "dtype: int64\n"
          ]
        }
      ],
      "source": [
        "marks = pd.Series([75, 83, 96, 49, 54], index=['George', 'John', 'Elena', 'Jason', 'Maria'])\n",
        "print(marks)"
      ]
    },
    {
      "cell_type": "code",
      "execution_count": null,
      "metadata": {
        "colab": {
          "base_uri": "https://localhost:8080/"
        },
        "id": "rF9eAQsliTur",
        "outputId": "c6474547-7c8b-4f8a-9a24-532599497dca"
      },
      "outputs": [
        {
          "output_type": "stream",
          "name": "stdout",
          "text": [
            "Student\n",
            "George    75\n",
            "John      83\n",
            "Elena     96\n",
            "Jason     49\n",
            "Maria     54\n",
            "Name: Final Mark, dtype: int64\n"
          ]
        }
      ],
      "source": [
        "marks.name = 'Final Mark'\n",
        "marks.index.name = 'Student'\n",
        "print(marks)"
      ]
    },
    {
      "cell_type": "code",
      "execution_count": null,
      "metadata": {
        "colab": {
          "base_uri": "https://localhost:8080/"
        },
        "id": "cJD_iLziizPM",
        "outputId": "49512280-cc47-4214-9479-9c374dacf6de"
      },
      "outputs": [
        {
          "output_type": "stream",
          "name": "stdout",
          "text": [
            "Student\n",
            "George    False\n",
            "John       True\n",
            "Elena      True\n",
            "Jason     False\n",
            "Maria     False\n",
            "Name: Final Mark, dtype: bool\n"
          ]
        }
      ],
      "source": [
        "print(marks > 80)"
      ]
    },
    {
      "cell_type": "code",
      "execution_count": null,
      "metadata": {
        "colab": {
          "base_uri": "https://localhost:8080/"
        },
        "id": "0471R3duigRc",
        "outputId": "4c901e3a-48e8-42f5-905d-376713a2484b"
      },
      "outputs": [
        {
          "output_type": "stream",
          "name": "stdout",
          "text": [
            "Student\n",
            "John     83\n",
            "Elena    96\n",
            "Name: Final Mark, dtype: int64\n"
          ]
        }
      ],
      "source": [
        "very_good_students = marks[marks > 80] # retrieve elements using boolean indexing\n",
        "print(very_good_students)"
      ]
    },
    {
      "cell_type": "markdown",
      "metadata": {
        "id": "4B3ErnHfjX2b"
      },
      "source": [
        "Series are stored as key-value structures. Therefore, we can use dictionaries to create pandas series."
      ]
    },
    {
      "cell_type": "code",
      "execution_count": null,
      "metadata": {
        "colab": {
          "base_uri": "https://localhost:8080/"
        },
        "id": "2Anb8ktVjhLP",
        "outputId": "ce59af17-47bf-44ba-f731-7b43626dc42f"
      },
      "outputs": [
        {
          "output_type": "stream",
          "name": "stdout",
          "text": [
            "George    75\n",
            "John      83\n",
            "Elena     96\n",
            "Jason     49\n",
            "Maria     54\n",
            "dtype: int64\n"
          ]
        }
      ],
      "source": [
        "student_dict = {'George':75,\n",
        "                'John':83,\n",
        "                'Elena':96,\n",
        "                'Jason':49,\n",
        "                'Maria':54}\n",
        "marks1 = pd.Series(student_dict)\n",
        "print(marks1)"
      ]
    },
    {
      "cell_type": "markdown",
      "metadata": {
        "id": "GpRuIh5S8tOd"
      },
      "source": [
        "We pass a disctionary to a `Series` using the index keyword. If a key in the index does not have a corresponding value, Pandas will assign to it the value `NaN`."
      ]
    },
    {
      "cell_type": "code",
      "execution_count": null,
      "metadata": {
        "colab": {
          "base_uri": "https://localhost:8080/"
        },
        "id": "wXwTH01h9J_O",
        "outputId": "bbb36761-9727-4af0-cb0f-f7650e3c65e3"
      },
      "outputs": [
        {
          "output_type": "stream",
          "name": "stdout",
          "text": [
            "George    75.0\n",
            "John      83.0\n",
            "Elena     96.0\n",
            "Jason     49.0\n",
            "Maria     54.0\n",
            "Chris      NaN\n",
            "dtype: float64\n"
          ]
        }
      ],
      "source": [
        "marks2 = pd.Series(student_dict, index=['George', 'John', 'Elena', 'Jason', 'Maria', 'Chris'])\n",
        "print(marks2)"
      ]
    },
    {
      "cell_type": "markdown",
      "metadata": {
        "id": "c5Q2tV_W9c86"
      },
      "source": [
        "We can check for null values by using the method `.isnull()`."
      ]
    },
    {
      "cell_type": "code",
      "execution_count": null,
      "metadata": {
        "colab": {
          "base_uri": "https://localhost:8080/"
        },
        "id": "trCBPdl19cjw",
        "outputId": "ffd8ee9e-e075-456b-dc91-64e05ea971a2"
      },
      "outputs": [
        {
          "output_type": "stream",
          "name": "stdout",
          "text": [
            "George    False\n",
            "John      False\n",
            "Elena     False\n",
            "Jason     False\n",
            "Maria     False\n",
            "Chris      True\n",
            "dtype: bool\n"
          ]
        }
      ],
      "source": [
        "print(marks2.isnull())"
      ]
    },
    {
      "cell_type": "markdown",
      "metadata": {
        "id": "rlFvLqqD-qPv"
      },
      "source": [
        "###DataFrame\n",
        "Contrary to `Series`, a `DataFrame` is useful for\n",
        "* storing\n",
        "* viewing and\n",
        "* manipulating\n",
        "\n",
        "*multivariate* data.\n",
        "\n",
        "A `DataFrame` is a tabular data structure, encapsulating multiple series like columns in a spreadsheet. Data are stored internally as a 2-dimensional object.\n"
      ]
    },
    {
      "cell_type": "code",
      "execution_count": null,
      "metadata": {
        "colab": {
          "base_uri": "https://localhost:8080/"
        },
        "id": "KPc1wDTr--cc",
        "outputId": "911ab349-e22a-4485-b157-a6cf0d8d420e"
      },
      "outputs": [
        {
          "output_type": "stream",
          "name": "stdout",
          "text": [
            "  First Name Family Name  Mark\n",
            "0     George       Smith    75\n",
            "1       John       Romel    83\n",
            "2      Elena     Burghes    96\n",
            "3      Jason       Proto    49\n",
            "4      Maria    Marianou    54\n"
          ]
        }
      ],
      "source": [
        "student_dict = {'First Name':['George', 'John', 'Elena', 'Jason', 'Maria'],\n",
        "                'Family Name': ['Smith', 'Romel', 'Burghes', 'Proto', 'Marianou'],\n",
        "                'Mark': [75, 83, 96, 49, 54]}\n",
        "\n",
        "data = pd.DataFrame(student_dict)\n",
        "print(data)"
      ]
    },
    {
      "cell_type": "markdown",
      "metadata": {
        "id": "Nb71RXBXAhe6"
      },
      "source": [
        "Explicitly denoting the order of column names, we can change the way the data are printed."
      ]
    },
    {
      "cell_type": "code",
      "execution_count": null,
      "metadata": {
        "colab": {
          "base_uri": "https://localhost:8080/"
        },
        "id": "WRyIhKzFAplE",
        "outputId": "6b7ba0d3-c582-4e7a-883d-578cee2aa24b"
      },
      "outputs": [
        {
          "output_type": "stream",
          "name": "stdout",
          "text": [
            "   Mark First Name Family Name\n",
            "0    75     George       Smith\n",
            "1    83       John       Romel\n",
            "2    96      Elena     Burghes\n",
            "3    49      Jason       Proto\n",
            "4    54      Maria    Marianou\n"
          ]
        }
      ],
      "source": [
        "print(data[['Mark', 'First Name', 'Family Name']])"
      ]
    },
    {
      "cell_type": "markdown",
      "metadata": {
        "id": "0pBqHTENBACr"
      },
      "source": [
        "If we wish to access columns, we can do so either by dict-like indexing or by attribute."
      ]
    },
    {
      "cell_type": "code",
      "execution_count": null,
      "metadata": {
        "colab": {
          "base_uri": "https://localhost:8080/"
        },
        "id": "BicwVzUdBD57",
        "outputId": "f12567cb-fe9b-4faf-8d73-329af923208c"
      },
      "outputs": [
        {
          "output_type": "stream",
          "name": "stdout",
          "text": [
            "0    75\n",
            "1    83\n",
            "2    96\n",
            "3    49\n",
            "4    54\n",
            "Name: Mark, dtype: int64\n",
            "<class 'pandas.core.series.Series'>\n"
          ]
        }
      ],
      "source": [
        "all_marks = data['Mark']\n",
        "print(all_marks) # dict-like indexing\n",
        "print(type(all_marks))"
      ]
    },
    {
      "cell_type": "code",
      "execution_count": null,
      "metadata": {
        "colab": {
          "base_uri": "https://localhost:8080/"
        },
        "id": "UEcL24z7BKq0",
        "outputId": "4af53f8a-8386-41cd-fb5b-e6df3e7e7593"
      },
      "outputs": [
        {
          "output_type": "stream",
          "name": "stdout",
          "text": [
            "0    75\n",
            "1    83\n",
            "2    96\n",
            "3    49\n",
            "4    54\n",
            "Name: Mark, dtype: int64\n",
            "<class 'pandas.core.series.Series'>\n"
          ]
        }
      ],
      "source": [
        "print(data.Mark) # indexing by attribute. The attribute name is the same with the column name\n",
        "print(type(data.Mark))"
      ]
    },
    {
      "cell_type": "markdown",
      "metadata": {
        "id": "pHCoCp-uBm_A"
      },
      "source": [
        "###Indexing a `DataFrame`\n",
        "\n",
        "If we want access to a row in a `DataFrame`, we index its `loc` or `iloc` attribute."
      ]
    },
    {
      "cell_type": "code",
      "execution_count": null,
      "metadata": {
        "colab": {
          "base_uri": "https://localhost:8080/"
        },
        "id": "VmICrW_hBteN",
        "outputId": "1e302379-23b1-4408-c78b-7dae1ca895a7"
      },
      "outputs": [
        {
          "output_type": "stream",
          "name": "stdout",
          "text": [
            "         v1        v2\n",
            "w  0.548814  0.423655\n",
            "x  0.715189  0.645894\n",
            "y  0.602763  0.437587\n",
            "z  0.544883  0.891773\n"
          ]
        }
      ],
      "source": [
        "np.random.seed(0)\n",
        "data = pd.DataFrame({'v1': np.random.rand(4),\n",
        "                     'v2': np.random.rand(4)},\n",
        "                    index=['w','x','y','z'])\n",
        "print(data.head())"
      ]
    },
    {
      "cell_type": "markdown",
      "metadata": {
        "id": "Hl7tnTKOCG4t"
      },
      "source": [
        "If we want to access something by its label, we use the attribute `loc`."
      ]
    },
    {
      "cell_type": "code",
      "execution_count": null,
      "metadata": {
        "colab": {
          "base_uri": "https://localhost:8080/"
        },
        "id": "WXaGjL3VCLym",
        "outputId": "12e6164d-7a0a-4470-ef27-4bac43909944"
      },
      "outputs": [
        {
          "output_type": "stream",
          "name": "stdout",
          "text": [
            "         v1        v2\n",
            "y  0.602763  0.437587\n"
          ]
        }
      ],
      "source": [
        "y_values = data.loc[['y']]\n",
        "print(y_values)"
      ]
    },
    {
      "cell_type": "code",
      "execution_count": null,
      "metadata": {
        "colab": {
          "base_uri": "https://localhost:8080/"
        },
        "id": "de-EP2_FCVjF",
        "outputId": "5858187e-d5dc-4ef2-e2aa-884a12cf1ecc"
      },
      "outputs": [
        {
          "output_type": "stream",
          "name": "stdout",
          "text": [
            "         v1        v2\n",
            "y  0.602763  0.437587\n",
            "x  0.715189  0.645894\n"
          ]
        }
      ],
      "source": [
        "xy_values = data.loc[['y', 'x']]\n",
        "print(xy_values)"
      ]
    },
    {
      "cell_type": "markdown",
      "metadata": {
        "id": "JjDKJgovCpxU"
      },
      "source": [
        "If we want to access specific columns, we need to add their label to the loc attribute."
      ]
    },
    {
      "cell_type": "code",
      "execution_count": null,
      "metadata": {
        "colab": {
          "base_uri": "https://localhost:8080/"
        },
        "id": "OLkeWZ6wC4tK",
        "outputId": "4f099eb3-9981-4d30-88bb-e28a4803ca43"
      },
      "outputs": [
        {
          "output_type": "stream",
          "name": "stdout",
          "text": [
            "         v1\n",
            "x  0.715189\n",
            "y  0.602763\n",
            "z  0.544883\n"
          ]
        }
      ],
      "source": [
        "xyz_v1_values = data.loc[['x', 'y', 'z'], ['v1']]\n",
        "print(xyz_v1_values)"
      ]
    },
    {
      "cell_type": "code",
      "execution_count": null,
      "metadata": {
        "colab": {
          "base_uri": "https://localhost:8080/"
        },
        "id": "lDPemLh3DNjS",
        "outputId": "009a38ea-e3d6-4f7c-ce3e-c0e3698d81df"
      },
      "outputs": [
        {
          "output_type": "stream",
          "name": "stdout",
          "text": [
            "         v1\n",
            "x  0.715189\n",
            "y  0.602763\n",
            "z  0.544883\n"
          ]
        }
      ],
      "source": [
        "xyz_v1_values = data.loc['x':'z', ['v1']] # the ':' symbol return a list, therefore we don't need additional brackets\n",
        "print(xyz_v1_values)"
      ]
    },
    {
      "cell_type": "markdown",
      "metadata": {
        "id": "7MeHPIDBDo9c"
      },
      "source": [
        "Whereas if we want to access something by its row/column number, use `.iloc`"
      ]
    },
    {
      "cell_type": "code",
      "execution_count": null,
      "metadata": {
        "colab": {
          "base_uri": "https://localhost:8080/"
        },
        "id": "_hc11clRDrbv",
        "outputId": "ed55ea38-cb4d-4b6f-ae88-30cb2cbb9151"
      },
      "outputs": [
        {
          "output_type": "stream",
          "name": "stdout",
          "text": [
            "         v1        v2\n",
            "w  0.548814  0.423655\n",
            "x  0.715189  0.645894\n",
            "y  0.602763  0.437587\n",
            "z  0.544883  0.891773\n",
            "\n",
            "         v1        v2\n",
            "y  0.602763  0.437587\n"
          ]
        }
      ],
      "source": [
        "print(data)\n",
        "print()\n",
        "print(data.iloc[[2]]) # python starts counting from 0, so it returms the 3rd row"
      ]
    },
    {
      "cell_type": "code",
      "execution_count": null,
      "metadata": {
        "colab": {
          "base_uri": "https://localhost:8080/"
        },
        "id": "uYNZgkA4D1UJ",
        "outputId": "4bb00995-9f2b-4f7a-9dc5-f5f17dae58da"
      },
      "outputs": [
        {
          "output_type": "stream",
          "name": "stdout",
          "text": [
            "         v1        v2\n",
            "w  0.548814  0.423655\n",
            "x  0.715189  0.645894\n"
          ]
        }
      ],
      "source": [
        "print(data.iloc[0:2]) # it returns the 1ts and 2nd rows"
      ]
    },
    {
      "cell_type": "code",
      "execution_count": null,
      "metadata": {
        "colab": {
          "base_uri": "https://localhost:8080/"
        },
        "id": "mPEnNFYYEJTl",
        "outputId": "a83346e5-68b4-4aac-bca3-5e81a285290b"
      },
      "outputs": [
        {
          "output_type": "stream",
          "name": "stdout",
          "text": [
            "         v1\n",
            "w  0.548814\n",
            "x  0.715189\n"
          ]
        }
      ],
      "source": [
        "print(data.iloc[0:2, [0]]) # returns the 1st and 2nd rows and the first column"
      ]
    },
    {
      "cell_type": "markdown",
      "metadata": {
        "id": "EWe852bjEXVz"
      },
      "source": [
        "### Boolean indexing\n",
        "\n",
        "`.loc` also supports boolean indices, which is very useful for data wrangling and exploration.\n"
      ]
    },
    {
      "cell_type": "code",
      "execution_count": null,
      "metadata": {
        "colab": {
          "base_uri": "https://localhost:8080/"
        },
        "id": "jtNZx681Eg5k",
        "outputId": "cc3a21f4-421e-416b-b25f-376304d9bb3b"
      },
      "outputs": [
        {
          "output_type": "stream",
          "name": "stdout",
          "text": [
            "\n",
            "w    False\n",
            "x     True\n",
            "y     True\n",
            "z    False\n",
            "Name: v1, dtype: bool\n"
          ]
        }
      ],
      "source": [
        "v1_geq = data.v1 >= 0.6\n",
        "print()\n",
        "print(v1_geq)"
      ]
    },
    {
      "cell_type": "markdown",
      "metadata": {
        "id": "uEORT89iFPsQ"
      },
      "source": [
        "We can use boolean comparisons to retrieve a subset of the dataset."
      ]
    },
    {
      "cell_type": "code",
      "execution_count": null,
      "metadata": {
        "colab": {
          "base_uri": "https://localhost:8080/"
        },
        "id": "JD-RE3V3FOgW",
        "outputId": "094344c9-4580-4d34-ec71-951f01bc5e9f"
      },
      "outputs": [
        {
          "output_type": "stream",
          "name": "stdout",
          "text": [
            "         v1        v2\n",
            "x  0.715189  0.645894\n",
            "y  0.602763  0.437587\n"
          ]
        }
      ],
      "source": [
        "data_geq = data.loc[data.v1 >= 0.6]\n",
        "print(data_geq)"
      ]
    },
    {
      "cell_type": "markdown",
      "metadata": {
        "id": "P38pVpU0Fg9n"
      },
      "source": [
        "And even combine boolean comparisons."
      ]
    },
    {
      "cell_type": "code",
      "execution_count": null,
      "metadata": {
        "colab": {
          "base_uri": "https://localhost:8080/"
        },
        "id": "38I3P-5BFjiw",
        "outputId": "481e9ecc-d2cb-4020-9260-a6aaee54bf58"
      },
      "outputs": [
        {
          "output_type": "stream",
          "name": "stdout",
          "text": [
            "         v1        v2\n",
            "y  0.602763  0.437587\n"
          ]
        }
      ],
      "source": [
        "data_geq_leq = data.loc[(data.v1 >= 0.6) & (data.v2 <= 0.5)]\n",
        "print(data_geq_leq)"
      ]
    },
    {
      "cell_type": "code",
      "execution_count": null,
      "metadata": {
        "colab": {
          "base_uri": "https://localhost:8080/"
        },
        "id": "tFfLLQILFw98",
        "outputId": "594b9e5a-90e8-43f1-e2e7-c30d49288a97"
      },
      "outputs": [
        {
          "output_type": "stream",
          "name": "stdout",
          "text": [
            "         v2\n",
            "y  0.437587\n"
          ]
        }
      ],
      "source": [
        "data_geq_leq_v2 = data.loc[(data.v1 > 0.6) & (data.v2 < 0.5), ['v2']]\n",
        "print(data_geq_leq_v2)"
      ]
    },
    {
      "cell_type": "markdown",
      "metadata": {
        "id": "hm15aHUuI8cA"
      },
      "source": [
        "### Changing data frames"
      ]
    },
    {
      "cell_type": "code",
      "execution_count": null,
      "metadata": {
        "colab": {
          "base_uri": "https://localhost:8080/"
        },
        "id": "I5e0O0DBI_FA",
        "outputId": "81671610-4fb9-4ce3-f94c-46d4dcc3db15"
      },
      "outputs": [
        {
          "output_type": "stream",
          "name": "stdout",
          "text": [
            "   patient          phylum  value\n",
            "0        1      Firmicutes    632\n",
            "1        1  Proteobacteria   1638\n",
            "2        1  Actinobacteria    569\n",
            "3        1   Bacteroidetes    115\n",
            "4        2      Firmicutes    433\n",
            "5        2  Proteobacteria   1130\n",
            "6        2  Actinobacteria    754\n",
            "7        2   Bacteroidetes    555\n"
          ]
        }
      ],
      "source": [
        "data = pd.DataFrame.from_dict({0: {'patient': 1, 'phylum': 'Firmicutes', 'value': 632},\n",
        "                               1: {'patient': 1, 'phylum': 'Proteobacteria', 'value': 1638},\n",
        "                               2: {'patient': 1, 'phylum': 'Actinobacteria', 'value': 569},\n",
        "                               3: {'patient': 1, 'phylum': 'Bacteroidetes', 'value': 115},\n",
        "                               4: {'patient': 2, 'phylum': 'Firmicutes', 'value': 433},\n",
        "                               5: {'patient': 2, 'phylum': 'Proteobacteria', 'value': 1130},\n",
        "                               6: {'patient': 2, 'phylum': 'Actinobacteria', 'value': 754},\n",
        "                               7: {'patient': 2, 'phylum': 'Bacteroidetes', 'value': 555}}, orient='index')\n",
        "print(data)"
      ]
    },
    {
      "cell_type": "code",
      "execution_count": null,
      "metadata": {
        "colab": {
          "base_uri": "https://localhost:8080/"
        },
        "id": "ZXPaYY_hJQTm",
        "outputId": "56b1cd0b-6f04-4f61-9c0b-1f40a350dc13"
      },
      "outputs": [
        {
          "output_type": "stream",
          "name": "stdout",
          "text": [
            "0     632\n",
            "1    1638\n",
            "2     569\n",
            "3     115\n",
            "4     433\n",
            "5    1130\n",
            "6     754\n",
            "7     555\n",
            "Name: value, dtype: int64\n"
          ]
        }
      ],
      "source": [
        "value = data.value\n",
        "print(value)"
      ]
    },
    {
      "cell_type": "markdown",
      "metadata": {
        "id": "itEUxZi3JV0f"
      },
      "source": [
        "We can use the `value` as a series that points to the `data` DataFrame and change one or more of its elements."
      ]
    },
    {
      "cell_type": "code",
      "execution_count": null,
      "metadata": {
        "colab": {
          "base_uri": "https://localhost:8080/"
        },
        "id": "4dvHzSSkJiHV",
        "outputId": "1af1a28c-7b67-44fb-f80e-bef6eb10af46"
      },
      "outputs": [
        {
          "output_type": "stream",
          "name": "stdout",
          "text": [
            "0     632\n",
            "1    1638\n",
            "2     569\n",
            "3     115\n",
            "4     433\n",
            "5       0\n",
            "6     754\n",
            "7     555\n",
            "Name: value, dtype: int64\n",
            "\n",
            "   patient          phylum  value\n",
            "0        1      Firmicutes    632\n",
            "1        1  Proteobacteria   1638\n",
            "2        1  Actinobacteria    569\n",
            "3        1   Bacteroidetes    115\n",
            "4        2      Firmicutes    433\n",
            "5        2  Proteobacteria      0\n",
            "6        2  Actinobacteria    754\n",
            "7        2   Bacteroidetes    555\n"
          ]
        },
        {
          "output_type": "stream",
          "name": "stderr",
          "text": [
            "<ipython-input-53-5e16ada33133>:1: SettingWithCopyWarning: \n",
            "A value is trying to be set on a copy of a slice from a DataFrame\n",
            "\n",
            "See the caveats in the documentation: https://pandas.pydata.org/pandas-docs/stable/user_guide/indexing.html#returning-a-view-versus-a-copy\n",
            "  value[5] = 0\n"
          ]
        }
      ],
      "source": [
        "value[5] = 0\n",
        "print(value)\n",
        "print()\n",
        "print(data)"
      ]
    },
    {
      "cell_type": "markdown",
      "metadata": {
        "id": "krViLMV6JzeF"
      },
      "source": [
        "However, if we want to leave `data` intact and work on the `value` series we should use the method `.copy()`."
      ]
    },
    {
      "cell_type": "code",
      "execution_count": null,
      "metadata": {
        "colab": {
          "base_uri": "https://localhost:8080/"
        },
        "id": "3kf6caQ2J-x8",
        "outputId": "c5aa26d9-11c5-4f21-a130-52f2aebd8d18"
      },
      "outputs": [
        {
          "output_type": "stream",
          "name": "stdout",
          "text": [
            "0     632\n",
            "1    1638\n",
            "2    1000\n",
            "3     115\n",
            "4     433\n",
            "5       0\n",
            "6     754\n",
            "7     555\n",
            "Name: value, dtype: int64\n",
            "\n",
            "   patient          phylum  value\n",
            "0        1      Firmicutes    632\n",
            "1        1  Proteobacteria   1638\n",
            "2        1  Actinobacteria    569\n",
            "3        1   Bacteroidetes    115\n",
            "4        2      Firmicutes    433\n",
            "5        2  Proteobacteria      0\n",
            "6        2  Actinobacteria    754\n",
            "7        2   Bacteroidetes    555\n"
          ]
        }
      ],
      "source": [
        "value = data.value.copy()\n",
        "value[2] = 1000\n",
        "print(value)\n",
        "print()\n",
        "print(data)"
      ]
    },
    {
      "cell_type": "markdown",
      "metadata": {
        "id": "KMUVS3nSKS5F"
      },
      "source": [
        "We can also modify existing values by assignment"
      ]
    },
    {
      "cell_type": "code",
      "execution_count": null,
      "metadata": {
        "colab": {
          "base_uri": "https://localhost:8080/"
        },
        "id": "KGNoyEfzKUs_",
        "outputId": "20cd2a02-c94d-45da-8a6c-4984d35e74af"
      },
      "outputs": [
        {
          "output_type": "stream",
          "name": "stdout",
          "text": [
            "   patient          phylum  value\n",
            "0        1      Firmicutes    632\n",
            "1        1  Proteobacteria   1638\n",
            "2        1  Actinobacteria    569\n",
            "3        1   Bacteroidetes     14\n",
            "4        2      Firmicutes    433\n",
            "5        2  Proteobacteria      0\n",
            "6        2  Actinobacteria    754\n",
            "7        2   Bacteroidetes    555\n"
          ]
        }
      ],
      "source": [
        "data.loc[3, 'value'] = 14 # modify the 4th element of column 'value'\n",
        "print(data)"
      ]
    },
    {
      "cell_type": "markdown",
      "metadata": {
        "id": "hGe5XkzcKl9i"
      },
      "source": [
        "We can do the same using the `.iloc` attribute"
      ]
    },
    {
      "cell_type": "code",
      "execution_count": null,
      "metadata": {
        "colab": {
          "base_uri": "https://localhost:8080/"
        },
        "id": "ewea21WaKias",
        "outputId": "49f214fe-db7c-410b-8e98-5444975bb952"
      },
      "outputs": [
        {
          "output_type": "stream",
          "name": "stdout",
          "text": [
            "   patient          phylum  value\n",
            "0        1      Firmicutes    632\n",
            "1        1  Proteobacteria   1638\n",
            "2        3  Actinobacteria    569\n",
            "3        1   Bacteroidetes     14\n",
            "4        2      Firmicutes    433\n",
            "5        2  Proteobacteria      0\n",
            "6        2  Actinobacteria    754\n",
            "7        2   Bacteroidetes    555\n"
          ]
        }
      ],
      "source": [
        "data.iloc[2, 0] = 3 # modify the third element of the first column\n",
        "print(data)"
      ]
    },
    {
      "cell_type": "markdown",
      "metadata": {
        "id": "TgC7gO2ULBLJ"
      },
      "source": [
        "Or modily several elements at the same time"
      ]
    },
    {
      "cell_type": "code",
      "execution_count": null,
      "metadata": {
        "colab": {
          "base_uri": "https://localhost:8080/"
        },
        "id": "ofMnwr_JLEXL",
        "outputId": "5871ec19-4c4a-41ff-8009-cdc67e0c9ac7"
      },
      "outputs": [
        {
          "output_type": "stream",
          "name": "stdout",
          "text": [
            "   patient          phylum  value\n",
            "0       11      Firmicutes    632\n",
            "1       11  Proteobacteria   1638\n",
            "2       13  Actinobacteria    569\n",
            "3       11   Bacteroidetes     14\n",
            "4       12      Firmicutes    433\n",
            "5       12  Proteobacteria      0\n",
            "6       12  Actinobacteria    754\n",
            "7       12   Bacteroidetes    555\n"
          ]
        }
      ],
      "source": [
        "data['patient'] = data['patient'] + 10\n",
        "print(data)"
      ]
    },
    {
      "cell_type": "markdown",
      "metadata": {
        "id": "7-XFxwmFLN4b"
      },
      "source": [
        "And we can also create new variables by assignment"
      ]
    },
    {
      "cell_type": "code",
      "execution_count": null,
      "metadata": {
        "colab": {
          "base_uri": "https://localhost:8080/"
        },
        "id": "22SIBqioLPav",
        "outputId": "9f2a648a-0de7-4d06-98db-94efa2ac5a1f"
      },
      "outputs": [
        {
          "output_type": "stream",
          "name": "stdout",
          "text": [
            "   patient          phylum  value  year\n",
            "0       11      Firmicutes    632  2013\n",
            "1       11  Proteobacteria   1638  2013\n",
            "2       13  Actinobacteria    569  2013\n",
            "3       11   Bacteroidetes     14  2013\n",
            "4       12      Firmicutes    433  2013\n",
            "5       12  Proteobacteria      0  2013\n",
            "6       12  Actinobacteria    754  2013\n",
            "7       12   Bacteroidetes    555  2013\n"
          ]
        }
      ],
      "source": [
        "data['year'] = 2013\n",
        "print(data)"
      ]
    },
    {
      "cell_type": "markdown",
      "source": [
        "Three ways to add different values."
      ],
      "metadata": {
        "id": "ZC-x3x6uA6gt"
      }
    },
    {
      "cell_type": "code",
      "execution_count": null,
      "metadata": {
        "colab": {
          "base_uri": "https://localhost:8080/"
        },
        "id": "NXCl-yTDLTEs",
        "outputId": "0be55eea-83d3-46c3-9276-032aef571348"
      },
      "outputs": [
        {
          "output_type": "stream",
          "name": "stdout",
          "text": [
            "   patient          phylum  value  year  age\n",
            "0       11      Firmicutes    632  2013   20\n",
            "1       11  Proteobacteria   1638  2013   20\n",
            "2       13  Actinobacteria    569  2013   20\n",
            "3       11   Bacteroidetes     14  2013   20\n",
            "4       12      Firmicutes    433  2013   45\n",
            "5       12  Proteobacteria      0  2013   45\n",
            "6       12  Actinobacteria    754  2013   45\n",
            "7       12   Bacteroidetes    555  2013   45\n"
          ]
        }
      ],
      "source": [
        "#data['age'] = np.repeat([35,60],4) # we can add different values by using a list, an 1D array or a series\n",
        "#data['age'] = [30, 30, 30, 30, 65, 65, 65, 65]\n",
        "data['age'] = pd.Series([20, 20, 20, 20, 45, 45, 45, 45]) # NaN values can be added only with a Series\n",
        "print(data)"
      ]
    },
    {
      "cell_type": "markdown",
      "metadata": {
        "id": "56E5YLEHVW05"
      },
      "source": [
        "The method `.eval` can be used to create new columns based on the existing ones."
      ]
    },
    {
      "cell_type": "code",
      "execution_count": null,
      "metadata": {
        "colab": {
          "base_uri": "https://localhost:8080/"
        },
        "id": "baA9rBQhVez1",
        "outputId": "d505e041-1602-4991-a22b-3863b1b1aa57"
      },
      "outputs": [
        {
          "output_type": "stream",
          "name": "stdout",
          "text": [
            "0     643\n",
            "1    1649\n",
            "2     582\n",
            "3      25\n",
            "4     445\n",
            "5      12\n",
            "6     766\n",
            "7     567\n",
            "dtype: int64\n",
            "\n",
            "   patient          phylum  value  year  age\n",
            "0       11      Firmicutes    632  2013   20\n",
            "1       11  Proteobacteria   1638  2013   20\n",
            "2       13  Actinobacteria    569  2013   20\n",
            "3       11   Bacteroidetes     14  2013   20\n",
            "4       12      Firmicutes    433  2013   45\n",
            "5       12  Proteobacteria      0  2013   45\n",
            "6       12  Actinobacteria    754  2013   45\n",
            "7       12   Bacteroidetes    555  2013   45\n"
          ]
        }
      ],
      "source": [
        "patient_plus_value = data.eval('patient + value')\n",
        "print(patient_plus_value)\n",
        "print()\n",
        "print(data)"
      ]
    },
    {
      "cell_type": "code",
      "execution_count": null,
      "metadata": {
        "colab": {
          "base_uri": "https://localhost:8080/"
        },
        "id": "VAhs4NXrVvZi",
        "outputId": "222404a2-5277-437b-e440-10c5a3f78adb"
      },
      "outputs": [
        {
          "output_type": "stream",
          "name": "stdout",
          "text": [
            "   patient          phylum  value  year  age    pv\n",
            "0       11      Firmicutes    632  2013   20   643\n",
            "1       11  Proteobacteria   1638  2013   20  1649\n",
            "2       13  Actinobacteria    569  2013   20   582\n",
            "3       11   Bacteroidetes     14  2013   20    25\n",
            "4       12      Firmicutes    433  2013   45   445\n",
            "5       12  Proteobacteria      0  2013   45    12\n",
            "6       12  Actinobacteria    754  2013   45   766\n",
            "7       12   Bacteroidetes    555  2013   45   567\n"
          ]
        }
      ],
      "source": [
        "data.eval('pv = patient + value', inplace=True) # we need to use the inplace argument for writing changes in the data\n",
        "print(data)"
      ]
    },
    {
      "cell_type": "markdown",
      "metadata": {
        "id": "euBec7xlWRmT"
      },
      "source": [
        "Usually we want to delete columns that are irrelevant to our analysis. We can do that using the keyword `del`."
      ]
    },
    {
      "cell_type": "code",
      "execution_count": null,
      "metadata": {
        "colab": {
          "base_uri": "https://localhost:8080/"
        },
        "id": "9SYleU3OWe2R",
        "outputId": "9ac609e1-a279-4bd2-ec5c-f2920bf371ce"
      },
      "outputs": [
        {
          "output_type": "stream",
          "name": "stdout",
          "text": [
            "   patient          phylum  value  year  age\n",
            "0       11      Firmicutes    632  2013   20\n",
            "1       11  Proteobacteria   1638  2013   20\n",
            "2       13  Actinobacteria    569  2013   20\n",
            "3       11   Bacteroidetes     14  2013   20\n",
            "4       12      Firmicutes    433  2013   45\n",
            "5       12  Proteobacteria      0  2013   45\n",
            "6       12  Actinobacteria    754  2013   45\n",
            "7       12   Bacteroidetes    555  2013   45\n"
          ]
        }
      ],
      "source": [
        "del data['pv']\n",
        "print(data)"
      ]
    },
    {
      "cell_type": "markdown",
      "metadata": {
        "id": "KcXfRc_NWsz9"
      },
      "source": [
        "Or the `.drop()` method."
      ]
    },
    {
      "cell_type": "code",
      "execution_count": null,
      "metadata": {
        "colab": {
          "base_uri": "https://localhost:8080/"
        },
        "id": "KKUcSYRfWxPs",
        "outputId": "9c6ba20a-d31a-4aff-8c55-52f6ecae176d"
      },
      "outputs": [
        {
          "output_type": "stream",
          "name": "stdout",
          "text": [
            "   patient          phylum  value  age\n",
            "0       11      Firmicutes    632   20\n",
            "1       11  Proteobacteria   1638   20\n",
            "2       13  Actinobacteria    569   20\n",
            "3       11   Bacteroidetes     14   20\n",
            "4       12      Firmicutes    433   45\n",
            "5       12  Proteobacteria      0   45\n",
            "6       12  Actinobacteria    754   45\n",
            "7       12   Bacteroidetes    555   45\n"
          ]
        }
      ],
      "source": [
        "data.drop('year', axis=1, inplace=True) # again we need to use the inplace argument\n",
        "print(data)"
      ]
    },
    {
      "cell_type": "markdown",
      "metadata": {
        "id": "tLxeEJI3W-sg"
      },
      "source": [
        "To transform a `DataFrame` to a NumPy array we use the `.values` attribute."
      ]
    },
    {
      "cell_type": "code",
      "execution_count": null,
      "metadata": {
        "colab": {
          "base_uri": "https://localhost:8080/"
        },
        "id": "5DMGXEyYXI9n",
        "outputId": "ad50e82b-a1e0-4e1e-86bc-f8ff5fb88ee0"
      },
      "outputs": [
        {
          "output_type": "stream",
          "name": "stdout",
          "text": [
            "   value  age\n",
            "0    632   20\n",
            "1   1638   20\n",
            "2    569   20\n",
            "3     14   20\n",
            "4    433   45\n",
            "5      0   45\n",
            "6    754   45\n",
            "7    555   45\n",
            "\n",
            "[[ 632   20]\n",
            " [1638   20]\n",
            " [ 569   20]\n",
            " [  14   20]\n",
            " [ 433   45]\n",
            " [   0   45]\n",
            " [ 754   45]\n",
            " [ 555   45]]\n",
            "(8, 2)\n",
            "<class 'numpy.ndarray'>\n"
          ]
        }
      ],
      "source": [
        "va = data[['value', 'age']]\n",
        "print(va)\n",
        "print()\n",
        "va_numpy = va.values\n",
        "print(va_numpy)\n",
        "print(va_numpy.shape)\n",
        "print(type(va_numpy))"
      ]
    },
    {
      "cell_type": "markdown",
      "metadata": {
        "id": "wEGl5rdqYPLu"
      },
      "source": [
        "###Loading data\n",
        "\n"
      ]
    },
    {
      "cell_type": "code",
      "execution_count": null,
      "metadata": {
        "colab": {
          "base_uri": "https://localhost:8080/"
        },
        "id": "fa1XA5hIYQt1",
        "outputId": "cc2863bf-b264-45ac-c54a-517f0970da7b"
      },
      "outputs": [
        {
          "output_type": "stream",
          "name": "stdout",
          "text": [
            "(75, 4)\n"
          ]
        }
      ],
      "source": [
        "mb = pd.read_csv(\"/content/drive/My Drive/ICT - AI/Study Units/ARI5102 - Data Analysis Techniques/Tutorials/microbiome.csv\")\n",
        "shape = mb.shape\n",
        "print(shape)"
      ]
    },
    {
      "cell_type": "code",
      "execution_count": null,
      "metadata": {
        "colab": {
          "base_uri": "https://localhost:8080/",
          "height": 204
        },
        "id": "3jS10cFwZmbh",
        "outputId": "7ccc0c97-a0d7-43ab-8ed9-e6cf7d6ef877"
      },
      "outputs": [
        {
          "output_type": "execute_result",
          "data": {
            "text/plain": [
              "        Taxon  Patient  Tissue  Stool\n",
              "0  Firmicutes        1     632    305\n",
              "1  Firmicutes        2     136   4182\n",
              "2  Firmicutes        3    1174    703\n",
              "3  Firmicutes        4     408   3946\n",
              "4  Firmicutes        5     831   8605"
            ],
            "text/html": [
              "\n",
              "  <div id=\"df-e8f6b9fd-0059-4d61-a041-05c8f6d0fa35\" class=\"colab-df-container\">\n",
              "    <div>\n",
              "<style scoped>\n",
              "    .dataframe tbody tr th:only-of-type {\n",
              "        vertical-align: middle;\n",
              "    }\n",
              "\n",
              "    .dataframe tbody tr th {\n",
              "        vertical-align: top;\n",
              "    }\n",
              "\n",
              "    .dataframe thead th {\n",
              "        text-align: right;\n",
              "    }\n",
              "</style>\n",
              "<table border=\"1\" class=\"dataframe\">\n",
              "  <thead>\n",
              "    <tr style=\"text-align: right;\">\n",
              "      <th></th>\n",
              "      <th>Taxon</th>\n",
              "      <th>Patient</th>\n",
              "      <th>Tissue</th>\n",
              "      <th>Stool</th>\n",
              "    </tr>\n",
              "  </thead>\n",
              "  <tbody>\n",
              "    <tr>\n",
              "      <th>0</th>\n",
              "      <td>Firmicutes</td>\n",
              "      <td>1</td>\n",
              "      <td>632</td>\n",
              "      <td>305</td>\n",
              "    </tr>\n",
              "    <tr>\n",
              "      <th>1</th>\n",
              "      <td>Firmicutes</td>\n",
              "      <td>2</td>\n",
              "      <td>136</td>\n",
              "      <td>4182</td>\n",
              "    </tr>\n",
              "    <tr>\n",
              "      <th>2</th>\n",
              "      <td>Firmicutes</td>\n",
              "      <td>3</td>\n",
              "      <td>1174</td>\n",
              "      <td>703</td>\n",
              "    </tr>\n",
              "    <tr>\n",
              "      <th>3</th>\n",
              "      <td>Firmicutes</td>\n",
              "      <td>4</td>\n",
              "      <td>408</td>\n",
              "      <td>3946</td>\n",
              "    </tr>\n",
              "    <tr>\n",
              "      <th>4</th>\n",
              "      <td>Firmicutes</td>\n",
              "      <td>5</td>\n",
              "      <td>831</td>\n",
              "      <td>8605</td>\n",
              "    </tr>\n",
              "  </tbody>\n",
              "</table>\n",
              "</div>\n",
              "    <div class=\"colab-df-buttons\">\n",
              "\n",
              "  <div class=\"colab-df-container\">\n",
              "    <button class=\"colab-df-convert\" onclick=\"convertToInteractive('df-e8f6b9fd-0059-4d61-a041-05c8f6d0fa35')\"\n",
              "            title=\"Convert this dataframe to an interactive table.\"\n",
              "            style=\"display:none;\">\n",
              "\n",
              "  <svg xmlns=\"http://www.w3.org/2000/svg\" height=\"24px\" viewBox=\"0 -960 960 960\">\n",
              "    <path d=\"M120-120v-720h720v720H120Zm60-500h600v-160H180v160Zm220 220h160v-160H400v160Zm0 220h160v-160H400v160ZM180-400h160v-160H180v160Zm440 0h160v-160H620v160ZM180-180h160v-160H180v160Zm440 0h160v-160H620v160Z\"/>\n",
              "  </svg>\n",
              "    </button>\n",
              "\n",
              "  <style>\n",
              "    .colab-df-container {\n",
              "      display:flex;\n",
              "      gap: 12px;\n",
              "    }\n",
              "\n",
              "    .colab-df-convert {\n",
              "      background-color: #E8F0FE;\n",
              "      border: none;\n",
              "      border-radius: 50%;\n",
              "      cursor: pointer;\n",
              "      display: none;\n",
              "      fill: #1967D2;\n",
              "      height: 32px;\n",
              "      padding: 0 0 0 0;\n",
              "      width: 32px;\n",
              "    }\n",
              "\n",
              "    .colab-df-convert:hover {\n",
              "      background-color: #E2EBFA;\n",
              "      box-shadow: 0px 1px 2px rgba(60, 64, 67, 0.3), 0px 1px 3px 1px rgba(60, 64, 67, 0.15);\n",
              "      fill: #174EA6;\n",
              "    }\n",
              "\n",
              "    .colab-df-buttons div {\n",
              "      margin-bottom: 4px;\n",
              "    }\n",
              "\n",
              "    [theme=dark] .colab-df-convert {\n",
              "      background-color: #3B4455;\n",
              "      fill: #D2E3FC;\n",
              "    }\n",
              "\n",
              "    [theme=dark] .colab-df-convert:hover {\n",
              "      background-color: #434B5C;\n",
              "      box-shadow: 0px 1px 3px 1px rgba(0, 0, 0, 0.15);\n",
              "      filter: drop-shadow(0px 1px 2px rgba(0, 0, 0, 0.3));\n",
              "      fill: #FFFFFF;\n",
              "    }\n",
              "  </style>\n",
              "\n",
              "    <script>\n",
              "      const buttonEl =\n",
              "        document.querySelector('#df-e8f6b9fd-0059-4d61-a041-05c8f6d0fa35 button.colab-df-convert');\n",
              "      buttonEl.style.display =\n",
              "        google.colab.kernel.accessAllowed ? 'block' : 'none';\n",
              "\n",
              "      async function convertToInteractive(key) {\n",
              "        const element = document.querySelector('#df-e8f6b9fd-0059-4d61-a041-05c8f6d0fa35');\n",
              "        const dataTable =\n",
              "          await google.colab.kernel.invokeFunction('convertToInteractive',\n",
              "                                                    [key], {});\n",
              "        if (!dataTable) return;\n",
              "\n",
              "        const docLinkHtml = 'Like what you see? Visit the ' +\n",
              "          '<a target=\"_blank\" href=https://colab.research.google.com/notebooks/data_table.ipynb>data table notebook</a>'\n",
              "          + ' to learn more about interactive tables.';\n",
              "        element.innerHTML = '';\n",
              "        dataTable['output_type'] = 'display_data';\n",
              "        await google.colab.output.renderOutput(dataTable, element);\n",
              "        const docLink = document.createElement('div');\n",
              "        docLink.innerHTML = docLinkHtml;\n",
              "        element.appendChild(docLink);\n",
              "      }\n",
              "    </script>\n",
              "  </div>\n",
              "\n",
              "\n",
              "<div id=\"df-7db53042-5bdb-4446-915f-9aed7520d60b\">\n",
              "  <button class=\"colab-df-quickchart\" onclick=\"quickchart('df-7db53042-5bdb-4446-915f-9aed7520d60b')\"\n",
              "            title=\"Suggest charts\"\n",
              "            style=\"display:none;\">\n",
              "\n",
              "<svg xmlns=\"http://www.w3.org/2000/svg\" height=\"24px\"viewBox=\"0 0 24 24\"\n",
              "     width=\"24px\">\n",
              "    <g>\n",
              "        <path d=\"M19 3H5c-1.1 0-2 .9-2 2v14c0 1.1.9 2 2 2h14c1.1 0 2-.9 2-2V5c0-1.1-.9-2-2-2zM9 17H7v-7h2v7zm4 0h-2V7h2v10zm4 0h-2v-4h2v4z\"/>\n",
              "    </g>\n",
              "</svg>\n",
              "  </button>\n",
              "\n",
              "<style>\n",
              "  .colab-df-quickchart {\n",
              "      --bg-color: #E8F0FE;\n",
              "      --fill-color: #1967D2;\n",
              "      --hover-bg-color: #E2EBFA;\n",
              "      --hover-fill-color: #174EA6;\n",
              "      --disabled-fill-color: #AAA;\n",
              "      --disabled-bg-color: #DDD;\n",
              "  }\n",
              "\n",
              "  [theme=dark] .colab-df-quickchart {\n",
              "      --bg-color: #3B4455;\n",
              "      --fill-color: #D2E3FC;\n",
              "      --hover-bg-color: #434B5C;\n",
              "      --hover-fill-color: #FFFFFF;\n",
              "      --disabled-bg-color: #3B4455;\n",
              "      --disabled-fill-color: #666;\n",
              "  }\n",
              "\n",
              "  .colab-df-quickchart {\n",
              "    background-color: var(--bg-color);\n",
              "    border: none;\n",
              "    border-radius: 50%;\n",
              "    cursor: pointer;\n",
              "    display: none;\n",
              "    fill: var(--fill-color);\n",
              "    height: 32px;\n",
              "    padding: 0;\n",
              "    width: 32px;\n",
              "  }\n",
              "\n",
              "  .colab-df-quickchart:hover {\n",
              "    background-color: var(--hover-bg-color);\n",
              "    box-shadow: 0 1px 2px rgba(60, 64, 67, 0.3), 0 1px 3px 1px rgba(60, 64, 67, 0.15);\n",
              "    fill: var(--button-hover-fill-color);\n",
              "  }\n",
              "\n",
              "  .colab-df-quickchart-complete:disabled,\n",
              "  .colab-df-quickchart-complete:disabled:hover {\n",
              "    background-color: var(--disabled-bg-color);\n",
              "    fill: var(--disabled-fill-color);\n",
              "    box-shadow: none;\n",
              "  }\n",
              "\n",
              "  .colab-df-spinner {\n",
              "    border: 2px solid var(--fill-color);\n",
              "    border-color: transparent;\n",
              "    border-bottom-color: var(--fill-color);\n",
              "    animation:\n",
              "      spin 1s steps(1) infinite;\n",
              "  }\n",
              "\n",
              "  @keyframes spin {\n",
              "    0% {\n",
              "      border-color: transparent;\n",
              "      border-bottom-color: var(--fill-color);\n",
              "      border-left-color: var(--fill-color);\n",
              "    }\n",
              "    20% {\n",
              "      border-color: transparent;\n",
              "      border-left-color: var(--fill-color);\n",
              "      border-top-color: var(--fill-color);\n",
              "    }\n",
              "    30% {\n",
              "      border-color: transparent;\n",
              "      border-left-color: var(--fill-color);\n",
              "      border-top-color: var(--fill-color);\n",
              "      border-right-color: var(--fill-color);\n",
              "    }\n",
              "    40% {\n",
              "      border-color: transparent;\n",
              "      border-right-color: var(--fill-color);\n",
              "      border-top-color: var(--fill-color);\n",
              "    }\n",
              "    60% {\n",
              "      border-color: transparent;\n",
              "      border-right-color: var(--fill-color);\n",
              "    }\n",
              "    80% {\n",
              "      border-color: transparent;\n",
              "      border-right-color: var(--fill-color);\n",
              "      border-bottom-color: var(--fill-color);\n",
              "    }\n",
              "    90% {\n",
              "      border-color: transparent;\n",
              "      border-bottom-color: var(--fill-color);\n",
              "    }\n",
              "  }\n",
              "</style>\n",
              "\n",
              "  <script>\n",
              "    async function quickchart(key) {\n",
              "      const quickchartButtonEl =\n",
              "        document.querySelector('#' + key + ' button');\n",
              "      quickchartButtonEl.disabled = true;  // To prevent multiple clicks.\n",
              "      quickchartButtonEl.classList.add('colab-df-spinner');\n",
              "      try {\n",
              "        const charts = await google.colab.kernel.invokeFunction(\n",
              "            'suggestCharts', [key], {});\n",
              "      } catch (error) {\n",
              "        console.error('Error during call to suggestCharts:', error);\n",
              "      }\n",
              "      quickchartButtonEl.classList.remove('colab-df-spinner');\n",
              "      quickchartButtonEl.classList.add('colab-df-quickchart-complete');\n",
              "    }\n",
              "    (() => {\n",
              "      let quickchartButtonEl =\n",
              "        document.querySelector('#df-7db53042-5bdb-4446-915f-9aed7520d60b button');\n",
              "      quickchartButtonEl.style.display =\n",
              "        google.colab.kernel.accessAllowed ? 'block' : 'none';\n",
              "    })();\n",
              "  </script>\n",
              "</div>\n",
              "    </div>\n",
              "  </div>\n"
            ],
            "application/vnd.google.colaboratory.intrinsic+json": {
              "type": "dataframe",
              "variable_name": "mb",
              "summary": "{\n  \"name\": \"mb\",\n  \"rows\": 75,\n  \"fields\": [\n    {\n      \"column\": \"Taxon\",\n      \"properties\": {\n        \"dtype\": \"category\",\n        \"num_unique_values\": 5,\n        \"samples\": [\n          \"Proteobacteria\",\n          \"Other\",\n          \"Actinobacteria\"\n        ],\n        \"semantic_type\": \"\",\n        \"description\": \"\"\n      }\n    },\n    {\n      \"column\": \"Patient\",\n      \"properties\": {\n        \"dtype\": \"number\",\n        \"std\": 4,\n        \"min\": 1,\n        \"max\": 15,\n        \"num_unique_values\": 15,\n        \"samples\": [\n          10,\n          12,\n          1\n        ],\n        \"semantic_type\": \"\",\n        \"description\": \"\"\n      }\n    },\n    {\n      \"column\": \"Tissue\",\n      \"properties\": {\n        \"dtype\": \"number\",\n        \"std\": 1818,\n        \"min\": 0,\n        \"max\": 12044,\n        \"num_unique_values\": 70,\n        \"samples\": [\n          395,\n          632,\n          143\n        ],\n        \"semantic_type\": \"\",\n        \"description\": \"\"\n      }\n    },\n    {\n      \"column\": \"Stool\",\n      \"properties\": {\n        \"dtype\": \"number\",\n        \"std\": 1451,\n        \"min\": 0,\n        \"max\": 8605,\n        \"num_unique_values\": 63,\n        \"samples\": [\n          25,\n          40,\n          305\n        ],\n        \"semantic_type\": \"\",\n        \"description\": \"\"\n      }\n    }\n  ]\n}"
            }
          },
          "metadata": {},
          "execution_count": 67
        }
      ],
      "source": [
        "mb.head() # it prints the first 5 rows of the dataframe"
      ]
    },
    {
      "cell_type": "code",
      "execution_count": null,
      "metadata": {
        "colab": {
          "base_uri": "https://localhost:8080/",
          "height": 204
        },
        "id": "CWBTfZe_ZpxU",
        "outputId": "059b1c00-9bac-438d-cb65-fd3a5b3f085d"
      },
      "outputs": [
        {
          "output_type": "execute_result",
          "data": {
            "text/plain": [
              "    Taxon  Patient  Tissue  Stool\n",
              "70  Other       11     203      6\n",
              "71  Other       12     392      6\n",
              "72  Other       13      28     25\n",
              "73  Other       14      12     22\n",
              "74  Other       15     305     32"
            ],
            "text/html": [
              "\n",
              "  <div id=\"df-de903f6f-8c1f-42ee-9e3e-121455d4b005\" class=\"colab-df-container\">\n",
              "    <div>\n",
              "<style scoped>\n",
              "    .dataframe tbody tr th:only-of-type {\n",
              "        vertical-align: middle;\n",
              "    }\n",
              "\n",
              "    .dataframe tbody tr th {\n",
              "        vertical-align: top;\n",
              "    }\n",
              "\n",
              "    .dataframe thead th {\n",
              "        text-align: right;\n",
              "    }\n",
              "</style>\n",
              "<table border=\"1\" class=\"dataframe\">\n",
              "  <thead>\n",
              "    <tr style=\"text-align: right;\">\n",
              "      <th></th>\n",
              "      <th>Taxon</th>\n",
              "      <th>Patient</th>\n",
              "      <th>Tissue</th>\n",
              "      <th>Stool</th>\n",
              "    </tr>\n",
              "  </thead>\n",
              "  <tbody>\n",
              "    <tr>\n",
              "      <th>70</th>\n",
              "      <td>Other</td>\n",
              "      <td>11</td>\n",
              "      <td>203</td>\n",
              "      <td>6</td>\n",
              "    </tr>\n",
              "    <tr>\n",
              "      <th>71</th>\n",
              "      <td>Other</td>\n",
              "      <td>12</td>\n",
              "      <td>392</td>\n",
              "      <td>6</td>\n",
              "    </tr>\n",
              "    <tr>\n",
              "      <th>72</th>\n",
              "      <td>Other</td>\n",
              "      <td>13</td>\n",
              "      <td>28</td>\n",
              "      <td>25</td>\n",
              "    </tr>\n",
              "    <tr>\n",
              "      <th>73</th>\n",
              "      <td>Other</td>\n",
              "      <td>14</td>\n",
              "      <td>12</td>\n",
              "      <td>22</td>\n",
              "    </tr>\n",
              "    <tr>\n",
              "      <th>74</th>\n",
              "      <td>Other</td>\n",
              "      <td>15</td>\n",
              "      <td>305</td>\n",
              "      <td>32</td>\n",
              "    </tr>\n",
              "  </tbody>\n",
              "</table>\n",
              "</div>\n",
              "    <div class=\"colab-df-buttons\">\n",
              "\n",
              "  <div class=\"colab-df-container\">\n",
              "    <button class=\"colab-df-convert\" onclick=\"convertToInteractive('df-de903f6f-8c1f-42ee-9e3e-121455d4b005')\"\n",
              "            title=\"Convert this dataframe to an interactive table.\"\n",
              "            style=\"display:none;\">\n",
              "\n",
              "  <svg xmlns=\"http://www.w3.org/2000/svg\" height=\"24px\" viewBox=\"0 -960 960 960\">\n",
              "    <path d=\"M120-120v-720h720v720H120Zm60-500h600v-160H180v160Zm220 220h160v-160H400v160Zm0 220h160v-160H400v160ZM180-400h160v-160H180v160Zm440 0h160v-160H620v160ZM180-180h160v-160H180v160Zm440 0h160v-160H620v160Z\"/>\n",
              "  </svg>\n",
              "    </button>\n",
              "\n",
              "  <style>\n",
              "    .colab-df-container {\n",
              "      display:flex;\n",
              "      gap: 12px;\n",
              "    }\n",
              "\n",
              "    .colab-df-convert {\n",
              "      background-color: #E8F0FE;\n",
              "      border: none;\n",
              "      border-radius: 50%;\n",
              "      cursor: pointer;\n",
              "      display: none;\n",
              "      fill: #1967D2;\n",
              "      height: 32px;\n",
              "      padding: 0 0 0 0;\n",
              "      width: 32px;\n",
              "    }\n",
              "\n",
              "    .colab-df-convert:hover {\n",
              "      background-color: #E2EBFA;\n",
              "      box-shadow: 0px 1px 2px rgba(60, 64, 67, 0.3), 0px 1px 3px 1px rgba(60, 64, 67, 0.15);\n",
              "      fill: #174EA6;\n",
              "    }\n",
              "\n",
              "    .colab-df-buttons div {\n",
              "      margin-bottom: 4px;\n",
              "    }\n",
              "\n",
              "    [theme=dark] .colab-df-convert {\n",
              "      background-color: #3B4455;\n",
              "      fill: #D2E3FC;\n",
              "    }\n",
              "\n",
              "    [theme=dark] .colab-df-convert:hover {\n",
              "      background-color: #434B5C;\n",
              "      box-shadow: 0px 1px 3px 1px rgba(0, 0, 0, 0.15);\n",
              "      filter: drop-shadow(0px 1px 2px rgba(0, 0, 0, 0.3));\n",
              "      fill: #FFFFFF;\n",
              "    }\n",
              "  </style>\n",
              "\n",
              "    <script>\n",
              "      const buttonEl =\n",
              "        document.querySelector('#df-de903f6f-8c1f-42ee-9e3e-121455d4b005 button.colab-df-convert');\n",
              "      buttonEl.style.display =\n",
              "        google.colab.kernel.accessAllowed ? 'block' : 'none';\n",
              "\n",
              "      async function convertToInteractive(key) {\n",
              "        const element = document.querySelector('#df-de903f6f-8c1f-42ee-9e3e-121455d4b005');\n",
              "        const dataTable =\n",
              "          await google.colab.kernel.invokeFunction('convertToInteractive',\n",
              "                                                    [key], {});\n",
              "        if (!dataTable) return;\n",
              "\n",
              "        const docLinkHtml = 'Like what you see? Visit the ' +\n",
              "          '<a target=\"_blank\" href=https://colab.research.google.com/notebooks/data_table.ipynb>data table notebook</a>'\n",
              "          + ' to learn more about interactive tables.';\n",
              "        element.innerHTML = '';\n",
              "        dataTable['output_type'] = 'display_data';\n",
              "        await google.colab.output.renderOutput(dataTable, element);\n",
              "        const docLink = document.createElement('div');\n",
              "        docLink.innerHTML = docLinkHtml;\n",
              "        element.appendChild(docLink);\n",
              "      }\n",
              "    </script>\n",
              "  </div>\n",
              "\n",
              "\n",
              "<div id=\"df-4c046313-2872-46d3-ac26-b82e097275d3\">\n",
              "  <button class=\"colab-df-quickchart\" onclick=\"quickchart('df-4c046313-2872-46d3-ac26-b82e097275d3')\"\n",
              "            title=\"Suggest charts\"\n",
              "            style=\"display:none;\">\n",
              "\n",
              "<svg xmlns=\"http://www.w3.org/2000/svg\" height=\"24px\"viewBox=\"0 0 24 24\"\n",
              "     width=\"24px\">\n",
              "    <g>\n",
              "        <path d=\"M19 3H5c-1.1 0-2 .9-2 2v14c0 1.1.9 2 2 2h14c1.1 0 2-.9 2-2V5c0-1.1-.9-2-2-2zM9 17H7v-7h2v7zm4 0h-2V7h2v10zm4 0h-2v-4h2v4z\"/>\n",
              "    </g>\n",
              "</svg>\n",
              "  </button>\n",
              "\n",
              "<style>\n",
              "  .colab-df-quickchart {\n",
              "      --bg-color: #E8F0FE;\n",
              "      --fill-color: #1967D2;\n",
              "      --hover-bg-color: #E2EBFA;\n",
              "      --hover-fill-color: #174EA6;\n",
              "      --disabled-fill-color: #AAA;\n",
              "      --disabled-bg-color: #DDD;\n",
              "  }\n",
              "\n",
              "  [theme=dark] .colab-df-quickchart {\n",
              "      --bg-color: #3B4455;\n",
              "      --fill-color: #D2E3FC;\n",
              "      --hover-bg-color: #434B5C;\n",
              "      --hover-fill-color: #FFFFFF;\n",
              "      --disabled-bg-color: #3B4455;\n",
              "      --disabled-fill-color: #666;\n",
              "  }\n",
              "\n",
              "  .colab-df-quickchart {\n",
              "    background-color: var(--bg-color);\n",
              "    border: none;\n",
              "    border-radius: 50%;\n",
              "    cursor: pointer;\n",
              "    display: none;\n",
              "    fill: var(--fill-color);\n",
              "    height: 32px;\n",
              "    padding: 0;\n",
              "    width: 32px;\n",
              "  }\n",
              "\n",
              "  .colab-df-quickchart:hover {\n",
              "    background-color: var(--hover-bg-color);\n",
              "    box-shadow: 0 1px 2px rgba(60, 64, 67, 0.3), 0 1px 3px 1px rgba(60, 64, 67, 0.15);\n",
              "    fill: var(--button-hover-fill-color);\n",
              "  }\n",
              "\n",
              "  .colab-df-quickchart-complete:disabled,\n",
              "  .colab-df-quickchart-complete:disabled:hover {\n",
              "    background-color: var(--disabled-bg-color);\n",
              "    fill: var(--disabled-fill-color);\n",
              "    box-shadow: none;\n",
              "  }\n",
              "\n",
              "  .colab-df-spinner {\n",
              "    border: 2px solid var(--fill-color);\n",
              "    border-color: transparent;\n",
              "    border-bottom-color: var(--fill-color);\n",
              "    animation:\n",
              "      spin 1s steps(1) infinite;\n",
              "  }\n",
              "\n",
              "  @keyframes spin {\n",
              "    0% {\n",
              "      border-color: transparent;\n",
              "      border-bottom-color: var(--fill-color);\n",
              "      border-left-color: var(--fill-color);\n",
              "    }\n",
              "    20% {\n",
              "      border-color: transparent;\n",
              "      border-left-color: var(--fill-color);\n",
              "      border-top-color: var(--fill-color);\n",
              "    }\n",
              "    30% {\n",
              "      border-color: transparent;\n",
              "      border-left-color: var(--fill-color);\n",
              "      border-top-color: var(--fill-color);\n",
              "      border-right-color: var(--fill-color);\n",
              "    }\n",
              "    40% {\n",
              "      border-color: transparent;\n",
              "      border-right-color: var(--fill-color);\n",
              "      border-top-color: var(--fill-color);\n",
              "    }\n",
              "    60% {\n",
              "      border-color: transparent;\n",
              "      border-right-color: var(--fill-color);\n",
              "    }\n",
              "    80% {\n",
              "      border-color: transparent;\n",
              "      border-right-color: var(--fill-color);\n",
              "      border-bottom-color: var(--fill-color);\n",
              "    }\n",
              "    90% {\n",
              "      border-color: transparent;\n",
              "      border-bottom-color: var(--fill-color);\n",
              "    }\n",
              "  }\n",
              "</style>\n",
              "\n",
              "  <script>\n",
              "    async function quickchart(key) {\n",
              "      const quickchartButtonEl =\n",
              "        document.querySelector('#' + key + ' button');\n",
              "      quickchartButtonEl.disabled = true;  // To prevent multiple clicks.\n",
              "      quickchartButtonEl.classList.add('colab-df-spinner');\n",
              "      try {\n",
              "        const charts = await google.colab.kernel.invokeFunction(\n",
              "            'suggestCharts', [key], {});\n",
              "      } catch (error) {\n",
              "        console.error('Error during call to suggestCharts:', error);\n",
              "      }\n",
              "      quickchartButtonEl.classList.remove('colab-df-spinner');\n",
              "      quickchartButtonEl.classList.add('colab-df-quickchart-complete');\n",
              "    }\n",
              "    (() => {\n",
              "      let quickchartButtonEl =\n",
              "        document.querySelector('#df-4c046313-2872-46d3-ac26-b82e097275d3 button');\n",
              "      quickchartButtonEl.style.display =\n",
              "        google.colab.kernel.accessAllowed ? 'block' : 'none';\n",
              "    })();\n",
              "  </script>\n",
              "</div>\n",
              "    </div>\n",
              "  </div>\n"
            ],
            "application/vnd.google.colaboratory.intrinsic+json": {
              "type": "dataframe",
              "summary": "{\n  \"name\": \"mb\",\n  \"rows\": 5,\n  \"fields\": [\n    {\n      \"column\": \"Taxon\",\n      \"properties\": {\n        \"dtype\": \"category\",\n        \"num_unique_values\": 1,\n        \"samples\": [\n          \"Other\"\n        ],\n        \"semantic_type\": \"\",\n        \"description\": \"\"\n      }\n    },\n    {\n      \"column\": \"Patient\",\n      \"properties\": {\n        \"dtype\": \"number\",\n        \"std\": 1,\n        \"min\": 11,\n        \"max\": 15,\n        \"num_unique_values\": 5,\n        \"samples\": [\n          12\n        ],\n        \"semantic_type\": \"\",\n        \"description\": \"\"\n      }\n    },\n    {\n      \"column\": \"Tissue\",\n      \"properties\": {\n        \"dtype\": \"number\",\n        \"std\": 167,\n        \"min\": 12,\n        \"max\": 392,\n        \"num_unique_values\": 5,\n        \"samples\": [\n          392\n        ],\n        \"semantic_type\": \"\",\n        \"description\": \"\"\n      }\n    },\n    {\n      \"column\": \"Stool\",\n      \"properties\": {\n        \"dtype\": \"number\",\n        \"std\": 11,\n        \"min\": 6,\n        \"max\": 32,\n        \"num_unique_values\": 4,\n        \"samples\": [\n          25\n        ],\n        \"semantic_type\": \"\",\n        \"description\": \"\"\n      }\n    }\n  ]\n}"
            }
          },
          "metadata": {},
          "execution_count": 68
        }
      ],
      "source": [
        "mb.tail() # it prints the last 5 rows of the dataframe"
      ]
    },
    {
      "cell_type": "markdown",
      "metadata": {
        "id": "MrMYAbaXZynK"
      },
      "source": [
        "Notice that `read_csv` automatically considered the first row in the file to be a header row.\n",
        "\n",
        "We can override default behavior by customizing the argument `header`."
      ]
    },
    {
      "cell_type": "code",
      "execution_count": null,
      "metadata": {
        "colab": {
          "base_uri": "https://localhost:8080/"
        },
        "id": "znwUSVSTZ316",
        "outputId": "e2f20e31-0b34-46e1-a272-f89ffc5c212c"
      },
      "outputs": [
        {
          "output_type": "stream",
          "name": "stdout",
          "text": [
            "            0        1       2      3\n",
            "0       Taxon  Patient  Tissue  Stool\n",
            "1  Firmicutes        1     632    305\n",
            "2  Firmicutes        2     136   4182\n",
            "3  Firmicutes        3    1174    703\n",
            "4  Firmicutes        4     408   3946\n"
          ]
        }
      ],
      "source": [
        "mb_no_header = pd.read_csv(\"/content/drive/My Drive/ICT - AI/Study Units/ARI5102 - Data Analysis Techniques/Tutorials/microbiome.csv\", header=None)\n",
        "print(mb_no_header.head())"
      ]
    },
    {
      "cell_type": "markdown",
      "metadata": {
        "id": "2iOf2SyXaf6J"
      },
      "source": [
        "If we have sections of data that we do not wish to import (for example, known bad data), we can populate the `skiprows` argument"
      ]
    },
    {
      "cell_type": "code",
      "execution_count": null,
      "metadata": {
        "colab": {
          "base_uri": "https://localhost:8080/",
          "height": 204
        },
        "id": "D2tfpfflahuh",
        "outputId": "2d0e7540-fc69-4c75-c887-9da1a0c050fe"
      },
      "outputs": [
        {
          "output_type": "execute_result",
          "data": {
            "text/plain": [
              "        Taxon  Patient  Tissue  Stool\n",
              "0  Firmicutes        1     632    305\n",
              "1  Firmicutes        5     831   8605\n",
              "2  Firmicutes        6     693     50\n",
              "3  Firmicutes        7     718    717\n",
              "4  Firmicutes        8     173     33"
            ],
            "text/html": [
              "\n",
              "  <div id=\"df-0db82743-633e-4f17-a78b-e25dc874dabf\" class=\"colab-df-container\">\n",
              "    <div>\n",
              "<style scoped>\n",
              "    .dataframe tbody tr th:only-of-type {\n",
              "        vertical-align: middle;\n",
              "    }\n",
              "\n",
              "    .dataframe tbody tr th {\n",
              "        vertical-align: top;\n",
              "    }\n",
              "\n",
              "    .dataframe thead th {\n",
              "        text-align: right;\n",
              "    }\n",
              "</style>\n",
              "<table border=\"1\" class=\"dataframe\">\n",
              "  <thead>\n",
              "    <tr style=\"text-align: right;\">\n",
              "      <th></th>\n",
              "      <th>Taxon</th>\n",
              "      <th>Patient</th>\n",
              "      <th>Tissue</th>\n",
              "      <th>Stool</th>\n",
              "    </tr>\n",
              "  </thead>\n",
              "  <tbody>\n",
              "    <tr>\n",
              "      <th>0</th>\n",
              "      <td>Firmicutes</td>\n",
              "      <td>1</td>\n",
              "      <td>632</td>\n",
              "      <td>305</td>\n",
              "    </tr>\n",
              "    <tr>\n",
              "      <th>1</th>\n",
              "      <td>Firmicutes</td>\n",
              "      <td>5</td>\n",
              "      <td>831</td>\n",
              "      <td>8605</td>\n",
              "    </tr>\n",
              "    <tr>\n",
              "      <th>2</th>\n",
              "      <td>Firmicutes</td>\n",
              "      <td>6</td>\n",
              "      <td>693</td>\n",
              "      <td>50</td>\n",
              "    </tr>\n",
              "    <tr>\n",
              "      <th>3</th>\n",
              "      <td>Firmicutes</td>\n",
              "      <td>7</td>\n",
              "      <td>718</td>\n",
              "      <td>717</td>\n",
              "    </tr>\n",
              "    <tr>\n",
              "      <th>4</th>\n",
              "      <td>Firmicutes</td>\n",
              "      <td>8</td>\n",
              "      <td>173</td>\n",
              "      <td>33</td>\n",
              "    </tr>\n",
              "  </tbody>\n",
              "</table>\n",
              "</div>\n",
              "    <div class=\"colab-df-buttons\">\n",
              "\n",
              "  <div class=\"colab-df-container\">\n",
              "    <button class=\"colab-df-convert\" onclick=\"convertToInteractive('df-0db82743-633e-4f17-a78b-e25dc874dabf')\"\n",
              "            title=\"Convert this dataframe to an interactive table.\"\n",
              "            style=\"display:none;\">\n",
              "\n",
              "  <svg xmlns=\"http://www.w3.org/2000/svg\" height=\"24px\" viewBox=\"0 -960 960 960\">\n",
              "    <path d=\"M120-120v-720h720v720H120Zm60-500h600v-160H180v160Zm220 220h160v-160H400v160Zm0 220h160v-160H400v160ZM180-400h160v-160H180v160Zm440 0h160v-160H620v160ZM180-180h160v-160H180v160Zm440 0h160v-160H620v160Z\"/>\n",
              "  </svg>\n",
              "    </button>\n",
              "\n",
              "  <style>\n",
              "    .colab-df-container {\n",
              "      display:flex;\n",
              "      gap: 12px;\n",
              "    }\n",
              "\n",
              "    .colab-df-convert {\n",
              "      background-color: #E8F0FE;\n",
              "      border: none;\n",
              "      border-radius: 50%;\n",
              "      cursor: pointer;\n",
              "      display: none;\n",
              "      fill: #1967D2;\n",
              "      height: 32px;\n",
              "      padding: 0 0 0 0;\n",
              "      width: 32px;\n",
              "    }\n",
              "\n",
              "    .colab-df-convert:hover {\n",
              "      background-color: #E2EBFA;\n",
              "      box-shadow: 0px 1px 2px rgba(60, 64, 67, 0.3), 0px 1px 3px 1px rgba(60, 64, 67, 0.15);\n",
              "      fill: #174EA6;\n",
              "    }\n",
              "\n",
              "    .colab-df-buttons div {\n",
              "      margin-bottom: 4px;\n",
              "    }\n",
              "\n",
              "    [theme=dark] .colab-df-convert {\n",
              "      background-color: #3B4455;\n",
              "      fill: #D2E3FC;\n",
              "    }\n",
              "\n",
              "    [theme=dark] .colab-df-convert:hover {\n",
              "      background-color: #434B5C;\n",
              "      box-shadow: 0px 1px 3px 1px rgba(0, 0, 0, 0.15);\n",
              "      filter: drop-shadow(0px 1px 2px rgba(0, 0, 0, 0.3));\n",
              "      fill: #FFFFFF;\n",
              "    }\n",
              "  </style>\n",
              "\n",
              "    <script>\n",
              "      const buttonEl =\n",
              "        document.querySelector('#df-0db82743-633e-4f17-a78b-e25dc874dabf button.colab-df-convert');\n",
              "      buttonEl.style.display =\n",
              "        google.colab.kernel.accessAllowed ? 'block' : 'none';\n",
              "\n",
              "      async function convertToInteractive(key) {\n",
              "        const element = document.querySelector('#df-0db82743-633e-4f17-a78b-e25dc874dabf');\n",
              "        const dataTable =\n",
              "          await google.colab.kernel.invokeFunction('convertToInteractive',\n",
              "                                                    [key], {});\n",
              "        if (!dataTable) return;\n",
              "\n",
              "        const docLinkHtml = 'Like what you see? Visit the ' +\n",
              "          '<a target=\"_blank\" href=https://colab.research.google.com/notebooks/data_table.ipynb>data table notebook</a>'\n",
              "          + ' to learn more about interactive tables.';\n",
              "        element.innerHTML = '';\n",
              "        dataTable['output_type'] = 'display_data';\n",
              "        await google.colab.output.renderOutput(dataTable, element);\n",
              "        const docLink = document.createElement('div');\n",
              "        docLink.innerHTML = docLinkHtml;\n",
              "        element.appendChild(docLink);\n",
              "      }\n",
              "    </script>\n",
              "  </div>\n",
              "\n",
              "\n",
              "<div id=\"df-c685da2f-d2f9-464f-9721-f2a7792e82b4\">\n",
              "  <button class=\"colab-df-quickchart\" onclick=\"quickchart('df-c685da2f-d2f9-464f-9721-f2a7792e82b4')\"\n",
              "            title=\"Suggest charts\"\n",
              "            style=\"display:none;\">\n",
              "\n",
              "<svg xmlns=\"http://www.w3.org/2000/svg\" height=\"24px\"viewBox=\"0 0 24 24\"\n",
              "     width=\"24px\">\n",
              "    <g>\n",
              "        <path d=\"M19 3H5c-1.1 0-2 .9-2 2v14c0 1.1.9 2 2 2h14c1.1 0 2-.9 2-2V5c0-1.1-.9-2-2-2zM9 17H7v-7h2v7zm4 0h-2V7h2v10zm4 0h-2v-4h2v4z\"/>\n",
              "    </g>\n",
              "</svg>\n",
              "  </button>\n",
              "\n",
              "<style>\n",
              "  .colab-df-quickchart {\n",
              "      --bg-color: #E8F0FE;\n",
              "      --fill-color: #1967D2;\n",
              "      --hover-bg-color: #E2EBFA;\n",
              "      --hover-fill-color: #174EA6;\n",
              "      --disabled-fill-color: #AAA;\n",
              "      --disabled-bg-color: #DDD;\n",
              "  }\n",
              "\n",
              "  [theme=dark] .colab-df-quickchart {\n",
              "      --bg-color: #3B4455;\n",
              "      --fill-color: #D2E3FC;\n",
              "      --hover-bg-color: #434B5C;\n",
              "      --hover-fill-color: #FFFFFF;\n",
              "      --disabled-bg-color: #3B4455;\n",
              "      --disabled-fill-color: #666;\n",
              "  }\n",
              "\n",
              "  .colab-df-quickchart {\n",
              "    background-color: var(--bg-color);\n",
              "    border: none;\n",
              "    border-radius: 50%;\n",
              "    cursor: pointer;\n",
              "    display: none;\n",
              "    fill: var(--fill-color);\n",
              "    height: 32px;\n",
              "    padding: 0;\n",
              "    width: 32px;\n",
              "  }\n",
              "\n",
              "  .colab-df-quickchart:hover {\n",
              "    background-color: var(--hover-bg-color);\n",
              "    box-shadow: 0 1px 2px rgba(60, 64, 67, 0.3), 0 1px 3px 1px rgba(60, 64, 67, 0.15);\n",
              "    fill: var(--button-hover-fill-color);\n",
              "  }\n",
              "\n",
              "  .colab-df-quickchart-complete:disabled,\n",
              "  .colab-df-quickchart-complete:disabled:hover {\n",
              "    background-color: var(--disabled-bg-color);\n",
              "    fill: var(--disabled-fill-color);\n",
              "    box-shadow: none;\n",
              "  }\n",
              "\n",
              "  .colab-df-spinner {\n",
              "    border: 2px solid var(--fill-color);\n",
              "    border-color: transparent;\n",
              "    border-bottom-color: var(--fill-color);\n",
              "    animation:\n",
              "      spin 1s steps(1) infinite;\n",
              "  }\n",
              "\n",
              "  @keyframes spin {\n",
              "    0% {\n",
              "      border-color: transparent;\n",
              "      border-bottom-color: var(--fill-color);\n",
              "      border-left-color: var(--fill-color);\n",
              "    }\n",
              "    20% {\n",
              "      border-color: transparent;\n",
              "      border-left-color: var(--fill-color);\n",
              "      border-top-color: var(--fill-color);\n",
              "    }\n",
              "    30% {\n",
              "      border-color: transparent;\n",
              "      border-left-color: var(--fill-color);\n",
              "      border-top-color: var(--fill-color);\n",
              "      border-right-color: var(--fill-color);\n",
              "    }\n",
              "    40% {\n",
              "      border-color: transparent;\n",
              "      border-right-color: var(--fill-color);\n",
              "      border-top-color: var(--fill-color);\n",
              "    }\n",
              "    60% {\n",
              "      border-color: transparent;\n",
              "      border-right-color: var(--fill-color);\n",
              "    }\n",
              "    80% {\n",
              "      border-color: transparent;\n",
              "      border-right-color: var(--fill-color);\n",
              "      border-bottom-color: var(--fill-color);\n",
              "    }\n",
              "    90% {\n",
              "      border-color: transparent;\n",
              "      border-bottom-color: var(--fill-color);\n",
              "    }\n",
              "  }\n",
              "</style>\n",
              "\n",
              "  <script>\n",
              "    async function quickchart(key) {\n",
              "      const quickchartButtonEl =\n",
              "        document.querySelector('#' + key + ' button');\n",
              "      quickchartButtonEl.disabled = true;  // To prevent multiple clicks.\n",
              "      quickchartButtonEl.classList.add('colab-df-spinner');\n",
              "      try {\n",
              "        const charts = await google.colab.kernel.invokeFunction(\n",
              "            'suggestCharts', [key], {});\n",
              "      } catch (error) {\n",
              "        console.error('Error during call to suggestCharts:', error);\n",
              "      }\n",
              "      quickchartButtonEl.classList.remove('colab-df-spinner');\n",
              "      quickchartButtonEl.classList.add('colab-df-quickchart-complete');\n",
              "    }\n",
              "    (() => {\n",
              "      let quickchartButtonEl =\n",
              "        document.querySelector('#df-c685da2f-d2f9-464f-9721-f2a7792e82b4 button');\n",
              "      quickchartButtonEl.style.display =\n",
              "        google.colab.kernel.accessAllowed ? 'block' : 'none';\n",
              "    })();\n",
              "  </script>\n",
              "</div>\n",
              "    </div>\n",
              "  </div>\n"
            ],
            "application/vnd.google.colaboratory.intrinsic+json": {
              "type": "dataframe",
              "variable_name": "mb_skip",
              "summary": "{\n  \"name\": \"mb_skip\",\n  \"rows\": 72,\n  \"fields\": [\n    {\n      \"column\": \"Taxon\",\n      \"properties\": {\n        \"dtype\": \"category\",\n        \"num_unique_values\": 5,\n        \"samples\": [\n          \"Proteobacteria\",\n          \"Other\",\n          \"Actinobacteria\"\n        ],\n        \"semantic_type\": \"\",\n        \"description\": \"\"\n      }\n    },\n    {\n      \"column\": \"Patient\",\n      \"properties\": {\n        \"dtype\": \"number\",\n        \"std\": 4,\n        \"min\": 1,\n        \"max\": 15,\n        \"num_unique_values\": 15,\n        \"samples\": [\n          13,\n          15,\n          1\n        ],\n        \"semantic_type\": \"\",\n        \"description\": \"\"\n      }\n    },\n    {\n      \"column\": \"Tissue\",\n      \"properties\": {\n        \"dtype\": \"number\",\n        \"std\": 1852,\n        \"min\": 0,\n        \"max\": 12044,\n        \"num_unique_values\": 67,\n        \"samples\": [\n          548,\n          12044,\n          173\n        ],\n        \"semantic_type\": \"\",\n        \"description\": \"\"\n      }\n    },\n    {\n      \"column\": \"Stool\",\n      \"properties\": {\n        \"dtype\": \"number\",\n        \"std\": 1368,\n        \"min\": 0,\n        \"max\": 8605,\n        \"num_unique_values\": 60,\n        \"samples\": [\n          305,\n          80,\n          21\n        ],\n        \"semantic_type\": \"\",\n        \"description\": \"\"\n      }\n    }\n  ]\n}"
            }
          },
          "metadata": {},
          "execution_count": 70
        }
      ],
      "source": [
        "mb_skip = pd.read_csv(\"/content/drive/My Drive/ICT - AI/Study Units/ARI5102 - Data Analysis Techniques/Tutorials/microbiome.csv\", skiprows=[2,3,4])\n",
        "mb_skip.head()"
      ]
    },
    {
      "cell_type": "markdown",
      "source": [
        "Conversely, if we only want to import a small number of rows from, say, a very large data file we can use `nrows`"
      ],
      "metadata": {
        "id": "IetIxPKjbHJQ"
      }
    },
    {
      "cell_type": "code",
      "source": [
        "mb_4rows = pd.read_csv(\"/content/drive/My Drive/ICT - AI/Study Units/ARI5102 - Data Analysis Techniques/Tutorials/microbiome.csv\", nrows=4)\n",
        "print(mb_4rows)"
      ],
      "metadata": {
        "colab": {
          "base_uri": "https://localhost:8080/"
        },
        "id": "VKDtMR96bJcg",
        "outputId": "df8256d3-3a3f-44fd-8d4a-cd271981519a"
      },
      "execution_count": null,
      "outputs": [
        {
          "output_type": "stream",
          "name": "stdout",
          "text": [
            "        Taxon  Patient  Tissue  Stool\n",
            "0  Firmicutes        1     632    305\n",
            "1  Firmicutes        2     136   4182\n",
            "2  Firmicutes        3    1174    703\n",
            "3  Firmicutes        4     408   3946\n"
          ]
        }
      ]
    },
    {
      "cell_type": "markdown",
      "source": [
        "Sometimes the data contain missing values\n"
      ],
      "metadata": {
        "id": "7MuzfVUucfF2"
      }
    },
    {
      "cell_type": "code",
      "source": [
        "mb = pd.read_csv(\"/content/drive/My Drive/ICT - AI/Study Units/ARI5102 - Data Analysis Techniques/Tutorials/microbiome_missing.csv\", nrows=10)\n",
        "print(mb)"
      ],
      "metadata": {
        "colab": {
          "base_uri": "https://localhost:8080/"
        },
        "id": "O-g10JoScjjM",
        "outputId": "4765616f-ae06-41fa-d38e-419341967b05"
      },
      "execution_count": null,
      "outputs": [
        {
          "output_type": "stream",
          "name": "stdout",
          "text": [
            "        Taxon  Patient  Tissue   Stool\n",
            "0  Firmicutes        1   632.0   305.0\n",
            "1  Firmicutes        2   136.0  4182.0\n",
            "2  Firmicutes        3     NaN   703.0\n",
            "3  Firmicutes        4   408.0  3946.0\n",
            "4  Firmicutes        5   831.0  8605.0\n",
            "5  Firmicutes        6   693.0    50.0\n",
            "6  Firmicutes        7   718.0   717.0\n",
            "7  Firmicutes        8   173.0    33.0\n",
            "8  Firmicutes        9   228.0     NaN\n",
            "9  Firmicutes       10   162.0  3196.0\n"
          ]
        }
      ]
    },
    {
      "cell_type": "markdown",
      "source": [
        "Again, we can use the `.isnull()` method to detect the null values.\n"
      ],
      "metadata": {
        "id": "wBmSgORPc2d_"
      }
    },
    {
      "cell_type": "code",
      "source": [
        "print(mb.isnull())"
      ],
      "metadata": {
        "colab": {
          "base_uri": "https://localhost:8080/"
        },
        "id": "KH8uJAjcc90S",
        "outputId": "b204d42f-1ddf-4b07-effe-61a7aee1de60"
      },
      "execution_count": null,
      "outputs": [
        {
          "output_type": "stream",
          "name": "stdout",
          "text": [
            "   Taxon  Patient  Tissue  Stool\n",
            "0  False    False   False  False\n",
            "1  False    False   False  False\n",
            "2  False    False    True  False\n",
            "3  False    False   False  False\n",
            "4  False    False   False  False\n",
            "5  False    False   False  False\n",
            "6  False    False   False  False\n",
            "7  False    False   False  False\n",
            "8  False    False   False   True\n",
            "9  False    False   False  False\n"
          ]
        }
      ]
    },
    {
      "cell_type": "markdown",
      "source": [
        "To fill the null values we can use the `.fillna()` method.\n"
      ],
      "metadata": {
        "id": "JiRQ4wJcdFp8"
      }
    },
    {
      "cell_type": "code",
      "source": [
        "mb_nan_to_fixed = mb.fillna(0) #it fills the null values with zeros\n",
        "print(mb_nan_to_fixed)\n"
      ],
      "metadata": {
        "colab": {
          "base_uri": "https://localhost:8080/"
        },
        "id": "VNns0JH_dN8c",
        "outputId": "9e04c8c5-6282-47e0-e5e3-a14327696e09"
      },
      "execution_count": null,
      "outputs": [
        {
          "output_type": "stream",
          "name": "stdout",
          "text": [
            "        Taxon  Patient  Tissue   Stool\n",
            "0  Firmicutes        1   632.0   305.0\n",
            "1  Firmicutes        2   136.0  4182.0\n",
            "2  Firmicutes        3     0.0   703.0\n",
            "3  Firmicutes        4   408.0  3946.0\n",
            "4  Firmicutes        5   831.0  8605.0\n",
            "5  Firmicutes        6   693.0    50.0\n",
            "6  Firmicutes        7   718.0   717.0\n",
            "7  Firmicutes        8   173.0    33.0\n",
            "8  Firmicutes        9   228.0     0.0\n",
            "9  Firmicutes       10   162.0  3196.0\n"
          ]
        }
      ]
    },
    {
      "cell_type": "code",
      "source": [
        "mb_nan_to_fixed_per_column = mb.fillna(value={'Tissue':100, 'Stool':25}) # it fills the null values of the Tissue column with 100 and\n",
        "print(mb_nan_to_fixed_per_column)                                        # the null values of the Stool column with 25 and"
      ],
      "metadata": {
        "colab": {
          "base_uri": "https://localhost:8080/"
        },
        "id": "B06f4MGzdt7c",
        "outputId": "358cab39-c65e-4fdf-9e39-43a555713ae2"
      },
      "execution_count": 76,
      "outputs": [
        {
          "output_type": "stream",
          "name": "stdout",
          "text": [
            "        Taxon  Patient  Tissue   Stool\n",
            "0  Firmicutes        1   632.0   305.0\n",
            "1  Firmicutes        2   136.0  4182.0\n",
            "2  Firmicutes        3   100.0   703.0\n",
            "3  Firmicutes        4   408.0  3946.0\n",
            "4  Firmicutes        5   831.0  8605.0\n",
            "5  Firmicutes        6   693.0    50.0\n",
            "6  Firmicutes        7   718.0   717.0\n",
            "7  Firmicutes        8   173.0    33.0\n",
            "8  Firmicutes        9   228.0    25.0\n",
            "9  Firmicutes       10   162.0  3196.0\n"
          ]
        }
      ]
    },
    {
      "cell_type": "code",
      "source": [
        "mb_fillna_based_on_data = mb.fillna(value={'Tissue':mb['Tissue'].median(), 'Stool':mb['Stool'].mean()}) # it fills the null values of the Tissue column with the median value of the cloumn\n",
        "print(mb_fillna_based_on_data)                                                                          # and the null values of the Stool column with mean value of the column"
      ],
      "metadata": {
        "colab": {
          "base_uri": "https://localhost:8080/"
        },
        "id": "t7NdtA28eC-N",
        "outputId": "950af60e-8f27-47b8-a0a9-4f78d17de2d8"
      },
      "execution_count": 77,
      "outputs": [
        {
          "output_type": "stream",
          "name": "stdout",
          "text": [
            "        Taxon  Patient  Tissue        Stool\n",
            "0  Firmicutes        1   632.0   305.000000\n",
            "1  Firmicutes        2   136.0  4182.000000\n",
            "2  Firmicutes        3   408.0   703.000000\n",
            "3  Firmicutes        4   408.0  3946.000000\n",
            "4  Firmicutes        5   831.0  8605.000000\n",
            "5  Firmicutes        6   693.0    50.000000\n",
            "6  Firmicutes        7   718.0   717.000000\n",
            "7  Firmicutes        8   173.0    33.000000\n",
            "8  Firmicutes        9   228.0  2415.222222\n",
            "9  Firmicutes       10   162.0  3196.000000\n"
          ]
        }
      ]
    }
  ],
  "metadata": {
    "colab": {
      "provenance": []
    },
    "kernelspec": {
      "display_name": "Python 3",
      "name": "python3"
    },
    "language_info": {
      "name": "python"
    }
  },
  "nbformat": 4,
  "nbformat_minor": 0
}